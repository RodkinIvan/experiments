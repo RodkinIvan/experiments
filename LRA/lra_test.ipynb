{
 "cells": [
  {
   "cell_type": "code",
   "execution_count": 1,
   "metadata": {
    "collapsed": true
   },
   "outputs": [],
   "source": [
    "import numpy as np\n",
    "import torch\n",
    "import torch.nn as nn\n",
    "import torch.nn.functional as functional\n",
    "from torch.optim import SGD\n",
    "from matplotlib import pyplot as plt\n",
    "from tqdm.notebook import tqdm\n",
    "from sklearn.datasets import fetch_openml\n",
    "import math\n",
    "\n",
    "np.random.seed(420)"
   ]
  },
  {
   "cell_type": "markdown",
   "source": [
    "# Load dataset"
   ],
   "metadata": {
    "collapsed": false,
    "pycharm": {
     "name": "#%% md\n"
    }
   }
  },
  {
   "cell_type": "code",
   "source": [
    "import torch.utils\n",
    "import torchvision\n",
    "import torchvision.transforms as transforms\n",
    "\n",
    "torch_enabled = False\n",
    "train_images = 0\n",
    "test_images = 0\n",
    "train_labels = 0\n",
    "test_labels = 0\n",
    "trainloader = 0\n",
    "\n",
    "def load_ds(name, num_test, shape=None):\n",
    "    \"\"\"\n",
    "    fetch dataset from openML.org and split to train/test\n",
    "    @param name - ID on openML (eg. 'mnist_784')\n",
    "    @param num_test - num. samples to take as test\n",
    "    @param shape - new reshape of a single data point (ie data['data'][0]) as a list. Eg. [28,28] for MNIST\n",
    "    \"\"\"\n",
    "    data = fetch_openml(name, version=1, data_home='./data', cache=True)\n",
    "    sz=data['target'].shape[0]\n",
    "\n",
    "    X = data['data']\n",
    "    if shape is not None:\n",
    "        new_shape = shape.insert(0, sz)\n",
    "        X = np.reshape(X, new_shape)\n",
    "\n",
    "    y = data['target'].astype(np.int32)\n",
    "    # split to train/test data\n",
    "    train_labels = y[:sz-num_test]\n",
    "    train_images = X[:sz-num_test]\n",
    "    test_labels  = y[sz-num_test:]\n",
    "    test_images  = X[sz-num_test:]\n",
    "\n",
    "    return train_labels, train_images, test_labels, test_images\n",
    "\n",
    "\n",
    "def shuffle_data(x, y):\n",
    "    indices = np.arange(len(y))\n",
    "    np.random.shuffle(indices)\n",
    "    x, y = np.array(x), np.array(y)\n",
    "    return x[indices], y[indices]\n",
    "\n",
    "\n",
    "def plot_flatten_image(flatten_image, image_height=28):\n",
    "    plt.imshow(flatten_image.reshape((image_height, -1)))\n",
    "\n",
    "\n",
    "def to_binary_flatten_images(images):\n",
    "    n_samples = images.shape[0]\n",
    "    # flatten every image to vector\n",
    "    images = images.reshape((n_samples, -1))\n",
    "    # binary encoding: each image pixel is encoded either 0 or 1 depending on that image mean value\n",
    "    images = (images >= images.mean(axis=1, keepdims=True)).astype(np.int8)\n",
    "    return images\n",
    "\n",
    "\n",
    "backprop_errors = []"
   ],
   "metadata": {
    "collapsed": false,
    "pycharm": {
     "name": "#%%\n"
    }
   },
   "execution_count": 5,
   "outputs": []
  },
  {
   "cell_type": "code",
   "execution_count": 6,
   "outputs": [
    {
     "ename": "NameError",
     "evalue": "name 'fetch_openml' is not defined",
     "output_type": "error",
     "traceback": [
      "\u001B[0;31m---------------------------------------------------------------------------\u001B[0m",
      "\u001B[0;31mNameError\u001B[0m                                 Traceback (most recent call last)",
      "\u001B[0;32m/tmp/ipykernel_258775/3604705138.py\u001B[0m in \u001B[0;36m<module>\u001B[0;34m\u001B[0m\n\u001B[1;32m     30\u001B[0m     )\n\u001B[1;32m     31\u001B[0m \u001B[0;32melse\u001B[0m\u001B[0;34m:\u001B[0m\u001B[0;34m\u001B[0m\u001B[0;34m\u001B[0m\u001B[0m\n\u001B[0;32m---> 32\u001B[0;31m     \u001B[0mtrain_labels\u001B[0m\u001B[0;34m,\u001B[0m \u001B[0mtrain_images\u001B[0m\u001B[0;34m,\u001B[0m \u001B[0mtest_labels\u001B[0m\u001B[0;34m,\u001B[0m \u001B[0mtest_images\u001B[0m \u001B[0;34m=\u001B[0m \u001B[0mload_ds\u001B[0m\u001B[0;34m(\u001B[0m\u001B[0;34m'mnist_784'\u001B[0m\u001B[0;34m,\u001B[0m \u001B[0;36m10000\u001B[0m\u001B[0;34m,\u001B[0m \u001B[0mshape\u001B[0m\u001B[0;34m=\u001B[0m\u001B[0;34m[\u001B[0m\u001B[0;36m28\u001B[0m\u001B[0;34m,\u001B[0m\u001B[0;36m28\u001B[0m\u001B[0;34m]\u001B[0m\u001B[0;34m)\u001B[0m\u001B[0;34m\u001B[0m\u001B[0;34m\u001B[0m\u001B[0m\n\u001B[0m\u001B[1;32m     33\u001B[0m \u001B[0;34m\u001B[0m\u001B[0m\n\u001B[1;32m     34\u001B[0m     \u001B[0mnp\u001B[0m\u001B[0;34m.\u001B[0m\u001B[0mrandom\u001B[0m\u001B[0;34m.\u001B[0m\u001B[0mseed\u001B[0m\u001B[0;34m(\u001B[0m\u001B[0;36m42\u001B[0m\u001B[0;34m)\u001B[0m\u001B[0;34m\u001B[0m\u001B[0;34m\u001B[0m\u001B[0m\n",
      "\u001B[0;32m/tmp/ipykernel_258775/1896474543.py\u001B[0m in \u001B[0;36mload_ds\u001B[0;34m(name, num_test, shape)\u001B[0m\n\u001B[1;32m     17\u001B[0m     \u001B[0;34m@\u001B[0m\u001B[0mparam\u001B[0m \u001B[0mshape\u001B[0m \u001B[0;34m-\u001B[0m \u001B[0mnew\u001B[0m \u001B[0mreshape\u001B[0m \u001B[0mof\u001B[0m \u001B[0ma\u001B[0m \u001B[0msingle\u001B[0m \u001B[0mdata\u001B[0m \u001B[0mpoint\u001B[0m \u001B[0;34m(\u001B[0m\u001B[0mie\u001B[0m \u001B[0mdata\u001B[0m\u001B[0;34m[\u001B[0m\u001B[0;34m'data'\u001B[0m\u001B[0;34m]\u001B[0m\u001B[0;34m[\u001B[0m\u001B[0;36m0\u001B[0m\u001B[0;34m]\u001B[0m\u001B[0;34m)\u001B[0m \u001B[0;32mas\u001B[0m \u001B[0ma\u001B[0m \u001B[0mlist\u001B[0m\u001B[0;34m.\u001B[0m \u001B[0mEg\u001B[0m\u001B[0;34m.\u001B[0m \u001B[0;34m[\u001B[0m\u001B[0;36m28\u001B[0m\u001B[0;34m,\u001B[0m\u001B[0;36m28\u001B[0m\u001B[0;34m]\u001B[0m \u001B[0;32mfor\u001B[0m \u001B[0mMNIST\u001B[0m\u001B[0;34m\u001B[0m\u001B[0;34m\u001B[0m\u001B[0m\n\u001B[1;32m     18\u001B[0m     \"\"\"\n\u001B[0;32m---> 19\u001B[0;31m     \u001B[0mdata\u001B[0m \u001B[0;34m=\u001B[0m \u001B[0mfetch_openml\u001B[0m\u001B[0;34m(\u001B[0m\u001B[0mname\u001B[0m\u001B[0;34m,\u001B[0m \u001B[0mversion\u001B[0m\u001B[0;34m=\u001B[0m\u001B[0;36m1\u001B[0m\u001B[0;34m,\u001B[0m \u001B[0mdata_home\u001B[0m\u001B[0;34m=\u001B[0m\u001B[0;34m'./data'\u001B[0m\u001B[0;34m,\u001B[0m \u001B[0mcache\u001B[0m\u001B[0;34m=\u001B[0m\u001B[0;32mTrue\u001B[0m\u001B[0;34m)\u001B[0m\u001B[0;34m\u001B[0m\u001B[0;34m\u001B[0m\u001B[0m\n\u001B[0m\u001B[1;32m     20\u001B[0m     \u001B[0msz\u001B[0m\u001B[0;34m=\u001B[0m\u001B[0mdata\u001B[0m\u001B[0;34m[\u001B[0m\u001B[0;34m'target'\u001B[0m\u001B[0;34m]\u001B[0m\u001B[0;34m.\u001B[0m\u001B[0mshape\u001B[0m\u001B[0;34m[\u001B[0m\u001B[0;36m0\u001B[0m\u001B[0;34m]\u001B[0m\u001B[0;34m\u001B[0m\u001B[0;34m\u001B[0m\u001B[0m\n\u001B[1;32m     21\u001B[0m \u001B[0;34m\u001B[0m\u001B[0m\n",
      "\u001B[0;31mNameError\u001B[0m: name 'fetch_openml' is not defined"
     ]
    }
   ],
   "source": [
    "if torch_enabled:\n",
    "    transform = transforms.Compose(\n",
    "        [transforms.ToTensor(),\n",
    "         transforms.Normalize((0.5,), (0.5,))]\n",
    "    )\n",
    "\n",
    "    trainset = torchvision.datasets.MNIST(\n",
    "        root='./data',\n",
    "        train=True,\n",
    "        download=True,\n",
    "        transform=transform\n",
    "    )\n",
    "    trainloader = torch.utils.data.DataLoader(\n",
    "        trainset,\n",
    "        batch_size=4,\n",
    "        shuffle=False,\n",
    "        num_workers=2\n",
    "    )\n",
    "    testset = torchvision.datasets.MNIST(\n",
    "        root='./data',\n",
    "        train=False,\n",
    "        download=True,\n",
    "        transform=transform\n",
    "    )\n",
    "    testloader = torch.utils.data.DataLoader(\n",
    "        testset,\n",
    "        batch_size=4,\n",
    "        shuffle=False,\n",
    "        num_workers=2\n",
    "    )\n",
    "else:\n",
    "    train_labels, train_images, test_labels, test_images = load_ds('mnist_784', 10000, shape=[28,28])\n",
    "\n",
    "    np.random.seed(42)\n",
    "    train_images, train_labels = shuffle_data(train_images, train_labels)\n",
    "    test_images, test_labels = shuffle_data(test_images, test_labels)\n",
    "\n",
    "    n_train_samples = train_images.shape[0]\n",
    "    n_test_samples = test_images.shape[0]\n",
    "    image_shape = train_images[0].shape\n",
    "    image_side = image_shape[0]\n",
    "    image_size = image_side ** 2\n",
    "    train_images = to_binary_flatten_images(train_images)\n",
    "    test_images = to_binary_flatten_images(test_images)\n",
    "    plot_flatten_image(train_images[0])\n",
    "    print('numpy DS loaded')"
   ],
   "metadata": {
    "collapsed": false,
    "pycharm": {
     "name": "#%%\n"
    }
   }
  },
  {
   "cell_type": "code",
   "execution_count": 4,
   "outputs": [
    {
     "data": {
      "text/plain": "7"
     },
     "execution_count": 4,
     "metadata": {},
     "output_type": "execute_result"
    }
   ],
   "source": [
    "train_labels[0]"
   ],
   "metadata": {
    "collapsed": false,
    "pycharm": {
     "name": "#%%\n"
    }
   }
  },
  {
   "cell_type": "markdown",
   "source": [
    "# Torch convolutional net (now unused)"
   ],
   "metadata": {
    "collapsed": false,
    "pycharm": {
     "name": "#%% md\n"
    }
   }
  },
  {
   "cell_type": "code",
   "execution_count": 3,
   "outputs": [],
   "source": [
    "class Conv2Lin2Net(nn.Module):\n",
    "    c1 = 6\n",
    "    c2 = 16\n",
    "    ker_sz = 5\n",
    "    ker = (ker_sz, ker_sz)\n",
    "    pooling_square_side = 2\n",
    "    linear_hidden_sz = 1200\n",
    "\n",
    "    def __init__(self, image_side, number_of_classes):\n",
    "        c1 = self.c1\n",
    "        c2 = self.c2\n",
    "        ker_sz = self.ker_sz\n",
    "        ker = self.ker\n",
    "        pooling_square_side = self.pooling_square_side\n",
    "        linear_hidden_sz = self.linear_hidden_sz\n",
    "\n",
    "        self.image_side = image_side\n",
    "        self.number_of_classes = number_of_classes\n",
    "        self.linear_layer_input = c2 * (((image_side - ker_sz + 1) // pooling_square_side - ker_sz + 1) // pooling_square_side) ** 2\n",
    "\n",
    "        super(Conv2Lin2Net, self).__init__()\n",
    "        self.conv1 = nn.Conv2d(1, c1, ker)\n",
    "        self.pool = nn.MaxPool2d(pooling_square_side, pooling_square_side)\n",
    "        self.conv2 = nn.Conv2d(c1, c2, ker)\n",
    "        self.full_connected1 = nn.Linear(self.linear_layer_input, linear_hidden_sz)\n",
    "        self.full_connected2 = nn.Linear(linear_hidden_sz, number_of_classes)\n",
    "\n",
    "    def forward(self, x: torch.tensor) -> np.ndarray:\n",
    "        x = self.pool(functional.relu(self.conv1(x)))\n",
    "        x = self.pool(functional.relu(self.conv2(x)))\n",
    "        x = x.view(-1, self.linear_layer_input)\n",
    "        x = functional.sigmoid(self.full_connected1(x))\n",
    "        x = functional.sigmoid(self.full_connected2(x))\n",
    "        return x"
   ],
   "metadata": {
    "collapsed": false,
    "pycharm": {
     "name": "#%%class NN\n"
    }
   }
  },
  {
   "cell_type": "markdown",
   "source": [
    "# Torch Linear MLP"
   ],
   "metadata": {
    "collapsed": false,
    "pycharm": {
     "name": "#%% md\n"
    }
   }
  },
  {
   "cell_type": "code",
   "source": [
    "from torch import t\n",
    "class Linear3Net(nn.Module):\n",
    "    # number of neurons in hidden layers\n",
    "    hidden1 = 16\n",
    "    hidden2 = 16\n",
    "    def __init__(self, image_side, number_of_classes):\n",
    "        self.states = [0]*4\n",
    "        self.inputs = [0]*4\n",
    "        self.image_side = image_side\n",
    "        self.number_of_classes = number_of_classes\n",
    "\n",
    "        super(Linear3Net, self).__init__()\n",
    "\n",
    "        self.full_connected1 = nn.Linear(image_side**2, self.hidden1)\n",
    "        self.full_connected2 = nn.Linear(self.hidden1, self.hidden2)\n",
    "        self.full_connected3 = nn.Linear(self.hidden2, number_of_classes)\n",
    "    def forward(self, x):\n",
    "        x = x.flatten().to(torch.float32)\n",
    "        x = torch.tanh(self.full_connected1(x))\n",
    "        x = torch.tanh(self.full_connected2(x))\n",
    "        x = torch.tanh(self.full_connected3(x))\n",
    "        return x\n",
    "\n",
    "    def lra_forward(self, x):\n",
    "        x = x.flatten()\n",
    "        self.states[0] = t(x)\n",
    "\n",
    "        x = self.full_connected1(x)\n",
    "        self.inputs[1] = x\n",
    "        x = torch.tanh(x)\n",
    "        self.states[1] = x\n",
    "\n",
    "        x = self.full_connected2(x)\n",
    "        self.inputs[2] = x\n",
    "        x = torch.tanh(x)\n",
    "        self.states[2] = x\n",
    "\n",
    "        x = self.full_connected3(x)\n",
    "        self.inputs[3] = x\n",
    "        x = torch.tanh(x)\n",
    "        self.states[3] = x\n",
    "\n",
    "        return x\n",
    "\n",
    "lin = Linear3Net(28, 10)\n",
    "lin.forward(torch.from_numpy(train_images[0]))"
   ],
   "metadata": {
    "collapsed": false,
    "pycharm": {
     "name": "#%%\n"
    }
   },
   "execution_count": 30,
   "outputs": [
    {
     "data": {
      "text/plain": "tensor([-0.0923,  0.2556,  0.1109, -0.2058, -0.0069,  0.2518, -0.0619, -0.0844,\n         0.2576, -0.2114], grad_fn=<TanhBackward0>)"
     },
     "execution_count": 30,
     "metadata": {},
     "output_type": "execute_result"
    }
   ]
  },
  {
   "cell_type": "markdown",
   "source": [
    "# Torch Backprop test"
   ],
   "metadata": {
    "collapsed": false,
    "pycharm": {
     "name": "#%% md\n"
    }
   }
  },
  {
   "cell_type": "code",
   "execution_count": 121,
   "outputs": [
    {
     "data": {
      "text/plain": "  0%|          | 0/360 [00:00<?, ?it/s]",
      "application/vnd.jupyter.widget-view+json": {
       "version_major": 2,
       "version_minor": 0,
       "model_id": "24563a6e7bfc4cb3a2a9dbf043bbd94e"
      }
     },
     "metadata": {},
     "output_type": "display_data"
    },
    {
     "name": "stdout",
     "output_type": "stream",
     "text": [
      "Finished Training\n"
     ]
    }
   ],
   "source": [
    "criterion = functional.mse_loss\n",
    "lra = False\n",
    "def learn_on_torchvision(nt, train_loader, epochs=3):\n",
    "    bar = tqdm(range(math.ceil(7*epochs)))\n",
    "\n",
    "    # optimizer = SGD(nt.parameters(), lr=0.001, momentum=0.9)\n",
    "    optimizer = torch.optim.Adam(nt.parameters(), lr=0.001)\n",
    "\n",
    "    for epoch in range(epochs):  # loop over the dataset multiple times\n",
    "\n",
    "        running_loss = 0.0\n",
    "        for i, data in enumerate(train_loader, 0):\n",
    "            # get the inputs; data is a list of [inputs, labels]\n",
    "            inputs, labels = data\n",
    "            labels = functional.one_hot(labels, num_classes=10)\n",
    "            labels = labels.to(torch.float32)\n",
    "            optimizer.zero_grad()\n",
    "\n",
    "            # forward + backward + optimize\n",
    "            outputs = nt(inputs)\n",
    "            loss = criterion(outputs, labels, reduction='sum')\n",
    "            loss.backward()\n",
    "            optimizer.step()\n",
    "\n",
    "            # print statistics\n",
    "            running_loss += loss.item()\n",
    "            if i % 2000 == 1999:  # print every 2000 mini-batches\n",
    "                bar.update()\n",
    "                backprop_errors.append(running_loss / 2000)\n",
    "                running_loss = 0.0\n",
    "\n",
    "    print('Finished Training')\n",
    "def learn_torch_on_np_ds(nt, train_im, train_lb, epochs=3, errors_container=backprop_errors):\n",
    "    step = 500\n",
    "    upper_bound = train_im.shape[0]\n",
    "    bar = tqdm(range(math.ceil(upper_bound*epochs/step)))\n",
    "    optimizer = SGD(nt.parameters(), lr=0.001, momentum=0.9)\n",
    "    # optimizer = torch.optim.Adam(nt.parameters(), lr=0.001)\n",
    "    for epoch in range(epochs):  # loop over the dataset multiple times\n",
    "\n",
    "        running_loss = 0.0\n",
    "        for i, inputs in enumerate(train_im, 0):\n",
    "            labels = torch.zeros(10)\n",
    "            labels[train_lb[i]] = 1\n",
    "            labels = labels.to(torch.float32)\n",
    "            optimizer.zero_grad()\n",
    "\n",
    "            # forward + backward + optimize\n",
    "            outputs = nt(torch.from_numpy(inputs))\n",
    "            loss = criterion(outputs, labels, reduction='mean')\n",
    "            loss.backward()\n",
    "            optimizer.step()\n",
    "\n",
    "            # print statistics\n",
    "            running_loss += loss.item()\n",
    "            if i % step == step-1:\n",
    "                bar.update()\n",
    "                mean_loss = running_loss / step\n",
    "                errors_container.append(mean_loss)\n",
    "                running_loss = 0.0\n",
    "\n",
    "    print('Finished Training')\n",
    "\n",
    "\n",
    "net = Linear3Net(28, 10)\n",
    "# print(net.full_connected1.weight.size())\n",
    "adam_errors = []\n",
    "sgd_errors = []\n",
    "learn_torch_on_np_ds(net, train_images[:100000], train_labels[:100000], epochs=3, errors_container=sgd_errors)"
   ],
   "metadata": {
    "collapsed": false,
    "pycharm": {
     "name": "#%%\n"
    }
   }
  },
  {
   "cell_type": "code",
   "execution_count": 126,
   "outputs": [
    {
     "data": {
      "text/plain": "[<matplotlib.lines.Line2D at 0x7f3556d58280>]"
     },
     "execution_count": 126,
     "metadata": {},
     "output_type": "execute_result"
    },
    {
     "data": {
      "text/plain": "<Figure size 432x288 with 1 Axes>",
      "image/png": "[encoded data removed]"
     },
     "metadata": {
      "needs_background": "light"
     },
     "output_type": "display_data"
    }
   ],
   "source": [
    "plt.plot(range(len(backprop_errors)), backprop_errors)"
   ],
   "metadata": {
    "collapsed": false,
    "pycharm": {
     "name": "#%%\n"
    }
   }
  },
  {
   "cell_type": "markdown",
   "source": [
    "# Numpy version of MLP"
   ],
   "metadata": {
    "collapsed": false,
    "pycharm": {
     "name": "#%% md\n"
    }
   }
  },
  {
   "cell_type": "code",
   "execution_count": 1,
   "outputs": [
    {
     "ename": "NameError",
     "evalue": "name 'train_images' is not defined",
     "output_type": "error",
     "traceback": [
      "\u001B[0;31m---------------------------------------------------------------------------\u001B[0m",
      "\u001B[0;31mNameError\u001B[0m                                 Traceback (most recent call last)",
      "\u001B[0;32m/tmp/ipykernel_258775/3882420930.py\u001B[0m in \u001B[0;36m<module>\u001B[0;34m\u001B[0m\n\u001B[1;32m      5\u001B[0m     \u001B[0mplt\u001B[0m\u001B[0;34m.\u001B[0m\u001B[0mimshow\u001B[0m\u001B[0;34m(\u001B[0m\u001B[0mflatten_image\u001B[0m\u001B[0;34m.\u001B[0m\u001B[0mreshape\u001B[0m\u001B[0;34m(\u001B[0m\u001B[0;34m(\u001B[0m\u001B[0mimage_height\u001B[0m\u001B[0;34m,\u001B[0m \u001B[0;34m-\u001B[0m\u001B[0;36m1\u001B[0m\u001B[0;34m)\u001B[0m\u001B[0;34m)\u001B[0m\u001B[0;34m)\u001B[0m\u001B[0;34m\u001B[0m\u001B[0;34m\u001B[0m\u001B[0m\n\u001B[1;32m      6\u001B[0m \u001B[0;34m\u001B[0m\u001B[0m\n\u001B[0;32m----> 7\u001B[0;31m \u001B[0minputs_v\u001B[0m \u001B[0;34m=\u001B[0m \u001B[0mtrain_images\u001B[0m\u001B[0;34m[\u001B[0m\u001B[0;36m0\u001B[0m\u001B[0;34m]\u001B[0m\u001B[0;34m\u001B[0m\u001B[0;34m\u001B[0m\u001B[0m\n\u001B[0m\u001B[1;32m      8\u001B[0m \u001B[0mlabels_v\u001B[0m \u001B[0;34m=\u001B[0m \u001B[0mtrain_labels\u001B[0m\u001B[0;34m[\u001B[0m\u001B[0;36m0\u001B[0m\u001B[0;34m]\u001B[0m\u001B[0;34m\u001B[0m\u001B[0;34m\u001B[0m\u001B[0m\n\u001B[1;32m      9\u001B[0m \u001B[0mmlp_test\u001B[0m \u001B[0;34m=\u001B[0m \u001B[0mMLP\u001B[0m\u001B[0;34m(\u001B[0m\u001B[0;34m[\u001B[0m\u001B[0;36m784\u001B[0m\u001B[0;34m,\u001B[0m \u001B[0;36m100\u001B[0m\u001B[0;34m,\u001B[0m \u001B[0;36m100\u001B[0m\u001B[0;34m,\u001B[0m \u001B[0;36m10\u001B[0m\u001B[0;34m]\u001B[0m\u001B[0;34m)\u001B[0m\u001B[0;34m\u001B[0m\u001B[0;34m\u001B[0m\u001B[0m\n",
      "\u001B[0;31mNameError\u001B[0m: name 'train_images' is not defined"
     ]
    }
   ],
   "source": [
    "import numpy as np\n",
    "from lra_mlp import MLP, clip\n",
    "\n",
    "def plot_flatten_image(flatten_image, image_height=28):\n",
    "    plt.imshow(flatten_image.reshape((image_height, -1)))\n",
    "\n",
    "inputs_v = train_images[0]\n",
    "labels_v = train_labels[0]\n",
    "mlp_test = MLP([784, 100, 100, 10])\n",
    "for i in range(1000):\n",
    "    mlp_test.lra_forward(inputs_v)\n",
    "mlp_test.lra_step(labels_v, fdbk=True)\n",
    "mlp_test.FA_step(labels_v)\n",
    "plot_flatten_image(inputs_v.flatten())\n",
    "clip(np.random.normal(0, 0.1, (2,2)), 0.1)"
   ],
   "metadata": {
    "collapsed": false,
    "pycharm": {
     "name": "#%%\n"
    }
   }
  },
  {
   "cell_type": "code",
   "execution_count": 134,
   "outputs": [],
   "source": [
    "\n",
    "def one_hot(label, num_classes = 10):\n",
    "    result = np.zeros(num_classes)\n",
    "    result[label] = 1\n",
    "    return result\n",
    "\n",
    "\n",
    "def np_learn(nt: MLP, train_im, train_lb, epochs=3, optimizer = 'bp', errors_container = backprop_errors, **kwargs):\n",
    "    step = 500\n",
    "    upper_bound = train_im.shape[0]\n",
    "    bar = tqdm(range(math.ceil(upper_bound*epochs/step)))\n",
    "    spd = 0.01\n",
    "    for epoch in range(epochs):  # loop over the dataset multiple times\n",
    "        running_loss = 0.0\n",
    "        for i, inputs in enumerate(train_im, 0):\n",
    "\n",
    "            labels = one_hot(train_lb[i])\n",
    "            outputs = nt.forward(optimizer, inputs)\n",
    "            nt.optim_step(optimizer, labels, spd=spd, **kwargs)\n",
    "\n",
    "            loss = ((outputs - labels) ** 2).mean(axis=0)\n",
    "            running_loss += loss\n",
    "\n",
    "            if i % step == step-1:\n",
    "                spd *= 0.995\n",
    "                bar.update()\n",
    "                mean_loss = running_loss / step\n",
    "                errors_container.append(mean_loss)\n",
    "                running_loss = 0.0"
   ],
   "metadata": {
    "collapsed": false,
    "pycharm": {
     "name": "#%%\n"
    }
   }
  },
  {
   "cell_type": "markdown",
   "source": [
    "# Experiments"
   ],
   "metadata": {
    "collapsed": false,
    "pycharm": {
     "name": "#%% md\n"
    }
   }
  },
  {
   "cell_type": "code",
   "execution_count": 236,
   "outputs": [],
   "source": [
    "layers = [784, 16, 16, 10]\n",
    "train_size = 100000\n",
    "epochs = 3"
   ],
   "metadata": {
    "collapsed": false,
    "pycharm": {
     "name": "#%%\n"
    }
   }
  },
  {
   "cell_type": "code",
   "execution_count": 237,
   "outputs": [
    {
     "data": {
      "text/plain": "  0%|          | 0/360 [00:00<?, ?it/s]",
      "application/vnd.jupyter.widget-view+json": {
       "version_major": 2,
       "version_minor": 0,
       "model_id": "f2a5faf5493f407bae7d80d1104705fd"
      }
     },
     "metadata": {},
     "output_type": "display_data"
    }
   ],
   "source": [
    "backprop_errors = []\n",
    "mlp = MLP(layers)\n",
    "np_learn(\n",
    "    mlp,\n",
    "    train_images[:train_size],\n",
    "    train_labels[:train_size],\n",
    "    epochs=epochs,\n",
    "    optimizer='bp',\n",
    "    errors_container=backprop_errors\n",
    ")"
   ],
   "metadata": {
    "collapsed": false,
    "pycharm": {
     "name": "#%%\n"
    }
   }
  },
  {
   "cell_type": "code",
   "execution_count": 141,
   "outputs": [
    {
     "data": {
      "text/plain": "  0%|          | 0/360 [00:00<?, ?it/s]",
      "application/vnd.jupyter.widget-view+json": {
       "version_major": 2,
       "version_minor": 0,
       "model_id": "dba37656cac14fb186ec29838e44f7b9"
      }
     },
     "metadata": {},
     "output_type": "display_data"
    }
   ],
   "source": [
    "lra_errors = []\n",
    "mlp = MLP(layers)\n",
    "np_learn(\n",
    "    mlp,\n",
    "    train_images[:train_size],\n",
    "    train_labels[:train_size],\n",
    "    epochs=epochs,\n",
    "    optimizer='lra_diff',\n",
    "    errors_container=lra_errors,\n",
    "    iterations_num=2\n",
    ")"
   ],
   "metadata": {
    "collapsed": false,
    "pycharm": {
     "name": "#%%\n"
    }
   }
  },
  {
   "cell_type": "code",
   "execution_count": 83,
   "outputs": [
    {
     "data": {
      "text/plain": "  0%|          | 0/360 [00:00<?, ?it/s]",
      "application/vnd.jupyter.widget-view+json": {
       "version_major": 2,
       "version_minor": 0,
       "model_id": "501750ab5f03423a96596d8cc0333ad6"
      }
     },
     "metadata": {},
     "output_type": "display_data"
    }
   ],
   "source": [
    "fdbk_errors = []\n",
    "mlp = MLP(layers)\n",
    "np_learn(\n",
    "    mlp,\n",
    "    train_images[:train_size],\n",
    "    train_labels[:train_size],\n",
    "    epochs=epochs,\n",
    "    optimizer='lra_fdbk',\n",
    "    errors_container=fdbk_errors\n",
    ")"
   ],
   "metadata": {
    "collapsed": false,
    "pycharm": {
     "name": "#%%\n"
    }
   }
  },
  {
   "cell_type": "code",
   "execution_count": 238,
   "outputs": [
    {
     "data": {
      "text/plain": "  0%|          | 0/360 [00:00<?, ?it/s]",
      "application/vnd.jupyter.widget-view+json": {
       "version_major": 2,
       "version_minor": 0,
       "model_id": "ec0fbcf637984b219bbad582e8f48822"
      }
     },
     "metadata": {},
     "output_type": "display_data"
    }
   ],
   "source": [
    "FA_errors = []\n",
    "mlp = MLP(layers)\n",
    "np_learn(\n",
    "    mlp,\n",
    "    train_images[:train_size],\n",
    "    train_labels[:train_size],\n",
    "    epochs=epochs,\n",
    "    optimizer='FA',\n",
    "    errors_container=FA_errors\n",
    ")\n"
   ],
   "metadata": {
    "collapsed": false,
    "pycharm": {
     "name": "#%%\n"
    }
   }
  },
  {
   "cell_type": "code",
   "execution_count": 244,
   "outputs": [
    {
     "data": {
      "text/plain": "  0%|          | 0/360 [00:00<?, ?it/s]",
      "application/vnd.jupyter.widget-view+json": {
       "version_major": 2,
       "version_minor": 0,
       "model_id": "d2122ad295aa4bd78d213e4290e242de"
      }
     },
     "metadata": {},
     "output_type": "display_data"
    }
   ],
   "source": [
    "random_matrix = np.random.normal(0, 0.1, (16, 784))\n",
    "backprop_errors = []\n",
    "randomed_data = np.zeros((60000, 16))\n",
    "for i in range(60000):\n",
    "    randomed_data[i] = random_matrix @ train_images[i]\n",
    "\n",
    "test_layers = [16, 10]\n",
    "test_mlp = MLP(test_layers)\n",
    "np_learn(\n",
    "    test_mlp,\n",
    "    randomed_data[:train_size],\n",
    "    train_labels[:train_size],\n",
    "    epochs=epochs,\n",
    "    optimizer='bp',\n",
    "    errors_container=backprop_errors\n",
    ")"
   ],
   "metadata": {
    "collapsed": false,
    "pycharm": {
     "name": "#%%\n"
    }
   }
  },
  {
   "cell_type": "code",
   "execution_count": 245,
   "outputs": [
    {
     "data": {
      "text/plain": "Text(0.5, 1.0, '3 layers')"
     },
     "execution_count": 245,
     "metadata": {},
     "output_type": "execute_result"
    },
    {
     "data": {
      "text/plain": "<Figure size 432x288 with 1 Axes>",
      "image/png": "[encoded data removed]"
     },
     "metadata": {
      "needs_background": "light"
     },
     "output_type": "display_data"
    }
   ],
   "source": [
    "# plt.plot(range(len(adam_errors)), adam_errors,        label='torch.Adam', linewidth=0.5)\n",
    "# plt.plot(range(len(sgd_errors)), sgd_errors,          label='torch.SGD',  linewidth=0.5)\n",
    "plt.plot(range(len(backprop_errors)), backprop_errors,  label='BP',         linewidth=0.5)\n",
    "# plt.plot(range(len(lra_errors)), lra_errors,            label='lra_diff',   linewidth=0.5)\n",
    "# plt.plot(range(len(fdbk_errors)), fdbk_errors,          label='lra_fdbk',   linewidth=0.5)\n",
    "plt.plot(range(len(FA_errors)), FA_errors,            label='FA',         linewidth=0.5)\n",
    "plt.legend()\n",
    "plt.title(f'{len(layers)-1} layers')"
   ],
   "metadata": {
    "collapsed": false,
    "pycharm": {
     "name": "#%%\n"
    }
   }
  },
  {
   "cell_type": "code",
   "execution_count": null,
   "outputs": [],
   "source": [],
   "metadata": {
    "collapsed": false,
    "pycharm": {
     "name": "#%%\n"
    }
   }
  }
 ],
 "metadata": {
  "kernelspec": {
   "display_name": "Python 3",
   "language": "python",
   "name": "python3"
  },
  "language_info": {
   "codemirror_mode": {
    "name": "ipython",
    "version": 2
   },
   "file_extension": ".py",
   "mimetype": "text/x-python",
   "name": "python",
   "nbconvert_exporter": "python",
   "pygments_lexer": "ipython2",
   "version": "2.7.6"
  }
 },
 "nbformat": 4,
 "nbformat_minor": 0
}
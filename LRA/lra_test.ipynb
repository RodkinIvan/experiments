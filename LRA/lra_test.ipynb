{
 "cells": [
  {
   "cell_type": "code",
   "execution_count": 125,
   "metadata": {
    "collapsed": true
   },
   "outputs": [],
   "source": [
    "import numpy as np\n",
    "import torch\n",
    "import torch.nn as nn\n",
    "import torch.nn.functional as functional\n",
    "from torch.optim import SGD\n",
    "from matplotlib import pyplot as plt\n",
    "from tqdm.notebook import tqdm\n",
    "from sklearn.datasets import fetch_openml\n",
    "import math\n",
    "\n",
    "np.random.seed(420)"
   ]
  },
  {
   "cell_type": "markdown",
   "source": [
    "# Load dataset"
   ],
   "metadata": {
    "collapsed": false,
    "pycharm": {
     "name": "#%% md\n"
    }
   }
  },
  {
   "cell_type": "code",
   "source": [
    "import torch.utils\n",
    "import torchvision\n",
    "import torchvision.transforms as transforms\n",
    "\n",
    "torch_enabled = False\n",
    "train_images = 0\n",
    "test_images = 0\n",
    "train_labels = 0\n",
    "test_labels = 0\n",
    "trainloader = 0\n",
    "\n",
    "def load_ds(name, num_test, shape=None):\n",
    "    \"\"\"\n",
    "    fetch dataset from openML.org and split to train/test\n",
    "    @param name - ID on openML (eg. 'mnist_784')\n",
    "    @param num_test - num. samples to take as test\n",
    "    @param shape - new reshape of a single data point (ie data['data'][0]) as a list. Eg. [28,28] for MNIST\n",
    "    \"\"\"\n",
    "    data = fetch_openml(name, version=1, data_home='./data', cache=True)\n",
    "    sz=data['target'].shape[0]\n",
    "\n",
    "    X = data['data']\n",
    "    if shape is not None:\n",
    "        new_shape = shape.insert(0, sz)\n",
    "        X = np.reshape(X, new_shape)\n",
    "\n",
    "    y = data['target'].astype(np.int32)\n",
    "    # split to train/test data\n",
    "    train_labels = y[:sz-num_test]\n",
    "    train_images = X[:sz-num_test]\n",
    "    test_labels  = y[sz-num_test:]\n",
    "    test_images  = X[sz-num_test:]\n",
    "\n",
    "    return train_labels, train_images, test_labels, test_images\n",
    "\n",
    "\n",
    "def shuffle_data(x, y):\n",
    "    indices = np.arange(len(y))\n",
    "    np.random.shuffle(indices)\n",
    "    x, y = np.array(x), np.array(y)\n",
    "    return x[indices], y[indices]\n",
    "\n",
    "\n",
    "def plot_flatten_image(flatten_image, image_height=28):\n",
    "    plt.imshow(flatten_image.reshape((image_height, -1)))\n",
    "\n",
    "\n",
    "def to_binary_flatten_images(images):\n",
    "    n_samples = images.shape[0]\n",
    "    # flatten every image to vector\n",
    "    images = images.reshape((n_samples, -1))\n",
    "    # binary encoding: each image pixel is encoded either 0 or 1 depending on that image mean value\n",
    "    images = (images >= images.mean(axis=1, keepdims=True)).astype(np.int8)\n",
    "    return images\n",
    "\n",
    "\n"
   ],
   "metadata": {
    "collapsed": false,
    "pycharm": {
     "name": "#%%\n"
    }
   },
   "execution_count": 112,
   "outputs": []
  },
  {
   "cell_type": "code",
   "execution_count": 115,
   "outputs": [
    {
     "name": "stdout",
     "output_type": "stream",
     "text": [
      "numpy DS loaded\n"
     ]
    },
    {
     "data": {
      "text/plain": "<Figure size 432x288 with 1 Axes>",
      "image/png": "[encoded data removed]"
     },
     "metadata": {
      "needs_background": "light"
     },
     "output_type": "display_data"
    }
   ],
   "source": [
    "\n",
    "if torch_enabled:\n",
    "    transform = transforms.Compose(\n",
    "        [transforms.ToTensor(),\n",
    "         transforms.Normalize((0.5,), (0.5,))]\n",
    "    )\n",
    "\n",
    "    trainset = torchvision.datasets.MNIST(\n",
    "        root='./data',\n",
    "        train=True,\n",
    "        download=True,\n",
    "        transform=transform\n",
    "    )\n",
    "    trainloader = torch.utils.data.DataLoader(\n",
    "        trainset,\n",
    "        batch_size=4,\n",
    "        shuffle=False,\n",
    "        num_workers=2\n",
    "    )\n",
    "    testset = torchvision.datasets.MNIST(\n",
    "        root='./data',\n",
    "        train=False,\n",
    "        download=True,\n",
    "        transform=transform\n",
    "    )\n",
    "    testloader = torch.utils.data.DataLoader(\n",
    "        testset,\n",
    "        batch_size=4,\n",
    "        shuffle=False,\n",
    "        num_workers=2\n",
    "    )\n",
    "else:\n",
    "    train_labels, train_images, test_labels, test_images = load_ds('mnist_784', 10000, shape=[28,28])\n",
    "\n",
    "    np.random.seed(42)\n",
    "    train_images, train_labels = shuffle_data(train_images, train_labels)\n",
    "    test_images, test_labels = shuffle_data(test_images, test_labels)\n",
    "\n",
    "    n_train_samples = train_images.shape[0]\n",
    "    n_test_samples = test_images.shape[0]\n",
    "    image_shape = train_images[0].shape\n",
    "    image_side = image_shape[0]\n",
    "    image_size = image_side ** 2\n",
    "    train_images = to_binary_flatten_images(train_images)\n",
    "    test_images = to_binary_flatten_images(test_images)\n",
    "    plot_flatten_image(train_images[0])\n",
    "    print('numpy DS loaded')"
   ],
   "metadata": {
    "collapsed": false,
    "pycharm": {
     "name": "#%%\n"
    }
   }
  },
  {
   "cell_type": "code",
   "execution_count": 4,
   "outputs": [
    {
     "data": {
      "text/plain": "7"
     },
     "execution_count": 4,
     "metadata": {},
     "output_type": "execute_result"
    }
   ],
   "source": [
    "train_labels[0]"
   ],
   "metadata": {
    "collapsed": false,
    "pycharm": {
     "name": "#%%\n"
    }
   }
  },
  {
   "cell_type": "markdown",
   "source": [
    "# Torch convolutional net (now unused)"
   ],
   "metadata": {
    "collapsed": false,
    "pycharm": {
     "name": "#%% md\n"
    }
   }
  },
  {
   "cell_type": "code",
   "execution_count": 3,
   "outputs": [],
   "source": [
    "class Conv2Lin2Net(nn.Module):\n",
    "    c1 = 6\n",
    "    c2 = 16\n",
    "    ker_sz = 5\n",
    "    ker = (ker_sz, ker_sz)\n",
    "    pooling_square_side = 2\n",
    "    linear_hidden_sz = 1200\n",
    "\n",
    "    def __init__(self, image_side, number_of_classes):\n",
    "        c1 = self.c1\n",
    "        c2 = self.c2\n",
    "        ker_sz = self.ker_sz\n",
    "        ker = self.ker\n",
    "        pooling_square_side = self.pooling_square_side\n",
    "        linear_hidden_sz = self.linear_hidden_sz\n",
    "\n",
    "        self.image_side = image_side\n",
    "        self.number_of_classes = number_of_classes\n",
    "        self.linear_layer_input = c2 * (((image_side - ker_sz + 1) // pooling_square_side - ker_sz + 1) // pooling_square_side) ** 2\n",
    "\n",
    "        super(Conv2Lin2Net, self).__init__()\n",
    "        self.conv1 = nn.Conv2d(1, c1, ker)\n",
    "        self.pool = nn.MaxPool2d(pooling_square_side, pooling_square_side)\n",
    "        self.conv2 = nn.Conv2d(c1, c2, ker)\n",
    "        self.full_connected1 = nn.Linear(self.linear_layer_input, linear_hidden_sz)\n",
    "        self.full_connected2 = nn.Linear(linear_hidden_sz, number_of_classes)\n",
    "\n",
    "    def forward(self, x: torch.tensor) -> np.ndarray:\n",
    "        x = self.pool(functional.relu(self.conv1(x)))\n",
    "        x = self.pool(functional.relu(self.conv2(x)))\n",
    "        x = x.view(-1, self.linear_layer_input)\n",
    "        x = functional.sigmoid(self.full_connected1(x))\n",
    "        x = functional.sigmoid(self.full_connected2(x))\n",
    "        return x"
   ],
   "metadata": {
    "collapsed": false,
    "pycharm": {
     "name": "#%%class NN\n"
    }
   }
  },
  {
   "cell_type": "markdown",
   "source": [
    "# Torch Linear MLP"
   ],
   "metadata": {
    "collapsed": false,
    "pycharm": {
     "name": "#%% md\n"
    }
   }
  },
  {
   "cell_type": "code",
   "source": [
    "from torch import t\n",
    "class Linear3Net(nn.Module):\n",
    "    # number of neurons in hidden layers\n",
    "    hidden1 = 16\n",
    "    hidden2 = 16\n",
    "    def __init__(self, image_side, number_of_classes):\n",
    "        self.states = [0]*4\n",
    "        self.inputs = [0]*4\n",
    "        self.image_side = image_side\n",
    "        self.number_of_classes = number_of_classes\n",
    "\n",
    "        super(Linear3Net, self).__init__()\n",
    "\n",
    "        self.full_connected1 = nn.Linear(image_side**2, self.hidden1)\n",
    "        self.full_connected2 = nn.Linear(self.hidden1, self.hidden2)\n",
    "        self.full_connected3 = nn.Linear(self.hidden2, number_of_classes)\n",
    "    def forward(self, x):\n",
    "        x = x.flatten().to(torch.float32)\n",
    "        x = torch.tanh(self.full_connected1(x))\n",
    "        x = torch.tanh(self.full_connected2(x))\n",
    "        x = torch.tanh(self.full_connected3(x))\n",
    "        return x\n",
    "\n",
    "    def lra_forward(self, x):\n",
    "        x = x.flatten()\n",
    "        self.states[0] = t(x)\n",
    "\n",
    "        x = self.full_connected1(x)\n",
    "        self.inputs[1] = x\n",
    "        x = torch.tanh(x)\n",
    "        self.states[1] = x\n",
    "\n",
    "        x = self.full_connected2(x)\n",
    "        self.inputs[2] = x\n",
    "        x = torch.tanh(x)\n",
    "        self.states[2] = x\n",
    "\n",
    "        x = self.full_connected3(x)\n",
    "        self.inputs[3] = x\n",
    "        x = torch.tanh(x)\n",
    "        self.states[3] = x\n",
    "\n",
    "        return x\n",
    "\n",
    "lin = Linear3Net(28, 10)\n",
    "lin.forward(torch.from_numpy(train_images[0]))"
   ],
   "metadata": {
    "collapsed": false,
    "pycharm": {
     "name": "#%%\n"
    }
   },
   "execution_count": 218,
   "outputs": [
    {
     "data": {
      "text/plain": "tensor([ 0.3151, -0.1327,  0.0885, -0.0949, -0.1469,  0.2113,  0.3229, -0.1907,\n         0.2020,  0.0550], grad_fn=<TanhBackward0>)"
     },
     "execution_count": 218,
     "metadata": {},
     "output_type": "execute_result"
    }
   ]
  },
  {
   "cell_type": "markdown",
   "source": [
    "# Torch Backprop test"
   ],
   "metadata": {
    "collapsed": false,
    "pycharm": {
     "name": "#%% md\n"
    }
   }
  },
  {
   "cell_type": "code",
   "execution_count": 230,
   "outputs": [
    {
     "data": {
      "text/plain": "  0%|          | 0/360 [00:00<?, ?it/s]",
      "application/vnd.jupyter.widget-view+json": {
       "version_major": 2,
       "version_minor": 0,
       "model_id": "ec7c915741594e2081897e174227df67"
      }
     },
     "metadata": {},
     "output_type": "display_data"
    },
    {
     "name": "stdout",
     "output_type": "stream",
     "text": [
      "Finished Training\n"
     ]
    }
   ],
   "source": [
    "criterion = functional.mse_loss\n",
    "backprop_errors = []\n",
    "lra = False\n",
    "def learn_on_torchvision(nt, train_loader, epochs=3):\n",
    "    bar = tqdm(range(math.ceil(7*epochs)))\n",
    "\n",
    "    # optimizer = SGD(nt.parameters(), lr=0.001, momentum=0.9)\n",
    "    optimizer = torch.optim.Adam(nt.parameters, lr=0.001)\n",
    "\n",
    "    for epoch in range(epochs):  # loop over the dataset multiple times\n",
    "\n",
    "        running_loss = 0.0\n",
    "        for i, data in enumerate(train_loader, 0):\n",
    "            # get the inputs; data is a list of [inputs, labels]\n",
    "            inputs, labels = data\n",
    "            labels = functional.one_hot(labels, num_classes=10)\n",
    "            labels = labels.to(torch.float32)\n",
    "            optimizer.zero_grad()\n",
    "\n",
    "            # forward + backward + optimize\n",
    "            outputs = nt(inputs)\n",
    "            loss = criterion(outputs, labels, reduction='sum')\n",
    "            loss.backward()\n",
    "            optimizer.step()\n",
    "\n",
    "            # print statistics\n",
    "            running_loss += loss.item()\n",
    "            if i % 2000 == 1999:  # print every 2000 mini-batches\n",
    "                bar.update()\n",
    "                backprop_errors.append(running_loss / 2000)\n",
    "                running_loss = 0.0\n",
    "\n",
    "    print('Finished Training')\n",
    "def learn_torch_on_np_ds(nt, train_im, train_lb, epochs=3):\n",
    "    step = 500\n",
    "    upper_bound = train_im.shape[0]\n",
    "    bar = tqdm(range(math.ceil(upper_bound*epochs/step)))\n",
    "    # optimizer = SGD(nt.parameters(), lr=0.001, momentum=0.9)\n",
    "    optimizer = torch.optim.Adam(nt.parameters(), lr=0.001)\n",
    "    for epoch in range(epochs):  # loop over the dataset multiple times\n",
    "\n",
    "        running_loss = 0.0\n",
    "        for i, inputs in enumerate(train_im, 0):\n",
    "            labels = torch.zeros(10)\n",
    "            labels[train_lb[i]] = 1\n",
    "            labels = labels.to(torch.float32)\n",
    "            optimizer.zero_grad()\n",
    "\n",
    "            # forward + backward + optimize\n",
    "            outputs = nt(torch.from_numpy(inputs))\n",
    "            loss = criterion(outputs, labels, reduction='mean')\n",
    "            loss.backward()\n",
    "            optimizer.step()\n",
    "\n",
    "            # print statistics\n",
    "            running_loss += loss.item()\n",
    "            if i % step == step-1:  # print every 2000 mini-batches\n",
    "                bar.update()\n",
    "                backprop_errors.append(running_loss / step)\n",
    "                running_loss = 0.0\n",
    "\n",
    "    print('Finished Training')\n",
    "\n",
    "\n",
    "net = Linear3Net(28, 10)\n",
    "# print(net.full_connected1.weight.size())\n",
    "learn_torch_on_np_ds(net, train_images[:100000], train_labels[:100000], 3)"
   ],
   "metadata": {
    "collapsed": false,
    "pycharm": {
     "name": "#%%\n"
    }
   }
  },
  {
   "cell_type": "code",
   "execution_count": 223,
   "outputs": [
    {
     "data": {
      "text/plain": "[<matplotlib.lines.Line2D at 0x7f8d1e5ebd00>]"
     },
     "execution_count": 223,
     "metadata": {},
     "output_type": "execute_result"
    },
    {
     "data": {
      "text/plain": "<Figure size 432x288 with 1 Axes>",
      "image/png": "[encoded data removed]"
     },
     "metadata": {
      "needs_background": "light"
     },
     "output_type": "display_data"
    }
   ],
   "source": [
    "plt.plot(range(len(backprop_errors)), backprop_errors)"
   ],
   "metadata": {
    "collapsed": false,
    "pycharm": {
     "name": "#%%\n"
    }
   }
  },
  {
   "cell_type": "markdown",
   "source": [
    "# Numpy version of MLP"
   ],
   "metadata": {
    "collapsed": false,
    "pycharm": {
     "name": "#%% md\n"
    }
   }
  },
  {
   "cell_type": "code",
   "execution_count": 163,
   "outputs": [
    {
     "data": {
      "text/plain": "array([[ 0.03649204, -0.04182418],\n       [-0.02343275, -0.07981212]])"
     },
     "execution_count": 163,
     "metadata": {},
     "output_type": "execute_result"
    },
    {
     "data": {
      "text/plain": "<Figure size 432x288 with 1 Axes>",
      "image/png": "[encoded data removed]"
     },
     "metadata": {
      "needs_background": "light"
     },
     "output_type": "display_data"
    }
   ],
   "source": [
    "from math import sqrt\n",
    "\n",
    "def act_function_derivative_np(states: np.ndarray):\n",
    "    return np.ones(states.size)-states*states\n",
    "\n",
    "def horizontal(vector: np.ndarray) -> np.ndarray:\n",
    "    return vector.reshape(1, vector.size)\n",
    "\n",
    "def vertical(vector: np.ndarray) -> np.ndarray:\n",
    "    return vector.reshape(vector.size, 1)\n",
    "\n",
    "def plot_flatten_image(flatten_image, image_height=28):\n",
    "    plt.imshow(flatten_image.reshape((image_height, -1)))\n",
    "\n",
    "def clip(vector: np.ndarray, max_len: float) -> np.ndarray:\n",
    "    len_sq = (vector**2).sum()\n",
    "    if len_sq > max_len**2:\n",
    "        return (max_len/sqrt(len_sq))*vector\n",
    "    else:\n",
    "        return vector\n",
    "\n",
    "\n",
    "class MLP:\n",
    "    def __init__(self, layers_num: int, layers_sizes: list):\n",
    "        self.layers_num = layers_num\n",
    "\n",
    "        self.layers = [0]*layers_num\n",
    "        self.inputs = [0]*layers_num\n",
    "\n",
    "        self.weights = [0] * (layers_num - 1)\n",
    "        self.bias = [0] * (layers_num-1)\n",
    "\n",
    "        self.error_matrices = []\n",
    "        for i in range(layers_num):\n",
    "            self.layers[i] = np.ndarray((layers_sizes[i], 1))\n",
    "            if i != layers_num - 1:\n",
    "                self.weights[i] = np.random.normal(0, 0.1, (layers_sizes[i + 1], layers_sizes[i]))\n",
    "                self.bias[i] = np.random.normal(0, 0.1, (layers_sizes[i+1]))\n",
    "\n",
    "                self.error_matrices.append(np.random.normal(0, 0.75, (layers_sizes[i], layers_sizes[i+1])))\n",
    "\n",
    "    def forward(self, x: np.ndarray):\n",
    "        x = x.flatten()\n",
    "        self.layers[0] = x\n",
    "        for i in range(self.layers_num - 1):\n",
    "            self.layers[i+1] = np.tanh(self.weights[i] @ self.layers[i] + self.bias[i])\n",
    "        return self.layers[self.layers_num-1]\n",
    "\n",
    "    def lra_forward(self, x: np.ndarray):\n",
    "        x = x.flatten()\n",
    "        self.layers[0] = x\n",
    "        for i in range(self.layers_num - 1):\n",
    "            input_h = self.weights[i] @ self.layers[i] + self.bias[i]\n",
    "            self.inputs[i+1] = input_h\n",
    "            self.layers[i+1] = np.tanh(input_h)\n",
    "        return self.layers[self.layers_num-1]\n",
    "\n",
    "\n",
    "    def backprop(self, targets: np.ndarray, spd: float = 0.003):\n",
    "\n",
    "        layer = self.layers_num - 1\n",
    "\n",
    "        delta = self.layers[layer] - targets\n",
    "\n",
    "        while layer >= 1:\n",
    "            input_grad = delta * act_function_derivative_np(self.layers[layer])\n",
    "            self.weights[layer-1] -= spd*vertical(input_grad) @ horizontal(self.layers[layer-1])\n",
    "            self.bias[layer-1] -= spd*input_grad\n",
    "            if layer != 1:\n",
    "                delta = (self.weights[layer-1].transpose() @ vertical(input_grad)).flatten()\n",
    "            layer -= 1\n",
    "\n",
    "    def target_backprop(self, targets: np.ndarray, spd: float = 0.003):\n",
    "        layers_targets = self.layers.copy()\n",
    "\n",
    "        layer = self.layers_num - 1\n",
    "        layers_targets[layer] = targets\n",
    "\n",
    "        while layer >= 1:\n",
    "            delta = self.layers[layer] - layers_targets[layer]\n",
    "            input_grad = delta * act_function_derivative_np(self.layers[layer])\n",
    "            self.weights[layer-1] -= spd*vertical(input_grad) @ horizontal(self.layers[layer-1])\n",
    "            self.bias[layer-1] -= spd*input_grad\n",
    "            if layer != 1:\n",
    "                layers_targets[layer-1] -= (self.weights[layer-1].transpose() @ vertical(input_grad)).flatten()\n",
    "            layer -= 1\n",
    "\n",
    "    def lra_step(self, targets: np.ndarray, spd: float = 0.003, fdbk: bool = False, iterations_num: int = 10, clipping: tuple = None):\n",
    "        layers_targets = self.layers.copy()\n",
    "\n",
    "        layer = self.layers_num - 1\n",
    "        layers_targets[layer] = targets\n",
    "\n",
    "        while layer >= 1:\n",
    "            delta = self.layers[layer] - layers_targets[layer]\n",
    "            input_grad = delta * act_function_derivative_np(self.layers[layer])\n",
    "            if clipping is not None:\n",
    "                self.weights[layer-1] -= clip(spd*vertical(input_grad) @ horizontal(self.layers[layer-1]), clipping[0])\n",
    "                self.bias[layer-1] -= clip(spd*input_grad, clipping[0])\n",
    "            else:\n",
    "                self.weights[layer-1] -= spd*vertical(input_grad) @ horizontal(self.layers[layer-1])\n",
    "                self.bias[layer-1] -= spd*input_grad\n",
    "\n",
    "            prev_inputs = self.inputs[layer-1]\n",
    "            prev_activations = 0\n",
    "            for k in range(iterations_num):\n",
    "                if not fdbk:\n",
    "                    prev_layer_der = act_function_derivative_np(self.layers[layer-1])\n",
    "                    delta_h = (self.weights[layer-1].transpose() @  vertical(input_grad)).flatten() * prev_layer_der\n",
    "                else:\n",
    "                    delta_h = self.error_matrices[layer-1] @ input_grad\n",
    "                if clipping is not None:\n",
    "                    prev_inputs -= clip(delta_h, clipping[1])\n",
    "                else:\n",
    "                    prev_inputs -= delta_h\n",
    "                prev_activations = np.tanh(prev_inputs)\n",
    "                self.inputs[layer] = self.weights[layer-1] @ prev_activations + self.bias[layer-1]\n",
    "                self.layers[layer] = np.tanh(self.inputs[layer])\n",
    "                delta = self.layers[layer] - layers_targets[layer]\n",
    "                input_grad = delta * act_function_derivative_np(self.layers[layer])\n",
    "            layers_targets[layer-1] = prev_activations\n",
    "            layer -= 1\n",
    "\n",
    "\n",
    "\n",
    "inputs_v = train_images[0]\n",
    "labels_v = train_labels[0]\n",
    "mlp_test = MLP(4, [784, 100, 100, 10])\n",
    "for i in range(1000):\n",
    "    mlp_test.lra_forward(inputs_v)\n",
    "mlp_test.lra_step(labels_v, fdbk=True)\n",
    "plot_flatten_image(inputs_v.flatten())\n",
    "clip(np.random.normal(0, 0.1, (2,2)), 0.1)"
   ],
   "metadata": {
    "collapsed": false,
    "pycharm": {
     "name": "#%%\n"
    }
   }
  },
  {
   "cell_type": "code",
   "execution_count": 210,
   "outputs": [],
   "source": [
    "\n",
    "def one_hot(label, num_classes = 10):\n",
    "    result = np.zeros(num_classes)\n",
    "    result[label] = 1\n",
    "    return result\n",
    "def np_learn(nt: MLP, train_im, train_lb, epochs=3, lra_enabled = False, clipping: tuple = None, fdbk = False, cycles_num = 10):\n",
    "    step = 500\n",
    "    upper_bound = train_im.shape[0]\n",
    "    bar = tqdm(range(math.ceil(upper_bound*epochs/step)))\n",
    "    spd = 0.01\n",
    "    for epoch in range(epochs):  # loop over the dataset multiple times\n",
    "        running_loss = 0.0\n",
    "        for i, inputs in enumerate(train_im, 0):\n",
    "            labels = one_hot(train_lb[i])\n",
    "            if lra_enabled:\n",
    "                outputs = nt.lra_forward(inputs)\n",
    "\n",
    "                nt.lra_step(labels, spd=spd,iterations_num=cycles_num, clipping=clipping, fdbk=fdbk)\n",
    "            else:\n",
    "                outputs = nt.forward(inputs)\n",
    "                nt.backprop(labels)\n",
    "            loss = ((outputs - labels) ** 2).mean(axis=0)\n",
    "            running_loss += loss\n",
    "\n",
    "\n",
    "            if i % step == step-1:\n",
    "                spd *= 0.995\n",
    "                bar.update()\n",
    "                if lra_enabled:\n",
    "                    if clipping is not None:\n",
    "                        lra_clipping.append(running_loss/step)\n",
    "                    else:\n",
    "                        if fdbk:\n",
    "                            fdbk_errors.append(running_loss / step)\n",
    "                        else:\n",
    "                            lra_errors.append(running_loss / step)\n",
    "                else:\n",
    "                    backprop_errors.append(running_loss/step)\n",
    "                running_loss = 0.0"
   ],
   "metadata": {
    "collapsed": false,
    "pycharm": {
     "name": "#%%\n"
    }
   }
  },
  {
   "cell_type": "markdown",
   "source": [
    "# Experiments"
   ],
   "metadata": {
    "collapsed": false,
    "pycharm": {
     "name": "#%% md\n"
    }
   }
  },
  {
   "cell_type": "code",
   "execution_count": 150,
   "outputs": [],
   "source": [
    "layers = [784, 16, 16, 10]\n",
    "train_size = 100000\n",
    "epochs = 3"
   ],
   "metadata": {
    "collapsed": false,
    "pycharm": {
     "name": "#%%\n"
    }
   }
  },
  {
   "cell_type": "code",
   "execution_count": 213,
   "outputs": [
    {
     "data": {
      "text/plain": "  0%|          | 0/360 [00:00<?, ?it/s]",
      "application/vnd.jupyter.widget-view+json": {
       "version_major": 2,
       "version_minor": 0,
       "model_id": "da629753377f46cc975cd12c56ea9fd9"
      }
     },
     "metadata": {},
     "output_type": "display_data"
    }
   ],
   "source": [
    "backprop_errors = []\n",
    "mlp = MLP(len(layers), layers)\n",
    "np_learn(\n",
    "    mlp,\n",
    "    train_images[:train_size],\n",
    "    train_labels[:train_size],\n",
    "    epochs=epochs\n",
    ")"
   ],
   "metadata": {
    "collapsed": false,
    "pycharm": {
     "name": "#%%\n"
    }
   }
  },
  {
   "cell_type": "code",
   "execution_count": 226,
   "outputs": [
    {
     "data": {
      "text/plain": "  0%|          | 0/360 [00:00<?, ?it/s]",
      "application/vnd.jupyter.widget-view+json": {
       "version_major": 2,
       "version_minor": 0,
       "model_id": "03e113dd64434cc0a8055f92797fec9d"
      }
     },
     "metadata": {},
     "output_type": "display_data"
    }
   ],
   "source": [
    "lra_errors = []\n",
    "mlp = MLP(len(layers), layers)\n",
    "np_learn(\n",
    "    mlp,\n",
    "    train_images[:train_size],\n",
    "    train_labels[:train_size],\n",
    "    epochs=epochs,\n",
    "    lra_enabled=True,\n",
    "    cycles_num=10\n",
    ")"
   ],
   "metadata": {
    "collapsed": false,
    "pycharm": {
     "name": "#%%\n"
    }
   }
  },
  {
   "cell_type": "code",
   "execution_count": 145,
   "outputs": [
    {
     "data": {
      "text/plain": "  0%|          | 0/120 [00:00<?, ?it/s]",
      "application/vnd.jupyter.widget-view+json": {
       "version_major": 2,
       "version_minor": 0,
       "model_id": "d914b12387c247718f2701816f5a5979"
      }
     },
     "metadata": {},
     "output_type": "display_data"
    },
    {
     "ename": "KeyboardInterrupt",
     "evalue": "",
     "output_type": "error",
     "traceback": [
      "\u001B[0;31m---------------------------------------------------------------------------\u001B[0m",
      "\u001B[0;31mKeyboardInterrupt\u001B[0m                         Traceback (most recent call last)",
      "\u001B[0;32m/tmp/ipykernel_299637/398848115.py\u001B[0m in \u001B[0;36m<module>\u001B[0;34m\u001B[0m\n\u001B[1;32m      1\u001B[0m \u001B[0mlra_clipping\u001B[0m \u001B[0;34m=\u001B[0m \u001B[0;34m[\u001B[0m\u001B[0;34m]\u001B[0m\u001B[0;34m\u001B[0m\u001B[0;34m\u001B[0m\u001B[0m\n\u001B[1;32m      2\u001B[0m \u001B[0mmlp\u001B[0m \u001B[0;34m=\u001B[0m \u001B[0mMLP\u001B[0m\u001B[0;34m(\u001B[0m\u001B[0mlen\u001B[0m\u001B[0;34m(\u001B[0m\u001B[0mlayers\u001B[0m\u001B[0;34m)\u001B[0m\u001B[0;34m,\u001B[0m \u001B[0mlayers\u001B[0m\u001B[0;34m)\u001B[0m\u001B[0;34m\u001B[0m\u001B[0;34m\u001B[0m\u001B[0m\n\u001B[0;32m----> 3\u001B[0;31m np_learn(\n\u001B[0m\u001B[1;32m      4\u001B[0m     \u001B[0mmlp\u001B[0m\u001B[0;34m,\u001B[0m\u001B[0;34m\u001B[0m\u001B[0;34m\u001B[0m\u001B[0m\n\u001B[1;32m      5\u001B[0m     \u001B[0mtrain_images\u001B[0m\u001B[0;34m[\u001B[0m\u001B[0;34m:\u001B[0m\u001B[0mtrain_size\u001B[0m\u001B[0;34m]\u001B[0m\u001B[0;34m,\u001B[0m\u001B[0;34m\u001B[0m\u001B[0;34m\u001B[0m\u001B[0m\n",
      "\u001B[0;32m/tmp/ipykernel_299637/2451910126.py\u001B[0m in \u001B[0;36mnp_learn\u001B[0;34m(nt, train_im, train_lb, epochs, lra_enabled, clipping, fdbk, cycles_num)\u001B[0m\n\u001B[1;32m     13\u001B[0m             \u001B[0;32mif\u001B[0m \u001B[0mlra_enabled\u001B[0m\u001B[0;34m:\u001B[0m\u001B[0;34m\u001B[0m\u001B[0;34m\u001B[0m\u001B[0m\n\u001B[1;32m     14\u001B[0m                 \u001B[0moutputs\u001B[0m \u001B[0;34m=\u001B[0m \u001B[0mnt\u001B[0m\u001B[0;34m.\u001B[0m\u001B[0mlra_forward\u001B[0m\u001B[0;34m(\u001B[0m\u001B[0minputs\u001B[0m\u001B[0;34m)\u001B[0m\u001B[0;34m\u001B[0m\u001B[0;34m\u001B[0m\u001B[0m\n\u001B[0;32m---> 15\u001B[0;31m                 \u001B[0mnt\u001B[0m\u001B[0;34m.\u001B[0m\u001B[0mlra_step\u001B[0m\u001B[0;34m(\u001B[0m\u001B[0mlabels\u001B[0m\u001B[0;34m,\u001B[0m \u001B[0mspd\u001B[0m\u001B[0;34m=\u001B[0m\u001B[0;36m0.003\u001B[0m\u001B[0;34m,\u001B[0m \u001B[0miterations_num\u001B[0m\u001B[0;34m=\u001B[0m\u001B[0mcycles_num\u001B[0m\u001B[0;34m,\u001B[0m \u001B[0mclipping\u001B[0m\u001B[0;34m=\u001B[0m\u001B[0mclipping\u001B[0m\u001B[0;34m,\u001B[0m \u001B[0mfdbk\u001B[0m\u001B[0;34m=\u001B[0m\u001B[0mfdbk\u001B[0m\u001B[0;34m)\u001B[0m\u001B[0;34m\u001B[0m\u001B[0;34m\u001B[0m\u001B[0m\n\u001B[0m\u001B[1;32m     16\u001B[0m             \u001B[0;32melse\u001B[0m\u001B[0;34m:\u001B[0m\u001B[0;34m\u001B[0m\u001B[0;34m\u001B[0m\u001B[0m\n\u001B[1;32m     17\u001B[0m                 \u001B[0moutputs\u001B[0m \u001B[0;34m=\u001B[0m \u001B[0mnt\u001B[0m\u001B[0;34m.\u001B[0m\u001B[0mforward\u001B[0m\u001B[0;34m(\u001B[0m\u001B[0minputs\u001B[0m\u001B[0;34m)\u001B[0m\u001B[0;34m\u001B[0m\u001B[0;34m\u001B[0m\u001B[0m\n",
      "\u001B[0;32m/tmp/ipykernel_299637/3390805610.py\u001B[0m in \u001B[0;36mlra_step\u001B[0;34m(self, targets, spd, fdbk, iterations_num, clipping)\u001B[0m\n\u001B[1;32m    106\u001B[0m             \u001B[0;32mfor\u001B[0m \u001B[0mk\u001B[0m \u001B[0;32min\u001B[0m \u001B[0mrange\u001B[0m\u001B[0;34m(\u001B[0m\u001B[0miterations_num\u001B[0m\u001B[0;34m)\u001B[0m\u001B[0;34m:\u001B[0m\u001B[0;34m\u001B[0m\u001B[0;34m\u001B[0m\u001B[0m\n\u001B[1;32m    107\u001B[0m                 \u001B[0;32mif\u001B[0m \u001B[0;32mnot\u001B[0m \u001B[0mfdbk\u001B[0m\u001B[0;34m:\u001B[0m\u001B[0;34m\u001B[0m\u001B[0;34m\u001B[0m\u001B[0m\n\u001B[0;32m--> 108\u001B[0;31m                     \u001B[0mprev_layer_der\u001B[0m \u001B[0;34m=\u001B[0m \u001B[0mact_function_derivative_np\u001B[0m\u001B[0;34m(\u001B[0m\u001B[0mself\u001B[0m\u001B[0;34m.\u001B[0m\u001B[0mlayers\u001B[0m\u001B[0;34m[\u001B[0m\u001B[0mlayer\u001B[0m\u001B[0;34m-\u001B[0m\u001B[0;36m1\u001B[0m\u001B[0;34m]\u001B[0m\u001B[0;34m)\u001B[0m\u001B[0;34m\u001B[0m\u001B[0;34m\u001B[0m\u001B[0m\n\u001B[0m\u001B[1;32m    109\u001B[0m                     \u001B[0mdelta_h\u001B[0m \u001B[0;34m=\u001B[0m \u001B[0;34m(\u001B[0m\u001B[0mself\u001B[0m\u001B[0;34m.\u001B[0m\u001B[0mweights\u001B[0m\u001B[0;34m[\u001B[0m\u001B[0mlayer\u001B[0m\u001B[0;34m-\u001B[0m\u001B[0;36m1\u001B[0m\u001B[0;34m]\u001B[0m\u001B[0;34m.\u001B[0m\u001B[0mtranspose\u001B[0m\u001B[0;34m(\u001B[0m\u001B[0;34m)\u001B[0m \u001B[0;34m@\u001B[0m  \u001B[0mvertical\u001B[0m\u001B[0;34m(\u001B[0m\u001B[0minput_grad\u001B[0m\u001B[0;34m)\u001B[0m\u001B[0;34m)\u001B[0m\u001B[0;34m.\u001B[0m\u001B[0mflatten\u001B[0m\u001B[0;34m(\u001B[0m\u001B[0;34m)\u001B[0m \u001B[0;34m*\u001B[0m \u001B[0mprev_layer_der\u001B[0m\u001B[0;34m\u001B[0m\u001B[0;34m\u001B[0m\u001B[0m\n\u001B[1;32m    110\u001B[0m                 \u001B[0;32melse\u001B[0m\u001B[0;34m:\u001B[0m\u001B[0;34m\u001B[0m\u001B[0;34m\u001B[0m\u001B[0m\n",
      "\u001B[0;32m/tmp/ipykernel_299637/3390805610.py\u001B[0m in \u001B[0;36mact_function_derivative_np\u001B[0;34m(states)\u001B[0m\n\u001B[1;32m      2\u001B[0m \u001B[0;34m\u001B[0m\u001B[0m\n\u001B[1;32m      3\u001B[0m \u001B[0;32mdef\u001B[0m \u001B[0mact_function_derivative_np\u001B[0m\u001B[0;34m(\u001B[0m\u001B[0mstates\u001B[0m\u001B[0;34m:\u001B[0m \u001B[0mnp\u001B[0m\u001B[0;34m.\u001B[0m\u001B[0mndarray\u001B[0m\u001B[0;34m)\u001B[0m\u001B[0;34m:\u001B[0m\u001B[0;34m\u001B[0m\u001B[0;34m\u001B[0m\u001B[0m\n\u001B[0;32m----> 4\u001B[0;31m     \u001B[0;32mreturn\u001B[0m \u001B[0mnp\u001B[0m\u001B[0;34m.\u001B[0m\u001B[0mones\u001B[0m\u001B[0;34m(\u001B[0m\u001B[0mstates\u001B[0m\u001B[0;34m.\u001B[0m\u001B[0msize\u001B[0m\u001B[0;34m)\u001B[0m\u001B[0;34m-\u001B[0m\u001B[0mstates\u001B[0m\u001B[0;34m*\u001B[0m\u001B[0mstates\u001B[0m\u001B[0;34m\u001B[0m\u001B[0;34m\u001B[0m\u001B[0m\n\u001B[0m\u001B[1;32m      5\u001B[0m \u001B[0;34m\u001B[0m\u001B[0m\n\u001B[1;32m      6\u001B[0m \u001B[0;32mdef\u001B[0m \u001B[0mhorizontal\u001B[0m\u001B[0;34m(\u001B[0m\u001B[0mvector\u001B[0m\u001B[0;34m:\u001B[0m \u001B[0mnp\u001B[0m\u001B[0;34m.\u001B[0m\u001B[0mndarray\u001B[0m\u001B[0;34m)\u001B[0m \u001B[0;34m->\u001B[0m \u001B[0mnp\u001B[0m\u001B[0;34m.\u001B[0m\u001B[0mndarray\u001B[0m\u001B[0;34m:\u001B[0m\u001B[0;34m\u001B[0m\u001B[0;34m\u001B[0m\u001B[0m\n",
      "\u001B[0;31mKeyboardInterrupt\u001B[0m: "
     ]
    }
   ],
   "source": [
    "lra_clipping = []\n",
    "mlp = MLP(len(layers), layers)\n",
    "np_learn(\n",
    "    mlp,\n",
    "    train_images[:train_size],\n",
    "    train_labels[:train_size],\n",
    "    epochs=epochs,\n",
    "    lra_enabled=True,\n",
    "    clipping=(0.01, 0.03)\n",
    ")"
   ],
   "metadata": {
    "collapsed": false,
    "pycharm": {
     "name": "#%%\n"
    }
   }
  },
  {
   "cell_type": "code",
   "execution_count": 227,
   "outputs": [
    {
     "data": {
      "text/plain": "  0%|          | 0/360 [00:00<?, ?it/s]",
      "application/vnd.jupyter.widget-view+json": {
       "version_major": 2,
       "version_minor": 0,
       "model_id": "dea21d21c45f465cbf8a1a14086a5ead"
      }
     },
     "metadata": {},
     "output_type": "display_data"
    }
   ],
   "source": [
    "fdbk_errors = []\n",
    "mlp = MLP(len(layers), layers)\n",
    "np_learn(\n",
    "    mlp,\n",
    "    train_images[:train_size],\n",
    "    train_labels[:train_size],\n",
    "    epochs=epochs,\n",
    "    lra_enabled=True,\n",
    "    fdbk=True,\n",
    "    cycles_num=1\n",
    ")"
   ],
   "metadata": {
    "collapsed": false,
    "pycharm": {
     "name": "#%%\n"
    }
   }
  },
  {
   "cell_type": "code",
   "execution_count": 232,
   "outputs": [
    {
     "data": {
      "text/plain": "Text(0.5, 1.0, '3 layers')"
     },
     "execution_count": 232,
     "metadata": {},
     "output_type": "execute_result"
    },
    {
     "data": {
      "text/plain": "<Figure size 432x288 with 1 Axes>",
      "image/png": "[encoded data removed]"
     },
     "metadata": {
      "needs_background": "light"
     },
     "output_type": "display_data"
    }
   ],
   "source": [
    "plt.plot(range(len(backprop_errors)), backprop_errors)\n",
    "plt.plot(range(len(lra_errors)), lra_errors)\n",
    "# plt.plot(range(len(lra_clipping)), lra_clipping)\n",
    "plt.plot(range(len(fdbk_errors)), fdbk_errors)\n",
    "plt.legend([ 'torch.SGD','lra_diff', 'lra_fdbk'])\n",
    "plt.title(f'{len(layers)-1} layers')"
   ],
   "metadata": {
    "collapsed": false,
    "pycharm": {
     "name": "#%%\n"
    }
   }
  },
  {
   "cell_type": "code",
   "execution_count": null,
   "outputs": [],
   "source": [],
   "metadata": {
    "collapsed": false,
    "pycharm": {
     "name": "#%%\n"
    }
   }
  }
 ],
 "metadata": {
  "kernelspec": {
   "display_name": "Python 3",
   "language": "python",
   "name": "python3"
  },
  "language_info": {
   "codemirror_mode": {
    "name": "ipython",
    "version": 2
   },
   "file_extension": ".py",
   "mimetype": "text/x-python",
   "name": "python",
   "nbconvert_exporter": "python",
   "pygments_lexer": "ipython2",
   "version": "2.7.6"
  }
 },
 "nbformat": 4,
 "nbformat_minor": 0
}
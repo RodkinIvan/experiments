{
 "cells": [
  {
   "cell_type": "code",
   "execution_count": 1,
   "metadata": {
    "collapsed": true
   },
   "outputs": [],
   "source": [
    "import numpy as np\n",
    "from matplotlib import pyplot as plt\n",
    "from tqdm.notebook import tqdm\n",
    "from sklearn.datasets import fetch_openml\n",
    "import math\n",
    "\n",
    "np.random.seed(420)"
   ]
  },
  {
   "cell_type": "markdown",
   "source": [
    "# load ds"
   ],
   "metadata": {
    "collapsed": false,
    "pycharm": {
     "name": "#%% md\n"
    }
   }
  },
  {
   "cell_type": "code",
   "execution_count": 2,
   "outputs": [],
   "source": [
    "\n",
    "def load_ds(name, num_test, shape=None):\n",
    "    \"\"\"\n",
    "    fetch dataset from openML.org and split to train/test\n",
    "    @param name - ID on openML (eg. 'mnist_784')\n",
    "    @param num_test - num. samples to take as test\n",
    "    @param shape - new reshape of a single data point (ie data['data'][0]) as a list. Eg. [28,28] for MNIST\n",
    "    \"\"\"\n",
    "    data = fetch_openml(name, version=1, data_home='./data', cache=True)\n",
    "    sz=data['target'].shape[0]\n",
    "\n",
    "    X = data['data']\n",
    "    if shape is not None:\n",
    "        new_shape = shape.insert(0, sz)\n",
    "        X = np.reshape(X, new_shape)\n",
    "\n",
    "    y = data['target'].astype(np.int32)\n",
    "    # split to train/test data\n",
    "    train_labels = y[:sz-num_test]\n",
    "    train_images = X[:sz-num_test]\n",
    "    test_labels  = y[sz-num_test:]\n",
    "    test_images  = X[sz-num_test:]\n",
    "\n",
    "    return train_labels, train_images, test_labels, test_images\n",
    "\n",
    "\n",
    "def shuffle_data(x, y):\n",
    "    indices = np.arange(len(y))\n",
    "    np.random.shuffle(indices)\n",
    "    x, y = np.array(x), np.array(y)\n",
    "    return x[indices], y[indices]\n",
    "\n",
    "\n",
    "def plot_flatten_image(flatten_image, image_height=28):\n",
    "    plt.imshow(flatten_image.reshape((image_height, -1)))\n",
    "\n",
    "\n",
    "def to_binary_flatten_images(images):\n",
    "    n_samples = images.shape[0]\n",
    "    # flatten every image to vector\n",
    "    images = images.reshape((n_samples, -1))\n",
    "    # binary encoding: each image pixel is encoded either 0 or 1 depending on that image mean value\n",
    "    images = (images >= images.mean(axis=1, keepdims=True)).astype(np.int8)\n",
    "    return images\n",
    "\n",
    "\n",
    "backprop_errors = []\n"
   ],
   "metadata": {
    "collapsed": false,
    "pycharm": {
     "name": "#%%\n"
    }
   }
  },
  {
   "cell_type": "code",
   "execution_count": 4,
   "outputs": [
    {
     "name": "stdout",
     "output_type": "stream",
     "text": [
      "numpy DS loaded\n"
     ]
    },
    {
     "data": {
      "text/plain": "<Figure size 432x288 with 1 Axes>",
      "image/png": "[encoded data removed]"
     },
     "metadata": {
      "needs_background": "light"
     },
     "output_type": "display_data"
    }
   ],
   "source": [
    "train_labels, train_images, test_labels, test_images = load_ds('mnist_784', 10000, shape=[28,28])\n",
    "\n",
    "train_images, train_labels = shuffle_data(train_images, train_labels)\n",
    "test_images, test_labels = shuffle_data(test_images, test_labels)\n",
    "\n",
    "n_train_samples = train_images.shape[0]\n",
    "n_test_samples = test_images.shape[0]\n",
    "image_shape = train_images[0].shape\n",
    "image_side = image_shape[0]\n",
    "image_size = image_side ** 2\n",
    "train_images = to_binary_flatten_images(train_images)\n",
    "test_images = to_binary_flatten_images(test_images)\n",
    "plot_flatten_image(train_images[0])\n",
    "print('numpy DS loaded')"
   ],
   "metadata": {
    "collapsed": false,
    "pycharm": {
     "name": "#%%train_labels, train_images, test_labels, test_images = load_ds('mnist_784', 10000, shape=[28,28])\n"
    }
   }
  },
  {
   "cell_type": "markdown",
   "source": [
    "#  NN"
   ],
   "metadata": {
    "collapsed": false,
    "pycharm": {
     "name": "#%% md\n"
    }
   }
  },
  {
   "cell_type": "code",
   "execution_count": 7,
   "outputs": [
    {
     "data": {
      "text/plain": "array([[-0.0813863 , -0.00018453],\n       [ 0.01620632,  0.05579957]])"
     },
     "execution_count": 7,
     "metadata": {},
     "output_type": "execute_result"
    },
    {
     "data": {
      "text/plain": "<Figure size 432x288 with 1 Axes>",
      "image/png": "[encoded data removed]"
     },
     "metadata": {
      "needs_background": "light"
     },
     "output_type": "display_data"
    }
   ],
   "source": [
    "from math import sqrt\n",
    "\n",
    "def act_function_derivative_np(states: np.ndarray):\n",
    "    return np.ones(states.size)-states*states\n",
    "\n",
    "def horizontal(vector: np.ndarray) -> np.ndarray:\n",
    "    return vector.reshape(1, vector.size)\n",
    "\n",
    "def vertical(vector: np.ndarray) -> np.ndarray:\n",
    "    return vector.reshape(vector.size, 1)\n",
    "\n",
    "def plot_flatten_image(flatten_image, image_height=28):\n",
    "    plt.imshow(flatten_image.reshape((image_height, -1)))\n",
    "\n",
    "def clip(vector: np.ndarray, max_len: float) -> np.ndarray:\n",
    "    len_sq = (vector**2).sum()\n",
    "    if len_sq > max_len**2:\n",
    "        return (max_len/sqrt(len_sq))*vector\n",
    "    else:\n",
    "        return vector\n",
    "\n",
    "\n",
    "class MLP:\n",
    "    def __init__(self, layers_sizes: list):\n",
    "        layers_num = len(layers_sizes)\n",
    "\n",
    "        self.layers_num = layers_num\n",
    "\n",
    "        self.layers = [0]*layers_num\n",
    "\n",
    "        self.weights = [0] * (layers_num - 1)\n",
    "        self.bias = [0] * (layers_num-1)\n",
    "\n",
    "        self.error_matrices = []\n",
    "        for i in range(layers_num):\n",
    "            self.layers[i] = np.ndarray((layers_sizes[i], 1))\n",
    "            if i != layers_num - 1:\n",
    "                self.weights[i] = np.random.normal(0, 0.1, (layers_sizes[i + 1], layers_sizes[i]))\n",
    "                self.bias[i] = np.random.normal(0, 0.1, (layers_sizes[i+1]))\n",
    "\n",
    "                self.error_matrices.append(np.random.normal(0, 0.75, (layers_sizes[i], layers_sizes[i+1])))\n",
    "                # self.error_matrices.append(np.sign(self.weights[i].transpose())/2)\n",
    "\n",
    "\n",
    "    def common_forward(self, x: np.ndarray):\n",
    "        x = x.flatten()\n",
    "        self.layers[0] = x\n",
    "        for i in range(self.layers_num - 1):\n",
    "            self.layers[i+1] = np.tanh(self.weights[i] @ self.layers[i] + self.bias[i])\n",
    "        return self.layers[self.layers_num-1]\n",
    "\n",
    "    def forward(self, optimizer: str, inputs):\n",
    "        return self.common_forward(inputs)\n",
    "\n",
    "\n",
    "    def backprop(self, targets: np.ndarray, spd: float = 0.003):\n",
    "\n",
    "        layer = self.layers_num - 1\n",
    "\n",
    "        delta = self.layers[layer] - targets\n",
    "\n",
    "        while layer >= 1:\n",
    "            input_grad = delta * act_function_derivative_np(self.layers[layer])\n",
    "            self.weights[layer-1] -= spd*vertical(input_grad) @ horizontal(self.layers[layer-1])\n",
    "            self.bias[layer-1] -= spd*input_grad\n",
    "            if layer != 1:\n",
    "                delta = (self.weights[layer-1].transpose() @ vertical(input_grad)).flatten()\n",
    "            layer -= 1\n",
    "\n",
    "    def target_backprop(self, targets: np.ndarray, spd: float = 0.003):\n",
    "        layers_targets = self.layers.copy()\n",
    "\n",
    "        layer = self.layers_num - 1\n",
    "        layers_targets[layer] = targets\n",
    "\n",
    "        while layer >= 1:\n",
    "            delta = self.layers[layer] - layers_targets[layer]\n",
    "            input_grad = delta * act_function_derivative_np(self.layers[layer])\n",
    "            self.weights[layer-1] -= spd*vertical(input_grad) @ horizontal(self.layers[layer-1])\n",
    "            self.bias[layer-1] -= spd*input_grad\n",
    "            if layer != 1:\n",
    "                layers_targets[layer-1] -= (self.weights[layer-1].transpose() @ vertical(input_grad)).flatten()\n",
    "            layer -= 1\n",
    "\n",
    "    def FA_step(self, targets: np.ndarray, spd = 0.003):\n",
    "        layer = self.layers_num - 1\n",
    "\n",
    "        delta = self.layers[layer] - targets\n",
    "\n",
    "        while layer >= 1:\n",
    "            input_grad = delta * act_function_derivative_np(self.layers[layer])\n",
    "            self.weights[layer-1] -= spd*vertical(input_grad) @ horizontal(self.layers[layer-1])\n",
    "            self.bias[layer-1] -= spd*input_grad\n",
    "            if layer != 1:\n",
    "                delta = self.error_matrices[layer-1] @ delta\n",
    "            layer -= 1\n",
    "\n",
    "    def optim_step(self, optimizer, targets: np.ndarray, **kwargs):\n",
    "        if optimizer == 'bp':\n",
    "            self.backprop(targets, **kwargs)\n",
    "        elif optimizer == 'FA':\n",
    "            self.FA_step(targets, **kwargs)\n",
    "        else:\n",
    "            raise 'choose optimizer'\n",
    "\n",
    "\n",
    "inputs_v = train_images[0]\n",
    "labels_v = train_labels[0]\n",
    "mlp_test = MLP([784, 100, 100, 10])\n",
    "for i in range(1000):\n",
    "    mlp_test.forward('FA', inputs_v)\n",
    "    mlp_test.FA_step(labels_v)\n",
    "plot_flatten_image(inputs_v.flatten())\n",
    "clip(np.random.normal(0, 0.1, (2,2)), 0.1)"
   ],
   "metadata": {
    "collapsed": false,
    "pycharm": {
     "name": "#%%\n"
    }
   }
  },
  {
   "cell_type": "code",
   "execution_count": 8,
   "outputs": [],
   "source": [
    "def one_hot(label, num_classes = 10):\n",
    "    result = np.zeros(num_classes)\n",
    "    result[label] = 1\n",
    "    return result\n",
    "\n",
    "\n",
    "def np_learn(nt: MLP, train_im, train_lb, epochs=3, optimizer = 'bp', errors_container = backprop_errors, **kwargs):\n",
    "    step = 500\n",
    "    upper_bound = train_im.shape[0]\n",
    "    bar = tqdm(range(math.ceil(upper_bound*epochs/step)))\n",
    "    spd = 0.01\n",
    "    for epoch in range(epochs):  # loop over the dataset multiple times\n",
    "        running_loss = 0.0\n",
    "        for i, inputs in enumerate(train_im, 0):\n",
    "\n",
    "            labels = one_hot(train_lb[i])\n",
    "            outputs = nt.forward(optimizer, inputs)\n",
    "            nt.optim_step(optimizer, labels, spd=spd, **kwargs)\n",
    "\n",
    "            loss = ((outputs - labels) ** 2).mean(axis=0)\n",
    "            running_loss += loss\n",
    "\n",
    "            if i % step == step-1:\n",
    "                spd *= 0.995\n",
    "                bar.update()\n",
    "                mean_loss = running_loss / step\n",
    "                errors_container.append(mean_loss)\n",
    "                running_loss = 0.0"
   ],
   "metadata": {
    "collapsed": false,
    "pycharm": {
     "name": "#%%\n"
    }
   }
  },
  {
   "cell_type": "markdown",
   "source": [
    "# Experiments"
   ],
   "metadata": {
    "collapsed": false,
    "pycharm": {
     "name": "#%% md\n"
    }
   }
  },
  {
   "cell_type": "code",
   "execution_count": 9,
   "outputs": [],
   "source": [
    "layers = [784, 16, 16, 10]\n",
    "train_size = 100000\n",
    "epochs = 3"
   ],
   "metadata": {
    "collapsed": false,
    "pycharm": {
     "name": "#%%\n"
    }
   }
  },
  {
   "cell_type": "code",
   "execution_count": 10,
   "outputs": [
    {
     "data": {
      "text/plain": "  0%|          | 0/360 [00:00<?, ?it/s]",
      "application/vnd.jupyter.widget-view+json": {
       "version_major": 2,
       "version_minor": 0,
       "model_id": "6fb7cfc8e33046209f4d5fee126f3ce4"
      }
     },
     "metadata": {},
     "output_type": "display_data"
    }
   ],
   "source": [
    "backprop_errors = []\n",
    "mlp = MLP(layers)\n",
    "np_learn(\n",
    "    mlp,\n",
    "    train_images[:train_size],\n",
    "    train_labels[:train_size],\n",
    "    epochs=epochs,\n",
    "    optimizer='bp',\n",
    "    errors_container=backprop_errors\n",
    ")"
   ],
   "metadata": {
    "collapsed": false,
    "pycharm": {
     "name": "#%%\n"
    }
   }
  },
  {
   "cell_type": "code",
   "execution_count": 11,
   "outputs": [
    {
     "data": {
      "text/plain": "  0%|          | 0/360 [00:02<?, ?it/s]",
      "application/vnd.jupyter.widget-view+json": {
       "version_major": 2,
       "version_minor": 0,
       "model_id": "fcbce6ff578b4e8196b7ed4c812a9837"
      }
     },
     "metadata": {},
     "output_type": "display_data"
    }
   ],
   "source": [
    "FA_errors = []\n",
    "mlp = MLP(layers)\n",
    "np_learn(\n",
    "    mlp,\n",
    "    train_images[:train_size],\n",
    "    train_labels[:train_size],\n",
    "    epochs=epochs,\n",
    "    optimizer='FA',\n",
    "    errors_container=FA_errors\n",
    ")"
   ],
   "metadata": {
    "collapsed": false,
    "pycharm": {
     "name": "#%%\n"
    }
   }
  },
  {
   "cell_type": "code",
   "execution_count": 12,
   "outputs": [
    {
     "data": {
      "text/plain": "Text(0.5, 1.0, '3 layers')"
     },
     "execution_count": 12,
     "metadata": {},
     "output_type": "execute_result"
    },
    {
     "data": {
      "text/plain": "<Figure size 432x288 with 1 Axes>",
      "image/png": "[encoded data removed]"
     },
     "metadata": {
      "needs_background": "light"
     },
     "output_type": "display_data"
    }
   ],
   "source": [
    "plt.plot(range(len(backprop_errors)), backprop_errors,  label='BP',         linewidth=0.5)\n",
    "plt.plot(range(len(FA_errors)), FA_errors,            label='FA',         linewidth=0.5)\n",
    "plt.legend()\n",
    "plt.title(f'{len(layers)-1} layers')"
   ],
   "metadata": {
    "collapsed": false,
    "pycharm": {
     "name": "#%%\n"
    }
   }
  },
  {
   "cell_type": "code",
   "execution_count": null,
   "outputs": [],
   "source": [],
   "metadata": {
    "collapsed": false,
    "pycharm": {
     "name": "#%%\n"
    }
   }
  }
 ],
 "metadata": {
  "kernelspec": {
   "display_name": "Python 3",
   "language": "python",
   "name": "python3"
  },
  "language_info": {
   "codemirror_mode": {
    "name": "ipython",
    "version": 2
   },
   "file_extension": ".py",
   "mimetype": "text/x-python",
   "name": "python",
   "nbconvert_exporter": "python",
   "pygments_lexer": "ipython2",
   "version": "2.7.6"
  }
 },
 "nbformat": 4,
 "nbformat_minor": 0
}
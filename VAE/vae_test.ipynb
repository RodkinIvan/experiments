{
 "cells": [
  {
   "cell_type": "code",
   "execution_count": 2,
   "metadata": {
    "collapsed": true,
    "pycharm": {
     "name": "#%%\n"
    }
   },
   "outputs": [],
   "source": [
    "import torch.nn as nn\n",
    "import torch\n",
    "import torch.optim as optim\n",
    "\n",
    "import numpy as np\n",
    "import matplotlib.pyplot as plt\n",
    "\n",
    "from torch import Tensor"
   ]
  },
  {
   "cell_type": "code",
   "execution_count": 5,
   "outputs": [],
   "source": [
    "class MLP(nn.Module):\n",
    "    def __init__(self, layers_sizes: list):\n",
    "        super(MLP, self).__init__()\n",
    "        self.net = []\n",
    "        for i, sz in enumerate(layers_sizes):\n",
    "            if i + 1 != len(layers_sizes):\n",
    "                self.net.append(nn.Linear(sz, layers_sizes[i + 1]))\n",
    "\n",
    "    def forward(self, x):\n",
    "        for layer in self.net:\n",
    "            x = layer(x)\n",
    "            x = torch.tanh(x)\n",
    "        return x\n",
    "\n",
    "    def parameters(self, recurse: bool = True):\n",
    "        for layer in self.net:\n",
    "            for param in layer.parameters():\n",
    "                yield param\n",
    "\n",
    "\n",
    "class VAE(nn.Module):\n",
    "\n",
    "    def __init__(self, encoder_sizes: list, decoder_sizes, dim: int):\n",
    "        super(VAE, self).__init__()\n",
    "        self.encoder = MLP(encoder_sizes)\n",
    "\n",
    "        self.to_mean = nn.Linear(encoder_sizes[-1], dim)\n",
    "        self.to_cov = nn.Linear(encoder_sizes[-1], dim)\n",
    "        self.to_decoder = nn.Linear(dim, decoder_sizes[1])\n",
    "\n",
    "        self.decoder = MLP(decoder_sizes)\n",
    "\n",
    "    def forward(self, x):\n",
    "        self.encoder(x)\n",
    "\n",
    "\n"
   ],
   "metadata": {
    "collapsed": false,
    "pycharm": {
     "name": "#%%\n"
    }
   }
  },
  {
   "cell_type": "code",
   "execution_count": 30,
   "outputs": [],
   "source": [
    "def learn(nt, X, y, epochs=1):\n",
    "    optimizer = optim.SGD(nt.parameters(), lr=0.01, momentum=0.9)\n",
    "    criterion = nn.MSELoss()\n",
    "\n",
    "    X = Tensor(X)\n",
    "    y = Tensor(y)\n",
    "\n",
    "    errors = []\n",
    "    for epoch in range(epochs):\n",
    "        for i, x in enumerate(X):\n",
    "            optimizer.zero_grad()\n",
    "\n",
    "            outputs = nt(x)\n",
    "            loss = criterion(outputs, y[i])\n",
    "            loss.backward()\n",
    "            optimizer.step()\n",
    "\n",
    "            errors.append(loss.item())\n",
    "    return errors"
   ],
   "metadata": {
    "collapsed": false,
    "pycharm": {
     "name": "#%%\n"
    }
   }
  },
  {
   "cell_type": "code",
   "execution_count": 32,
   "outputs": [],
   "source": [
    "net = MLP([3, 3, 2])\n",
    "errors = learn(net, np.ones((100, 3)), np.zeros((100, 2)))"
   ],
   "metadata": {
    "collapsed": false,
    "pycharm": {
     "name": "#%%\n"
    }
   }
  },
  {
   "cell_type": "code",
   "execution_count": 33,
   "outputs": [
    {
     "data": {
      "text/plain": "[<matplotlib.lines.Line2D at 0x7fb025c41120>]"
     },
     "execution_count": 33,
     "metadata": {},
     "output_type": "execute_result"
    },
    {
     "data": {
      "text/plain": "<Figure size 432x288 with 1 Axes>",
      "image/png": "[encoded data removed]"
     },
     "metadata": {
      "needs_background": "light"
     },
     "output_type": "display_data"
    }
   ],
   "source": [
    "plt.plot(range(len(errors)), errors)"
   ],
   "metadata": {
    "collapsed": false,
    "pycharm": {
     "name": "#%%\n"
    }
   }
  },
  {
   "cell_type": "code",
   "execution_count": null,
   "outputs": [],
   "source": [],
   "metadata": {
    "collapsed": false,
    "pycharm": {
     "name": "#%%\n"
    }
   }
  }
 ],
 "metadata": {
  "kernelspec": {
   "display_name": "Python 3",
   "language": "python",
   "name": "python3"
  },
  "language_info": {
   "codemirror_mode": {
    "name": "ipython",
    "version": 2
   },
   "file_extension": ".py",
   "mimetype": "text/x-python",
   "name": "python",
   "nbconvert_exporter": "python",
   "pygments_lexer": "ipython2",
   "version": "2.7.6"
  }
 },
 "nbformat": 4,
 "nbformat_minor": 0
}
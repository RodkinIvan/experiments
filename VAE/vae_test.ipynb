{
 "cells": [
  {
   "cell_type": "code",
   "execution_count": 1,
   "metadata": {
    "collapsed": true,
    "pycharm": {
     "name": "#%%\n"
    }
   },
   "outputs": [
    {
     "name": "stderr",
     "output_type": "stream",
     "text": [
      "/home/ivan/.local/lib/python3.10/site-packages/torch/cuda/__init__.py:83: UserWarning: CUDA initialization: CUDA unknown error - this may be due to an incorrectly set up environment, e.g. changing env variable CUDA_VISIBLE_DEVICES after program start. Setting the available devices to be zero. (Triggered internally at  ../c10/cuda/CUDAFunctions.cpp:109.)\n",
      "  return torch._C._cuda_getDeviceCount() > 0\n"
     ]
    }
   ],
   "source": [
    "import torch.nn as nn\n",
    "import torch\n",
    "import torch.optim as optim\n",
    "import torch.nn.functional as F\n",
    "import wandb\n",
    "\n",
    "import numpy as np\n",
    "import matplotlib.pyplot as plt\n",
    "\n",
    "from torch import Tensor\n",
    "from tqdm.notebook import tqdm\n",
    "\n",
    "from sklearn.datasets import fetch_openml"
   ]
  },
  {
   "cell_type": "code",
   "execution_count": 62,
   "outputs": [],
   "source": [
    "class MLP(nn.Module):\n",
    "    def __init__(self, layers_sizes: list):\n",
    "        super(MLP, self).__init__()\n",
    "        self.net = []\n",
    "        for i, sz in enumerate(layers_sizes):\n",
    "            if i + 1 != len(layers_sizes):\n",
    "                self.net.append(nn.Linear(sz, layers_sizes[i + 1]))\n",
    "\n",
    "    def forward(self, x):\n",
    "        for layer in self.net:\n",
    "            x = layer(x)\n",
    "            x = torch.tanh(x)\n",
    "        return x\n",
    "\n",
    "    def parameters(self, recurse: bool = True):\n",
    "        for layer in self.net:\n",
    "            for param in layer.parameters():\n",
    "                yield param\n",
    "\n",
    "class AE(nn.Module):\n",
    "    def __init__(self, shape, hidden):\n",
    "        super(AE, self).__init__()\n",
    "        self.hidden = hidden\n",
    "\n",
    "        self.encoder = MLP([shape, hidden, hidden])\n",
    "\n",
    "        self.decoder = MLP([hidden, hidden, shape])\n",
    "\n",
    "    def forward(self, x):\n",
    "        x = self.encoder(x)\n",
    "        x = self.decoder(x)\n",
    "        return x\n",
    "\n",
    "    def generate(self):\n",
    "        representation = torch.normal(0.5, 0.3, size=(self.hidden,))\n",
    "        return self.decoder(representation)\n",
    "\n",
    "    def generate_onehot(self):\n",
    "        representation = torch.zeros(self.hidden)\n",
    "        representation[torch.randint(0, self.hidden, size=(1,))[0]] = 1\n",
    "        return self.decoder(representation)\n",
    "\n",
    "    def parameters(self, recurse: bool = True):\n",
    "        for param in self.encoder.parameters():\n",
    "            yield param\n",
    "        for param in self.decoder.parameters():\n",
    "            yield param\n",
    "\n",
    "\n",
    "class VAE(nn.Module):\n",
    "\n",
    "    def __init__(self, encoder_sizes: list, decoder_sizes, dim: int):\n",
    "        super(VAE, self).__init__()\n",
    "        self.encoder = MLP(encoder_sizes)\n",
    "\n",
    "        self.to_mean = nn.Linear(encoder_sizes[-1], dim)\n",
    "        self.to_cov = nn.Linear(encoder_sizes[-1], dim)\n",
    "        self.to_decoder = nn.Linear(dim, decoder_sizes[1])\n",
    "\n",
    "        self.decoder = MLP(decoder_sizes)\n",
    "\n",
    "    def forward(self, x):\n",
    "        self.encoder(x)\n"
   ],
   "metadata": {
    "collapsed": false,
    "pycharm": {
     "name": "#%%\n"
    }
   }
  },
  {
   "cell_type": "code",
   "execution_count": 19,
   "outputs": [],
   "source": [
    "def learn(nt, X, y, epochs=1):\n",
    "    optimizer = optim.SGD(nt.parameters(), lr=0.01, momentum=0.9)\n",
    "    criterion = nn.MSELoss()\n",
    "\n",
    "    X = Tensor(X)\n",
    "    y = Tensor(y)\n",
    "\n",
    "    errors = []\n",
    "    for epoch in range(epochs):\n",
    "        for i, x in enumerate(X):\n",
    "            optimizer.zero_grad()\n",
    "\n",
    "            outputs = nt(x)\n",
    "            loss = criterion(outputs, y[i])\n",
    "            loss.backward()\n",
    "            optimizer.step()\n",
    "\n",
    "            errors.append(loss.item())\n",
    "    return errors"
   ],
   "metadata": {
    "collapsed": false,
    "pycharm": {
     "name": "#%%\n"
    }
   }
  },
  {
   "cell_type": "code",
   "execution_count": 20,
   "outputs": [],
   "source": [
    "df = fetch_openml('mnist_784')"
   ],
   "metadata": {
    "collapsed": false,
    "pycharm": {
     "name": "#%%\n"
    }
   }
  },
  {
   "cell_type": "code",
   "execution_count": 5,
   "outputs": [
    {
     "name": "stdout",
     "output_type": "stream",
     "text": [
      "(70000, 784) (70000,)\n"
     ]
    }
   ],
   "source": [
    "data = df['data'].to_numpy() > 0\n",
    "targets = df['target'].to_numpy()\n",
    "\n",
    "print(data.shape, targets.shape)"
   ],
   "metadata": {
    "collapsed": false,
    "pycharm": {
     "name": "#%%\n"
    }
   }
  },
  {
   "cell_type": "code",
   "execution_count": 6,
   "outputs": [
    {
     "data": {
      "text/plain": "<Figure size 432x288 with 1 Axes>",
      "image/png": "[encoded data removed]"
     },
     "metadata": {
      "needs_background": "light"
     },
     "output_type": "display_data"
    }
   ],
   "source": [
    "def show(v_img: np.ndarray):\n",
    "    plt.imshow(v_img.reshape(-1, 28))\n",
    "\n",
    "show(data[0])"
   ],
   "metadata": {
    "collapsed": false,
    "pycharm": {
     "name": "#%%\n"
    }
   }
  },
  {
   "cell_type": "code",
   "execution_count": 63,
   "outputs": [],
   "source": [
    "def train_ae(ae, data, n_epochs=1):\n",
    "    optimizer = optim.SGD(ae.parameters(), lr=0.001, momentum=0.9)\n",
    "    criterion = nn.MSELoss()\n",
    "\n",
    "    bar = tqdm(total=data.shape[0]*n_epochs)\n",
    "    wandb.init(project='VAE', entity='irodkin')\n",
    "\n",
    "    data_ = torch.from_numpy(data).float()\n",
    "    for i in range(n_epochs):\n",
    "        for img in data_:\n",
    "            optimizer.zero_grad()\n",
    "\n",
    "            output = ae(img)\n",
    "\n",
    "            loss = criterion(output, img)\n",
    "            wandb.log({'loss': loss.item()})\n",
    "\n",
    "            loss.backward()\n",
    "            optimizer.step()\n",
    "\n",
    "            bar.update()\n",
    "    wandb.finish()"
   ],
   "metadata": {
    "collapsed": false,
    "pycharm": {
     "name": "#%%\n"
    }
   }
  },
  {
   "cell_type": "code",
   "execution_count": 75,
   "outputs": [
    {
     "data": {
      "text/plain": "  0%|          | 0/40000 [00:00<?, ?it/s]",
      "application/vnd.jupyter.widget-view+json": {
       "version_major": 2,
       "version_minor": 0,
       "model_id": "ca69edb7a6274a3d84fc478456611c1c"
      }
     },
     "metadata": {},
     "output_type": "display_data"
    },
    {
     "data": {
      "text/plain": "<IPython.core.display.HTML object>",
      "text/html": "wandb version 0.12.21 is available!  To upgrade, please run:\n $ pip install wandb --upgrade"
     },
     "metadata": {},
     "output_type": "display_data"
    },
    {
     "data": {
      "text/plain": "<IPython.core.display.HTML object>",
      "text/html": "Tracking run with wandb version 0.12.16"
     },
     "metadata": {},
     "output_type": "display_data"
    },
    {
     "data": {
      "text/plain": "<IPython.core.display.HTML object>",
      "text/html": "Run data is saved locally in <code>/home/ivan/DataspellProjects/experiments/VAE/wandb/run-20220730_235413-30tz8a6k</code>"
     },
     "metadata": {},
     "output_type": "display_data"
    },
    {
     "data": {
      "text/plain": "<IPython.core.display.HTML object>",
      "text/html": "Syncing run <strong><a href=\"https://wandb.ai/irodkin/VAE/runs/30tz8a6k\" target=\"_blank\">misunderstood-durian-25</a></strong> to <a href=\"https://wandb.ai/irodkin/VAE\" target=\"_blank\">Weights & Biases</a> (<a href=\"https://wandb.me/run\" target=\"_blank\">docs</a>)<br/>"
     },
     "metadata": {},
     "output_type": "display_data"
    },
    {
     "data": {
      "text/plain": "<IPython.core.display.HTML object>",
      "text/html": "Waiting for W&B process to finish... <strong style=\"color:green\">(success).</strong>"
     },
     "metadata": {},
     "output_type": "display_data"
    },
    {
     "data": {
      "text/plain": "VBox(children=(Label(value='0.001 MB of 0.001 MB uploaded (0.000 MB deduped)\\r'), FloatProgress(value=1.0, max…",
      "application/vnd.jupyter.widget-view+json": {
       "version_major": 2,
       "version_minor": 0,
       "model_id": "d50d3ea88620433db8c18424a93e8a99"
      }
     },
     "metadata": {},
     "output_type": "display_data"
    },
    {
     "data": {
      "text/plain": "<IPython.core.display.HTML object>",
      "text/html": "<style>\n    table.wandb td:nth-child(1) { padding: 0 10px; text-align: left ; width: auto;} td:nth-child(2) {text-align: left ; width: 100%}\n    .wandb-row { display: flex; flex-direction: row; flex-wrap: wrap; justify-content: flex-start; width: 100% }\n    .wandb-col { display: flex; flex-direction: column; flex-basis: 100%; flex: 1; padding: 10px; }\n    </style>\n<div class=\"wandb-row\"><div class=\"wandb-col\"><h3>Run history:</h3><br/><table class=\"wandb\"><tr><td>loss</td><td>▇▅▄▅▆██▆▃▅▄▅▄▃▃▄▃▃▂▂▃▂▃▁▂▂▂▃▂▆▄▂▁▄▁▃▃▆▃▂</td></tr></table><br/></div><div class=\"wandb-col\"><h3>Run summary:</h3><br/><table class=\"wandb\"><tr><td>loss</td><td>0.08066</td></tr></table><br/></div></div>"
     },
     "metadata": {},
     "output_type": "display_data"
    },
    {
     "data": {
      "text/plain": "<IPython.core.display.HTML object>",
      "text/html": "Synced <strong style=\"color:#cdcd00\">misunderstood-durian-25</strong>: <a href=\"https://wandb.ai/irodkin/VAE/runs/30tz8a6k\" target=\"_blank\">https://wandb.ai/irodkin/VAE/runs/30tz8a6k</a><br/>Synced 4 W&B file(s), 0 media file(s), 0 artifact file(s) and 0 other file(s)"
     },
     "metadata": {},
     "output_type": "display_data"
    },
    {
     "data": {
      "text/plain": "<IPython.core.display.HTML object>",
      "text/html": "Find logs at: <code>./wandb/run-20220730_235413-30tz8a6k/logs</code>"
     },
     "metadata": {},
     "output_type": "display_data"
    }
   ],
   "source": [
    "ae = AE(data[0].size, 32)\n",
    "# ae = nn.Sequential(\n",
    "#     nn.Linear(data[0].size, 16),\n",
    "#     nn.Tanh(),\n",
    "#     nn.Linear(16, data[0].size),\n",
    "#     nn.Tanh()\n",
    "# )\n",
    "train_ae(ae, data[:10000], n_epochs=4)"
   ],
   "metadata": {
    "collapsed": false,
    "pycharm": {
     "name": "#%%\n"
    }
   }
  },
  {
   "cell_type": "code",
   "execution_count": 81,
   "outputs": [
    {
     "data": {
      "text/plain": "<Figure size 432x288 with 1 Axes>",
      "image/png": "[encoded data removed]"
     },
     "metadata": {
      "needs_background": "light"
     },
     "output_type": "display_data"
    }
   ],
   "source": [
    "show(ae.generate().detach().numpy())"
   ],
   "metadata": {
    "collapsed": false,
    "pycharm": {
     "name": "#%%\n"
    }
   }
  },
  {
   "cell_type": "code",
   "execution_count": 82,
   "outputs": [
    {
     "data": {
      "text/plain": "<Figure size 432x288 with 1 Axes>",
      "image/png": "[encoded data removed]"
     },
     "metadata": {
      "needs_background": "light"
     },
     "output_type": "display_data"
    }
   ],
   "source": [
    "show(ae.generate_onehot().detach().numpy())"
   ],
   "metadata": {
    "collapsed": false,
    "pycharm": {
     "name": "#%%\n"
    }
   }
  },
  {
   "cell_type": "code",
   "execution_count": 80,
   "outputs": [
    {
     "data": {
      "text/plain": "<Figure size 432x288 with 1 Axes>",
      "image/png": "[encoded data removed]"
     },
     "metadata": {
      "needs_background": "light"
     },
     "output_type": "display_data"
    }
   ],
   "source": [
    "i = 2\n",
    "# show(data[i])\n",
    "show(ae(torch.from_numpy(data[i]).float()).detach().numpy())"
   ],
   "metadata": {
    "collapsed": false,
    "pycharm": {
     "name": "#%%\n"
    }
   }
  },
  {
   "cell_type": "code",
   "execution_count": null,
   "outputs": [],
   "source": [],
   "metadata": {
    "collapsed": false,
    "pycharm": {
     "name": "#%%\n"
    }
   }
  }
 ],
 "metadata": {
  "kernelspec": {
   "display_name": "Python 3",
   "language": "python",
   "name": "python3"
  },
  "language_info": {
   "codemirror_mode": {
    "name": "ipython",
    "version": 2
   },
   "file_extension": ".py",
   "mimetype": "text/x-python",
   "name": "python",
   "nbconvert_exporter": "python",
   "pygments_lexer": "ipython2",
   "version": "2.7.6"
  }
 },
 "nbformat": 4,
 "nbformat_minor": 0
}
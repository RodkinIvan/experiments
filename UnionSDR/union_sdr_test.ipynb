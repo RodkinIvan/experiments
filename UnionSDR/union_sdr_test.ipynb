{
 "cells": [
  {
   "cell_type": "code",
   "execution_count": 1,
   "outputs": [
    {
     "name": "stderr",
     "output_type": "stream",
     "text": [
      "\u001B[34m\u001B[1mwandb\u001B[0m: W&B API key is configured (use `wandb login --relogin` to force relogin)\n"
     ]
    },
    {
     "data": {
      "text/plain": "True"
     },
     "execution_count": 1,
     "metadata": {},
     "output_type": "execute_result"
    }
   ],
   "source": [
    "from htm.algorithms import TemporalMemory\n",
    "from htm_rl.modules.htm.temporal_memory import DelayedFeedbackTM\n",
    "from htm.bindings.sdr import SDR\n",
    "import numpy as np\n",
    "import matplotlib.pyplot as plt\n",
    "from htm_rl.modules.htm.spatial_pooler import UnionTemporalPooler\n",
    "import seaborn as sns\n",
    "from configs import *\n",
    "import wandb\n",
    "\n",
    "wandb.login()"
   ],
   "metadata": {
    "collapsed": false,
    "pycharm": {
     "name": "#%%\n"
    }
   }
  },
  {
   "cell_type": "code",
   "execution_count": 2,
   "outputs": [],
   "source": [
    "from configs import *  # I'm so sorry for this...\n",
    "\n",
    "\n",
    "class StupidEncoder:\n",
    "    def __init__(self, _n_actions, output_size):\n",
    "        self.n_actions = _n_actions\n",
    "        self.action_size = int(output_size / _n_actions)\n",
    "        self.output_size = output_size\n",
    "\n",
    "    def encode(self, action: int):\n",
    "        result = np.zeros(self.output_size)\n",
    "        result[self.action_size * action: self.action_size * (action + 1)] = 1\n",
    "        return result\n",
    "\n",
    "\n",
    "def make_sdr(pos: tuple, _shape: tuple) -> SDR:\n",
    "    result = SDR(_shape)\n",
    "    numpy_res = result.dense\n",
    "    numpy_res = np.zeros(_shape)\n",
    "    numpy_res[pos] = 1\n",
    "    result.dense = numpy_res\n",
    "    return result\n",
    "\n",
    "\n",
    "def make_sdrs(array: np.ndarray, _shape: tuple) -> np.ndarray:\n",
    "    result = np.ndarray((array.size,), dtype=SDR)\n",
    "    iterator = 0\n",
    "    for number in array:\n",
    "        result[iterator] = make_sdr(number, _shape)\n",
    "        iterator += 1\n",
    "    return result\n",
    "\n",
    "\n",
    "def learn_model(tm: TemporalMemory, sdrs: np.ndarray, num_epochs=10) -> list:\n",
    "    errors = []\n",
    "    for epoch in range(num_epochs):\n",
    "        for sdr in sdrs:\n",
    "            tm.compute(sdr, learn=True)\n",
    "            tm.activateDendrites(True)\n",
    "            errors.append(tm.anomaly)\n",
    "        tm.compute(SDR(sdrs[0].dense.shape), learn=False)\n",
    "    return errors\n",
    "\n",
    "\n",
    "def generate_data(n, n_actions, n_states, randomness=1.0, seed=0):\n",
    "    raw_data = list()\n",
    "    np.random.seed(seed)\n",
    "    seed_seq = np.random.randint(0, n_actions, n_states)\n",
    "    raw_data.append(seed_seq.copy())\n",
    "    n_replace = int(n_states * randomness)\n",
    "    for i in range(1, n):\n",
    "        new_seq = np.random.randint(0, n_actions, n_states)\n",
    "        if randomness == 1.0:\n",
    "            raw_data.append(new_seq)\n",
    "        else:\n",
    "            indices = np.random.randint(0, n_states, n_replace)\n",
    "            seed_seq[indices] = new_seq[indices]\n",
    "            raw_data.append(seed_seq.copy())\n",
    "    data = [list(zip(range(n_states), x)) for x in raw_data]\n",
    "    return raw_data, data\n",
    "\n",
    "\n",
    "def compute(tm, state, action, learn=True):\n",
    "    context = state_encoder.encode(state)\n",
    "    active_input = action_encoder.encode(action)\n",
    "\n",
    "    tm.set_active_context_cells(context)\n",
    "\n",
    "    tm.activate_basal_dendrites(learn)\n",
    "    tm.predict_cells()\n",
    "\n",
    "    tm.set_active_columns(active_input)\n",
    "    tm.activate_cells(learn)\n",
    "\n",
    "\n",
    "def symmetric_diff_sz(set1: np.ndarray, set2: np.ndarray) -> int:\n",
    "    return np.setdiff1d(set1, set2).size + np.setdiff1d(set2, set1).size\n",
    "\n",
    "\n",
    "def symmetric_error(_output, _target):\n",
    "    return symmetric_diff_sz(_output, _target) / np.union1d(_output, _target).size\n",
    "\n",
    "\n",
    "def representations_intersection_1(dense1, dense2):\n",
    "    return np.count_nonzero(dense1 * dense2) / np.count_nonzero(dense1)\n",
    "\n",
    "\n",
    "def run(tm, tp, policy, state_encoder, action_encoder, learn=True, prev_dense=None, whole_active: SDR = None):\n",
    "    tp_prev_union = tp.getUnionSDR().sparse.copy()\n",
    "    tp_input = SDR(tp.getNumInputs())\n",
    "    tp_predictive = SDR(tp.getNumInputs())\n",
    "    window_size = 1\n",
    "    window_error = 0\n",
    "    counter = 0\n",
    "    for state, action in policy:\n",
    "        context = state_encoder.encode(state)\n",
    "        active_input = action_encoder.encode(action)\n",
    "\n",
    "        tm.set_active_context_cells(context)\n",
    "\n",
    "        tm.activate_basal_dendrites(learn)\n",
    "\n",
    "        tm.set_active_feedback_cells(tp.getUnionSDR().sparse)\n",
    "        tm.activate_apical_dendrites(learn)\n",
    "        tm.propagate_feedback()\n",
    "\n",
    "        tm.predict_cells()\n",
    "\n",
    "        tm.set_active_columns(active_input)\n",
    "        tm.activate_cells(learn)\n",
    "\n",
    "        tp_input.sparse = tm.get_active_cells()\n",
    "        tp_predictive.sparse = tm.get_correctly_predicted_cells()\n",
    "        tp.compute(tp_input, tp_predictive, learn)\n",
    "\n",
    "        current_union = tp.getUnionSDR().sparse.copy()\n",
    "\n",
    "        window_error += symmetric_error(current_union, tp_prev_union)\n",
    "\n",
    "        my_log = {}\n",
    "        if prev_dense is not None:\n",
    "            my_log['new_cells_percent'] = 1 - representations_intersection_1(tp.getUnionSDR().dense, prev_dense)\n",
    "            my_log['num_in_prev'] = np.count_nonzero(prev_dense)\n",
    "            my_log['num_in_curr'] = np.count_nonzero(tp.getUnionSDR().dense)\n",
    "\n",
    "        if whole_active is not None:\n",
    "            whole_active.dense = np.logical_or(whole_active.dense, tp.getUnionSDR().dense)\n",
    "            whole_nonzero = np.count_nonzero(whole_active.dense)\n",
    "            my_log['cells_in_whole'] = np.count_nonzero(tp.getUnionSDR().dense) / whole_nonzero\n",
    "\n",
    "        if counter % window_size == window_size - 1:\n",
    "            my_log['difference'] = (window_error / window_size)\n",
    "            window_error = 0\n",
    "        wandb.log(my_log)\n",
    "        tp_prev_union = current_union.copy()\n",
    "\n",
    "        counter += 1\n",
    "\n",
    "\n",
    "def run_only_tp(_tp, sequence, _encoder, learn=True):\n",
    "    prev_union = _tp.getUnionSDR().sparse.copy()\n",
    "\n",
    "    for element in sequence:\n",
    "        _input = _encoder.encode(element)\n",
    "        sdr = SDR(_tp.getNumInputs())\n",
    "        sdr.dense = _input\n",
    "        _tp.compute_discrete(sdr, sdr, True)\n",
    "        diff = symmetric_error(prev_union, _tp.getUnionSDR().sparse)\n",
    "        wandb.log({'difference': diff})\n",
    "\n",
    "\n",
    "def get_one_hot(num, _classes_num=25):\n",
    "    _data = np.zeros(_classes_num)\n",
    "    _data[num] = 1\n",
    "    return _data\n",
    "\n",
    "\n",
    "row_data, data = generate_data(5, n_actions, n_states, randomness=0.5)\n",
    "np.random.shuffle(data)"
   ],
   "metadata": {
    "collapsed": false,
    "pycharm": {
     "name": "#%%\n"
    }
   }
  },
  {
   "cell_type": "code",
   "execution_count": 3,
   "outputs": [
    {
     "data": {
      "text/plain": "<IPython.core.display.HTML object>",
      "text/html": "\n                    Syncing run <strong><a href=\"https://wandb.ai/irodkin/my_utp/runs/2w4c7wc0\" target=\"_blank\">chocolate-capybara-156</a></strong> to <a href=\"https://wandb.ai/irodkin/my_utp\" target=\"_blank\">Weights & Biases</a> (<a href=\"https://docs.wandb.com/integrations/jupyter.html\" target=\"_blank\">docs</a>).<br/>\n\n                "
     },
     "metadata": {},
     "output_type": "display_data"
    },
    {
     "ename": "KeyboardInterrupt",
     "evalue": "",
     "output_type": "error",
     "traceback": [
      "\u001B[0;31m---------------------------------------------------------------------------\u001B[0m",
      "\u001B[0;31mKeyboardInterrupt\u001B[0m                         Traceback (most recent call last)",
      "Input \u001B[0;32mIn [3]\u001B[0m, in \u001B[0;36m<module>\u001B[0;34m\u001B[0m\n\u001B[1;32m      2\u001B[0m wandb\u001B[38;5;241m.\u001B[39minit(project\u001B[38;5;241m=\u001B[39m\u001B[38;5;124m'\u001B[39m\u001B[38;5;124mmy_utp\u001B[39m\u001B[38;5;124m'\u001B[39m, entity\u001B[38;5;241m=\u001B[39m\u001B[38;5;124m'\u001B[39m\u001B[38;5;124mirodkin\u001B[39m\u001B[38;5;124m'\u001B[39m, reinit\u001B[38;5;241m=\u001B[39m\u001B[38;5;28;01mTrue\u001B[39;00m)\n\u001B[1;32m      3\u001B[0m tm \u001B[38;5;241m=\u001B[39m DelayedFeedbackTM(\u001B[38;5;241m*\u001B[39m\u001B[38;5;241m*\u001B[39mconfig_tm)\n\u001B[0;32m----> 4\u001B[0m tp \u001B[38;5;241m=\u001B[39m \u001B[43mUnionTemporalPooler\u001B[49m\u001B[43m(\u001B[49m\u001B[38;5;241;43m*\u001B[39;49m\u001B[38;5;241;43m*\u001B[39;49m\u001B[43mconfig_tp\u001B[49m\u001B[43m)\u001B[49m\n\u001B[1;32m      6\u001B[0m \u001B[38;5;28;01mfor\u001B[39;00m i \u001B[38;5;129;01min\u001B[39;00m \u001B[38;5;28mrange\u001B[39m(\u001B[38;5;241m100\u001B[39m):\n\u001B[1;32m      7\u001B[0m     run(tm, tp, data[\u001B[38;5;241m0\u001B[39m], state_encoder, action_encoder, \u001B[38;5;28;01mTrue\u001B[39;00m)\n",
      "File \u001B[0;32m~/.local/lib/python3.10/site-packages/htm_rl-1.0-py3.10.egg/htm_rl/modules/htm/spatial_pooler.py:552\u001B[0m, in \u001B[0;36mUnionTemporalPooler.__init__\u001B[0;34m(self, activeOverlapWeight, predictedActiveOverlapWeight, maxUnionActivity, exciteFunctionType, decayFunctionType, decayTimeConst, synPermPredActiveInc, synPermPreviousPredActiveInc, historyLength, minHistory, **kwargs)\u001B[0m\n\u001B[1;32m    516\u001B[0m \u001B[38;5;28;01mdef\u001B[39;00m \u001B[38;5;21m__init__\u001B[39m(\u001B[38;5;28mself\u001B[39m,\n\u001B[1;32m    517\u001B[0m              activeOverlapWeight\u001B[38;5;241m=\u001B[39m\u001B[38;5;241m1.0\u001B[39m,\n\u001B[1;32m    518\u001B[0m              predictedActiveOverlapWeight\u001B[38;5;241m=\u001B[39m\u001B[38;5;241m0.0\u001B[39m,\n\u001B[0;32m   (...)\u001B[0m\n\u001B[1;32m    526\u001B[0m              minHistory\u001B[38;5;241m=\u001B[39m\u001B[38;5;241m0\u001B[39m,\n\u001B[1;32m    527\u001B[0m              \u001B[38;5;241m*\u001B[39m\u001B[38;5;241m*\u001B[39mkwargs):\n\u001B[1;32m    528\u001B[0m     \u001B[38;5;124;03m\"\"\"\u001B[39;00m\n\u001B[1;32m    529\u001B[0m \u001B[38;5;124;03mPlease see spatial_pooler.py in NuPIC for super class parameter\u001B[39;00m\n\u001B[1;32m    530\u001B[0m \u001B[38;5;124;03mdescriptions.\u001B[39;00m\n\u001B[0;32m   (...)\u001B[0m\n\u001B[1;32m    549\u001B[0m \u001B[38;5;124;03mlength >= minHistory\u001B[39;00m\n\u001B[1;32m    550\u001B[0m \u001B[38;5;124;03m\"\"\"\u001B[39;00m\n\u001B[0;32m--> 552\u001B[0m     \u001B[38;5;28;43msuper\u001B[39;49m\u001B[43m(\u001B[49m\u001B[43mUnionTemporalPooler\u001B[49m\u001B[43m,\u001B[49m\u001B[43m \u001B[49m\u001B[38;5;28;43mself\u001B[39;49m\u001B[43m)\u001B[49m\u001B[38;5;241;43m.\u001B[39;49m\u001B[38;5;21;43m__init__\u001B[39;49m\u001B[43m(\u001B[49m\u001B[38;5;241;43m*\u001B[39;49m\u001B[38;5;241;43m*\u001B[39;49m\u001B[43mkwargs\u001B[49m\u001B[43m)\u001B[49m\n\u001B[1;32m    554\u001B[0m     \u001B[38;5;28mself\u001B[39m\u001B[38;5;241m.\u001B[39m_activeOverlapWeight \u001B[38;5;241m=\u001B[39m activeOverlapWeight\n\u001B[1;32m    555\u001B[0m     \u001B[38;5;28mself\u001B[39m\u001B[38;5;241m.\u001B[39m_predictedActiveOverlapWeight \u001B[38;5;241m=\u001B[39m predictedActiveOverlapWeight\n",
      "\u001B[0;31mKeyboardInterrupt\u001B[0m: "
     ]
    }
   ],
   "source": [
    "errors = []\n",
    "wandb.init(project='my_utp', entity='irodkin', reinit=True)\n",
    "tm = DelayedFeedbackTM(**config_tm)\n",
    "tp = UnionTemporalPooler(**config_tp)\n",
    "\n",
    "for i in range(100):\n",
    "    run(tm, tp, data[0], state_encoder, action_encoder, True)\n",
    "wandb.finish()"
   ],
   "metadata": {
    "collapsed": false,
    "pycharm": {
     "name": "#%%\n"
    }
   }
  },
  {
   "cell_type": "code",
   "execution_count": 79,
   "outputs": [],
   "source": [
    "tm = DelayedFeedbackTM(**config_tm)\n",
    "tp = UnionTemporalPooler(**config_tp)\n",
    "# errors = run(tm, tp, data[0], state_encoder, action_encoder)\n",
    "# print(data)\n",
    "# print(errors)"
   ],
   "metadata": {
    "collapsed": false,
    "pycharm": {
     "name": "#%%\n"
    }
   }
  },
  {
   "cell_type": "code",
   "execution_count": 11,
   "outputs": [
    {
     "data": {
      "text/plain": "Text(0.5, 1.0, 'tp_one_policy_errors')"
     },
     "execution_count": 11,
     "metadata": {},
     "output_type": "execute_result"
    },
    {
     "data": {
      "text/plain": "<Figure size 432x288 with 1 Axes>",
      "image/png": "[encoded data removed]"
     },
     "metadata": {
      "needs_background": "light"
     },
     "output_type": "display_data"
    }
   ],
   "source": [
    "plt.plot(range(len(errors)), errors)\n",
    "plt.title('tp_one_policy_errors')"
   ],
   "metadata": {
    "collapsed": false,
    "pycharm": {
     "name": "#%%\n"
    }
   }
  },
  {
   "cell_type": "code",
   "execution_count": 9,
   "outputs": [],
   "source": [
    "\n",
    "class MyUTP:\n",
    "    _initial_pooling = 1\n",
    "    _pooling_decay = 0.1\n",
    "\n",
    "    def __init__(self,\n",
    "                 inputDimensions,\n",
    "                 columnDimensions,\n",
    "                 initial_pooling,\n",
    "                 pooling_decay,\n",
    "                 permanence_inc,\n",
    "                 permanence_dec,\n",
    "                 sparsity,\n",
    "                 active_weight,\n",
    "                 predicted_weight,\n",
    "                 receptive_field_sparsity,\n",
    "                 activation_threshold,\n",
    "                 **kwargs):\n",
    "        input_shape = inputDimensions\n",
    "        output_shape = columnDimensions\n",
    "        out_size = np.prod(output_shape)\n",
    "        in_size = np.prod(input_shape)\n",
    "        self._union_sdr = SDR(output_shape)\n",
    "        self._pooling_activations = np.zeros(output_shape)\n",
    "        self._shape = output_shape\n",
    "        self._initial_pooling = initial_pooling\n",
    "        self._pooling_decay = pooling_decay\n",
    "        self._permanence_inc = permanence_inc\n",
    "        self._permanence_dec = permanence_dec\n",
    "        self.winners_num = int(np.ceil(sparsity * out_size))\n",
    "        self.active_weight = active_weight\n",
    "        self.predicted_weight = predicted_weight\n",
    "        self.input_dimensions = input_shape\n",
    "        self.field_size = int(receptive_field_sparsity * in_size)\n",
    "        self.activation_threshold = activation_threshold\n",
    "\n",
    "        self.connections = np.random.normal(self.activation_threshold, 0.1, (out_size, in_size))\n",
    "\n",
    "        self.receptive_fields = np.zeros((out_size, in_size))\n",
    "        self.set_receptive_fields()\n",
    "\n",
    "        self.sensitivity = np.random.uniform(0, 1, (out_size, in_size))\n",
    "\n",
    "    def set_receptive_fields(self):\n",
    "        for cell in self.receptive_fields:\n",
    "            receptive_field = np.random.choice(np.prod(self.input_dimensions), self.field_size, replace=False)\n",
    "            cell[receptive_field] = 1\n",
    "\n",
    "    def pooling_decay_step(self):\n",
    "        self._pooling_activations[self._pooling_activations != 0] -= self._pooling_decay\n",
    "\n",
    "    def get_active_cells(self, data: np.ndarray) -> SDR:\n",
    "        tie_breaker = np.random.normal(0, 0.01, self._shape)\n",
    "        activations = (self.connections * self.sensitivity) @ data + tie_breaker\n",
    "\n",
    "        most_active = np.argpartition(activations.flatten(), -self.winners_num)[-self.winners_num:]\n",
    "        result_sdr = SDR(self._shape)\n",
    "        result_sdr.sparse = most_active\n",
    "        return result_sdr\n",
    "\n",
    "    def update_permanences(self, active_neurons: np.ndarray):\n",
    "        self.connections[:, np.flatnonzero(active_neurons)] -= self._permanence_dec\n",
    "\n",
    "        active_synapses = np.ix_(self.getUnionSDR().sparse, np.flatnonzero(active_neurons))\n",
    "        self.connections[active_synapses] += self._permanence_dec\n",
    "        # self.connections[active_synapses] = (self.connections[active_synapses].transpose()+self._permanence_inc*self._pooling_activations[self.getUnionSDR().sparse]).transpose()\n",
    "        self.connections[active_synapses] += self._permanence_inc\n",
    "        self.connections = self.connections.clip(0, 1)\n",
    "\n",
    "    def compute_continuous(self, active_neurons: SDR, predicted_neurons: SDR, learn: bool = True):\n",
    "        weighted_input = active_neurons.dense * self.active_weight + predicted_neurons.dense * self.predicted_weight\n",
    "        winners = self.get_active_cells(weighted_input)\n",
    "        self.pooling_decay_step()\n",
    "        self._pooling_activations[winners.sparse] += self._initial_pooling\n",
    "        self._pooling_activations = self._pooling_activations.clip(0, 1)\n",
    "        self._union_sdr.dense = self._pooling_activations != 0\n",
    "\n",
    "        if learn:\n",
    "            self.update_permanences(active_neurons.dense)\n",
    "\n",
    "    def count_overlap(self, active_neurons: SDR, predicted_neurons: SDR) -> np.ndarray:\n",
    "        active_synapses = np.logical_and(\n",
    "            self.receptive_fields,\n",
    "            self.connections > self.activation_threshold\n",
    "        )\n",
    "\n",
    "        cells_overlap = np.count_nonzero(np.logical_and(\n",
    "            active_neurons.dense == 1,\n",
    "            active_synapses\n",
    "        ), axis=1) * self.active_weight + np.count_nonzero(np.logical_and(\n",
    "            predicted_neurons.dense == 1,\n",
    "            active_synapses\n",
    "        ), axis=1) * self.predicted_weight\n",
    "\n",
    "        return cells_overlap\n",
    "\n",
    "    def choose_winners(self, overlap: np.ndarray):\n",
    "        tie_breaker = np.random.normal(0, 0.01, np.prod(self._shape))\n",
    "        overlap += tie_breaker\n",
    "        winners = np.argpartition(overlap, -self.winners_num)[-self.winners_num:]\n",
    "        return winners\n",
    "\n",
    "    def compute(self, active_neurons: SDR, predicted_neurons: SDR, learn: bool = True):\n",
    "        overlap = self.count_overlap(active_neurons, predicted_neurons)\n",
    "        winners = self.choose_winners(overlap)\n",
    "\n",
    "        self.pooling_decay_step()\n",
    "        self._pooling_activations[winners] += self._initial_pooling\n",
    "        self._pooling_activations = self._pooling_activations.clip(0, 1)\n",
    "        self._union_sdr.dense = self._pooling_activations != 0\n",
    "        if learn:\n",
    "            self.update_permanences(active_neurons.dense)\n",
    "\n",
    "    def compute_naive(self, active_neurons: SDR, predicted_neurons: SDR, learn: bool = True):\n",
    "        self.pooling_decay_step()\n",
    "\n",
    "    def getUnionSDR(self):\n",
    "        return self._union_sdr\n",
    "\n",
    "    def getNumInputs(self):\n",
    "        return self.input_dimensions\n",
    "\n",
    "    def reset(self):\n",
    "        self._pooling_activations = np.zeros(self._pooling_activations.shape)\n",
    "        self._union_sdr = SDR(self._union_sdr.dense.shape)\n",
    "\n",
    "\n",
    "def one_hot(num, _classes_num=25):\n",
    "    _data = np.zeros(_classes_num)\n",
    "    _data[num] = 1\n",
    "    return _data\n",
    "\n",
    "\n",
    "utp_conf = {\n",
    "    'inputDimensions': [input_columns * cells_per_column],\n",
    "    'columnDimensions': [output_columns],\n",
    "    'initial_pooling': 1,\n",
    "    'pooling_decay': 0.1,\n",
    "    'permanence_inc': 0.005,\n",
    "    'permanence_dec': 0.003,\n",
    "    'sparsity': 0.04,\n",
    "    'active_weight': 0.5,\n",
    "    'predicted_weight': 2.0,\n",
    "    'receptive_field_sparsity': 0.5,\n",
    "    'activation_threshold': 0.6,\n",
    "}\n",
    "np.random.seed(42)\n",
    "tp_shape = utp_conf['columnDimensions']\n",
    "in_shape = utp_conf['inputDimensions']\n",
    "prev = np.zeros(utp_conf['columnDimensions'])\n",
    "classes_num = utp_conf['inputDimensions']\n",
    "\n",
    "my_utp = MyUTP(**utp_conf)"
   ],
   "metadata": {
    "collapsed": false,
    "pycharm": {
     "name": "#%%\n"
    }
   }
  },
  {
   "cell_type": "code",
   "execution_count": 68,
   "outputs": [
    {
     "data": {
      "text/plain": "<IPython.core.display.HTML object>",
      "text/html": "\n                    Syncing run <strong><a href=\"https://wandb.ai/irodkin/my_utp/runs/1rze6h4z\" target=\"_blank\">restful-galaxy-105</a></strong> to <a href=\"https://wandb.ai/irodkin/my_utp\" target=\"_blank\">Weights & Biases</a> (<a href=\"https://docs.wandb.com/integrations/jupyter.html\" target=\"_blank\">docs</a>).<br/>\n\n                "
     },
     "metadata": {},
     "output_type": "display_data"
    },
    {
     "data": {
      "text/plain": "<IPython.core.display.HTML object>",
      "text/html": "Waiting for W&B process to finish, PID 245950... <strong style=\"color:green\">(success).</strong>"
     },
     "metadata": {},
     "output_type": "display_data"
    },
    {
     "data": {
      "text/plain": "VBox(children=(Label(value=' 0.00MB of 0.00MB uploaded (0.00MB deduped)\\r'), FloatProgress(value=1.0, max=1.0)…",
      "application/vnd.jupyter.widget-view+json": {
       "version_major": 2,
       "version_minor": 0,
       "model_id": "d3aaa25a3eac461da75845fd7f5de82e"
      }
     },
     "metadata": {},
     "output_type": "display_data"
    },
    {
     "data": {
      "text/plain": "<IPython.core.display.HTML object>",
      "text/html": "Synced <strong style=\"color:#cdcd00\">restful-galaxy-105</strong>: <a href=\"https://wandb.ai/irodkin/my_utp/runs/1rze6h4z\" target=\"_blank\">https://wandb.ai/irodkin/my_utp/runs/1rze6h4z</a><br/>\n"
     },
     "metadata": {},
     "output_type": "display_data"
    }
   ],
   "source": [
    "wandb.init(project='my_utp', entity='irodkin', reinit=True, config=utp_conf)\n",
    "\n",
    "my_utp = MyUTP(**utp_conf)\n",
    "tm = DelayedFeedbackTM(**config_tm)\n",
    "\n",
    "for i in range(100):\n",
    "    run(tm, my_utp, data[0], state_encoder, action_encoder, True)\n",
    "\n",
    "wandb.finish(quiet=True)"
   ],
   "metadata": {
    "collapsed": false,
    "pycharm": {
     "name": "#%%\n"
    }
   }
  },
  {
   "cell_type": "code",
   "execution_count": 8,
   "outputs": [
    {
     "data": {
      "text/plain": "<AxesSubplot:title={'center':'pooling activations'}>"
     },
     "execution_count": 8,
     "metadata": {},
     "output_type": "execute_result"
    },
    {
     "data": {
      "text/plain": "<Figure size 432x288 with 2 Axes>",
      "image/png": "[encoded data removed]"
     },
     "metadata": {
      "needs_background": "light"
     },
     "output_type": "display_data"
    }
   ],
   "source": [
    "plt.title('pooling activations')\n",
    "sns.heatmap(my_utp._pooling_activations.reshape(-1, 80), vmin=0, vmax=1, cmap='plasma')"
   ],
   "metadata": {
    "collapsed": false,
    "pycharm": {
     "name": "#%%\n"
    }
   }
  },
  {
   "cell_type": "code",
   "execution_count": 40,
   "outputs": [
    {
     "name": "stdout",
     "output_type": "stream",
     "text": [
      "0.059\n"
     ]
    }
   ],
   "source": [
    "print(my_utp.getUnionSDR().dense.nonzero()[0].size / output_columns)"
   ],
   "metadata": {
    "collapsed": false,
    "pycharm": {
     "name": "#%%\n"
    }
   }
  },
  {
   "cell_type": "code",
   "execution_count": 7,
   "outputs": [
    {
     "data": {
      "text/plain": "<IPython.core.display.HTML object>",
      "text/html": "<br/>Waiting for W&B process to finish, PID 28117... <strong style=\"color:green\">(success).</strong>"
     },
     "metadata": {},
     "output_type": "display_data"
    },
    {
     "data": {
      "text/plain": "VBox(children=(Label(value=' 0.00MB of 0.00MB uploaded (0.00MB deduped)\\r'), FloatProgress(value=1.0, max=1.0)…",
      "application/vnd.jupyter.widget-view+json": {
       "version_major": 2,
       "version_minor": 0,
       "model_id": "89cb341a6b1f49e8befb6871478c8398"
      }
     },
     "metadata": {},
     "output_type": "display_data"
    },
    {
     "data": {
      "text/plain": "<IPython.core.display.HTML object>",
      "text/html": "<style>\n    table.wandb td:nth-child(1) { padding: 0 10px; text-align: right }\n    .wandb-row { display: flex; flex-direction: row; flex-wrap: wrap; width: 100% }\n    .wandb-col { display: flex; flex-direction: column; flex-basis: 100%; flex: 1; padding: 10px; }\n    </style>\n<div class=\"wandb-row\"><div class=\"wandb-col\">\n</div><div class=\"wandb-col\">\n</div></div>\nSynced 5 W&B file(s), 0 media file(s), 0 artifact file(s) and 0 other file(s)\n<br/>Synced <strong style=\"color:#cdcd00\">cerulean-lion-164</strong>: <a href=\"https://wandb.ai/irodkin/my_utp/runs/2psuzjsy\" target=\"_blank\">https://wandb.ai/irodkin/my_utp/runs/2psuzjsy</a><br/>\nFind logs at: <code>./wandb/run-20220305_015822-2psuzjsy/logs</code><br/>\n"
     },
     "metadata": {},
     "output_type": "display_data"
    }
   ],
   "source": [
    "wandb.finish()\n",
    "# tm = DelayedFeedbackTM(**config_tm)"
   ],
   "metadata": {
    "collapsed": false,
    "pycharm": {
     "name": "#%%\n"
    }
   }
  },
  {
   "cell_type": "code",
   "execution_count": 67,
   "outputs": [
    {
     "data": {
      "text/plain": "<IPython.core.display.HTML object>",
      "text/html": "\n                    Syncing run <strong><a href=\"https://wandb.ai/irodkin/my_utp/runs/103g4phi\" target=\"_blank\">vivid-wood-104</a></strong> to <a href=\"https://wandb.ai/irodkin/my_utp\" target=\"_blank\">Weights & Biases</a> (<a href=\"https://docs.wandb.com/integrations/jupyter.html\" target=\"_blank\">docs</a>).<br/>\n\n                "
     },
     "metadata": {},
     "output_type": "display_data"
    },
    {
     "data": {
      "text/plain": "<IPython.core.display.HTML object>",
      "text/html": "Waiting for W&B process to finish, PID 245776... <strong style=\"color:green\">(success).</strong>"
     },
     "metadata": {},
     "output_type": "display_data"
    },
    {
     "data": {
      "text/plain": "VBox(children=(Label(value=' 0.00MB of 0.00MB uploaded (0.00MB deduped)\\r'), FloatProgress(value=1.0, max=1.0)…",
      "application/vnd.jupyter.widget-view+json": {
       "version_major": 2,
       "version_minor": 0,
       "model_id": "c8e6e6f76e6a4a0cb73d0451ba15cd56"
      }
     },
     "metadata": {},
     "output_type": "display_data"
    },
    {
     "data": {
      "text/plain": "<IPython.core.display.HTML object>",
      "text/html": "Synced <strong style=\"color:#cdcd00\">vivid-wood-104</strong>: <a href=\"https://wandb.ai/irodkin/my_utp/runs/103g4phi\" target=\"_blank\">https://wandb.ai/irodkin/my_utp/runs/103g4phi</a><br/>\n"
     },
     "metadata": {},
     "output_type": "display_data"
    }
   ],
   "source": [
    "wandb.init(project='my_utp', entity='irodkin', reinit=True, config=utp_conf)\n",
    "\n",
    "my_utp = MyUTP(**utp_conf)\n",
    "\n",
    "for i in range(100):\n",
    "    run_only_tp(my_utp, row_data[0], StupidEncoder(n_actions, utp_conf['inputDimensions'][0]), True)\n",
    "\n",
    "wandb.finish(quiet=True)"
   ],
   "metadata": {
    "collapsed": false,
    "pycharm": {
     "name": "#%%\n"
    }
   }
  },
  {
   "cell_type": "code",
   "execution_count": 10,
   "outputs": [
    {
     "data": {
      "text/plain": "<IPython.core.display.HTML object>",
      "text/html": "Tracking run with wandb version 0.12.11"
     },
     "metadata": {},
     "output_type": "display_data"
    },
    {
     "data": {
      "text/plain": "<IPython.core.display.HTML object>",
      "text/html": "Run data is saved locally in <code>/home/ivan/DataspellProjects/experiments/UnionSDR/wandb/run-20220305_204550-2795k15n</code>"
     },
     "metadata": {},
     "output_type": "display_data"
    },
    {
     "data": {
      "text/plain": "<IPython.core.display.HTML object>",
      "text/html": "Syncing run <strong><a href=\"https://wandb.ai/irodkin/my_utp/runs/2795k15n\" target=\"_blank\">whole-sun-177</a></strong> to <a href=\"https://wandb.ai/irodkin/my_utp\" target=\"_blank\">Weights & Biases</a> (<a href=\"https://wandb.me/run\" target=\"_blank\">docs</a>)<br/>"
     },
     "metadata": {},
     "output_type": "display_data"
    },
    {
     "name": "stdout",
     "output_type": "stream",
     "text": [
      "\n"
     ]
    },
    {
     "data": {
      "text/plain": "<IPython.core.display.HTML object>",
      "text/html": "Waiting for W&B process to finish... <strong style=\"color:green\">(success).</strong>"
     },
     "metadata": {},
     "output_type": "display_data"
    },
    {
     "data": {
      "text/plain": "VBox(children=(Label(value='0.001 MB of 0.001 MB uploaded (0.000 MB deduped)\\r'), FloatProgress(value=1.0, max…",
      "application/vnd.jupyter.widget-view+json": {
       "version_major": 2,
       "version_minor": 0,
       "model_id": "604cfeb514034505ad49ca5b223c83c2"
      }
     },
     "metadata": {},
     "output_type": "display_data"
    },
    {
     "data": {
      "text/plain": "<IPython.core.display.HTML object>",
      "text/html": "Synced <strong style=\"color:#cdcd00\">whole-sun-177</strong>: <a href=\"https://wandb.ai/irodkin/my_utp/runs/2795k15n\" target=\"_blank\">https://wandb.ai/irodkin/my_utp/runs/2795k15n</a><br/>Synced 4 W&B file(s), 0 media file(s), 0 artifact file(s) and 0 other file(s)"
     },
     "metadata": {},
     "output_type": "display_data"
    }
   ],
   "source": [
    "def train_all_seq(tm, tp, data, state_encoder, action_encoder, iters_per_seq):\n",
    "    representations = []\n",
    "    prev = tp.getUnionSDR().dense.copy()\n",
    "    for policy in data:\n",
    "        whole_active = np.zeros(tp.getUnionSDR().dense.shape)\n",
    "        for i in range(iters_per_seq):\n",
    "            if i < 2:\n",
    "                whole_active = None\n",
    "            elif i == 2:\n",
    "                whole_active = SDR(tp.getUnionSDR().dense.shape)\n",
    "                whole_active.dense = np.zeros(tp.getUnionSDR().dense.shape)\n",
    "            run(tm, tp, policy, state_encoder, action_encoder, learn=True, prev_dense=prev, whole_active=whole_active)\n",
    "        representations.append(tp.getUnionSDR())\n",
    "        prev = tp.getUnionSDR().dense.copy()\n",
    "        tp.reset()\n",
    "    return representations\n",
    "\n",
    "\n",
    "utp_conf = {\n",
    "    'inputDimensions': [input_columns * cells_per_column],\n",
    "    'columnDimensions': [output_columns],\n",
    "    'initial_pooling': 1,\n",
    "    'pooling_decay': 0.2,\n",
    "    'permanence_inc': 0.005,\n",
    "    'permanence_dec': 0.003,\n",
    "    'sparsity': 0.004,\n",
    "    'active_weight': 0.5,\n",
    "    'predicted_weight': 1.0,\n",
    "    'receptive_field_sparsity': 0.5,\n",
    "    'activation_threshold': 0.6,\n",
    "    **config_sp_lower\n",
    "}\n",
    "\n",
    "wandb.init(project='my_utp', entity='irodkin', reinit=True, config=utp_conf)\n",
    "\n",
    "my_utp = MyUTP(**utp_conf)\n",
    "tm = DelayedFeedbackTM(**config_tm)\n",
    "tp = UnionTemporalPooler(**config_tp)\n",
    "\n",
    "representations = train_all_seq(tm, my_utp, data, state_encoder, action_encoder, 20)\n",
    "\n",
    "wandb.finish(quiet=True)"
   ],
   "metadata": {
    "collapsed": false,
    "pycharm": {
     "name": "#%%\n"
    }
   }
  },
  {
   "cell_type": "code",
   "execution_count": 33,
   "outputs": [
    {
     "data": {
      "text/plain": "<Figure size 2880x720 with 6 Axes>",
      "image/png": "[encoded data removed]"
     },
     "metadata": {
      "needs_background": "light"
     },
     "output_type": "display_data"
    }
   ],
   "source": [
    "def row_similarity(policy_1, policy_2):\n",
    "    counter = 0\n",
    "    for index in range(len(policy_1)):\n",
    "        if policy_1[index] == policy_2[index]:\n",
    "            counter += 1\n",
    "    return counter / len(policy_1)\n",
    "\n",
    "\n",
    "def representation_similarity(representation_1, representation_2):\n",
    "    return (representation_1 * representation_2).nonzero()[0].size / (representation_1 | representation_2).nonzero()[\n",
    "        0].size\n",
    "\n",
    "\n",
    "similarity_matrix = np.zeros((len(representations), len(representations)))\n",
    "pure_similarity = np.zeros(similarity_matrix.shape)\n",
    "for i, policy1 in enumerate(data):\n",
    "    for j, policy2 in enumerate(data):\n",
    "        pure_similarity[i][j] = row_similarity(policy1, policy2)\n",
    "        similarity_matrix[i][j] = abs(\n",
    "            representation_similarity(representations[i].dense, representations[j].dense)\n",
    "        )\n",
    "\n",
    "fig = plt.figure(figsize=(40, 10))\n",
    "ax1 = fig.add_subplot(131)\n",
    "ax2 = fig.add_subplot(132)\n",
    "ax3 = fig.add_subplot(133)\n",
    "\n",
    "sns.heatmap(similarity_matrix, vmin=0, vmax=1, cmap='plasma', ax=ax1)\n",
    "sns.heatmap(pure_similarity, vmin=0, vmax=1, cmap='plasma', ax=ax2)\n",
    "\n",
    "sns.heatmap(abs(pure_similarity - similarity_matrix), vmin=0, vmax=1, cmap='plasma', ax=ax3)\n",
    "plt.show()\n",
    "# print(representations[0].dense.nonzero()[0])\n",
    "# print(representations[1].dense.nonzero()[0])"
   ],
   "metadata": {
    "collapsed": false,
    "pycharm": {
     "name": "#%%\n"
    }
   }
  },
  {
   "cell_type": "code",
   "execution_count": 34,
   "outputs": [],
   "source": [
    "from htm_rl.modules.htm.spatial_pooler import SpatialPooler\n",
    "\n",
    "class STP:\n",
    "    def __init__(self, **kwargs):\n",
    "        self.initial_pooling = kwargs['initial_pooling']\n",
    "        self.pooling_decay = kwargs['pooling_decay']\n",
    "        self.lower_sp = SpatialPooler(**kwargs['lower_sp_conf'])\n",
    "        self.upper_sp = SpatialPooler(**kwargs['upper_sp_conf'])\n",
    "\n",
    "        self._unionSDR = SDR(kwargs['upper_sp_conf']['columnDimensions'])\n",
    "        self._unionSDR.dense = np.zeros(kwargs['upper_sp_conf']['columnDimensions'])\n",
    "        self._pooling_activations = np.zeros(kwargs['upper_sp_conf']['inputDimensions'])\n",
    "\n",
    "    def _pooling_decay_step(self):\n",
    "        self._pooling_activations[self._pooling_activations != 0] -= self.pooling_decay\n",
    "\n",
    "\n",
    "    def compute(self, active_neurons: SDR, predicted_neurons: SDR, learn: bool = True):\n",
    "        self._pooling_decay_step()\n",
    "\n",
    "        input_representation = SDR(self._pooling_activations.shape)\n",
    "        self.lower_sp.compute(predicted_neurons, learn=learn, output=input_representation)\n",
    "        self._pooling_activations[input_representation.sparse] += self.initial_pooling\n",
    "        self._pooling_activations = self._pooling_activations.clip(0, 1)\n",
    "\n",
    "        sdr_for_upper = SDR(self._pooling_activations.shape)\n",
    "        sdr_for_upper.dense = self._pooling_activations != 0\n",
    "        self.upper_sp.compute(sdr_for_upper, learn=learn, output=self._unionSDR)\n",
    "\n",
    "    def getUnionSDR(self):\n",
    "        return self._unionSDR\n",
    "\n",
    "    def getNumInputs(self):\n",
    "        return self.lower_sp.getNumInputs()\n",
    "\n",
    "    def reset(self):\n",
    "        self._pooling_activations = np.zeros(self._pooling_activations.shape)\n",
    "        self._unionSDR = SDR(self._unionSDR.dense.shape)"
   ],
   "metadata": {
    "collapsed": false,
    "pycharm": {
     "name": "#%%\n"
    }
   }
  },
  {
   "cell_type": "code",
   "execution_count": 35,
   "outputs": [
    {
     "data": {
      "text/plain": "<IPython.core.display.HTML object>",
      "text/html": "Tracking run with wandb version 0.12.11"
     },
     "metadata": {},
     "output_type": "display_data"
    },
    {
     "data": {
      "text/plain": "<IPython.core.display.HTML object>",
      "text/html": "Run data is saved locally in <code>/home/ivan/DataspellProjects/experiments/UnionSDR/wandb/run-20220305_215019-2o8b9o2g</code>"
     },
     "metadata": {},
     "output_type": "display_data"
    },
    {
     "data": {
      "text/plain": "<IPython.core.display.HTML object>",
      "text/html": "Syncing run <strong><a href=\"https://wandb.ai/irodkin/my_utp/runs/2o8b9o2g\" target=\"_blank\">gallant-valley-179</a></strong> to <a href=\"https://wandb.ai/irodkin/my_utp\" target=\"_blank\">Weights & Biases</a> (<a href=\"https://wandb.me/run\" target=\"_blank\">docs</a>)<br/>"
     },
     "metadata": {},
     "output_type": "display_data"
    },
    {
     "ename": "ZeroDivisionError",
     "evalue": "division by zero",
     "output_type": "error",
     "traceback": [
      "\u001B[0;31m---------------------------------------------------------------------------\u001B[0m",
      "\u001B[0;31mZeroDivisionError\u001B[0m                         Traceback (most recent call last)",
      "Input \u001B[0;32mIn [35]\u001B[0m, in \u001B[0;36m<cell line: 13>\u001B[0;34m()\u001B[0m\n\u001B[1;32m     10\u001B[0m stp \u001B[38;5;241m=\u001B[39m STP(\u001B[38;5;241m*\u001B[39m\u001B[38;5;241m*\u001B[39mstp_config)\n\u001B[1;32m     12\u001B[0m wandb\u001B[38;5;241m.\u001B[39minit(project\u001B[38;5;241m=\u001B[39m\u001B[38;5;124m'\u001B[39m\u001B[38;5;124mmy_utp\u001B[39m\u001B[38;5;124m'\u001B[39m, entity\u001B[38;5;241m=\u001B[39m\u001B[38;5;124m'\u001B[39m\u001B[38;5;124mirodkin\u001B[39m\u001B[38;5;124m'\u001B[39m, reinit\u001B[38;5;241m=\u001B[39m\u001B[38;5;28;01mTrue\u001B[39;00m, config\u001B[38;5;241m=\u001B[39mstp_config)\n\u001B[0;32m---> 13\u001B[0m train_all_seq(tm, stp, data, state_encoder, action_encoder, \u001B[38;5;241m20\u001B[39m)\n\u001B[1;32m     14\u001B[0m wandb\u001B[38;5;241m.\u001B[39mfinish(quiet\u001B[38;5;241m=\u001B[39m\u001B[38;5;28;01mTrue\u001B[39;00m)\n",
      "Input \u001B[0;32mIn [10]\u001B[0m, in \u001B[0;36mtrain_all_seq\u001B[0;34m(tm, tp, data, state_encoder, action_encoder, iters_per_seq)\u001B[0m\n\u001B[1;32m     10\u001B[0m         whole_active \u001B[38;5;241m=\u001B[39m SDR(tp\u001B[38;5;241m.\u001B[39mgetUnionSDR()\u001B[38;5;241m.\u001B[39mdense\u001B[38;5;241m.\u001B[39mshape)\n\u001B[1;32m     11\u001B[0m         whole_active\u001B[38;5;241m.\u001B[39mdense \u001B[38;5;241m=\u001B[39m np\u001B[38;5;241m.\u001B[39mzeros(tp\u001B[38;5;241m.\u001B[39mgetUnionSDR()\u001B[38;5;241m.\u001B[39mdense\u001B[38;5;241m.\u001B[39mshape)\n\u001B[0;32m---> 12\u001B[0m     \u001B[43mrun\u001B[49m\u001B[43m(\u001B[49m\u001B[43mtm\u001B[49m\u001B[43m,\u001B[49m\u001B[43m \u001B[49m\u001B[43mtp\u001B[49m\u001B[43m,\u001B[49m\u001B[43m \u001B[49m\u001B[43mpolicy\u001B[49m\u001B[43m,\u001B[49m\u001B[43m \u001B[49m\u001B[43mstate_encoder\u001B[49m\u001B[43m,\u001B[49m\u001B[43m \u001B[49m\u001B[43maction_encoder\u001B[49m\u001B[43m,\u001B[49m\u001B[43m \u001B[49m\u001B[43mlearn\u001B[49m\u001B[38;5;241;43m=\u001B[39;49m\u001B[38;5;28;43;01mTrue\u001B[39;49;00m\u001B[43m,\u001B[49m\u001B[43m \u001B[49m\u001B[43mprev_dense\u001B[49m\u001B[38;5;241;43m=\u001B[39;49m\u001B[43mprev\u001B[49m\u001B[43m,\u001B[49m\u001B[43m \u001B[49m\u001B[43mwhole_active\u001B[49m\u001B[38;5;241;43m=\u001B[39;49m\u001B[43mwhole_active\u001B[49m\u001B[43m)\u001B[49m\n\u001B[1;32m     13\u001B[0m representations\u001B[38;5;241m.\u001B[39mappend(tp\u001B[38;5;241m.\u001B[39mgetUnionSDR())\n\u001B[1;32m     14\u001B[0m prev \u001B[38;5;241m=\u001B[39m tp\u001B[38;5;241m.\u001B[39mgetUnionSDR()\u001B[38;5;241m.\u001B[39mdense\u001B[38;5;241m.\u001B[39mcopy()\n",
      "Input \u001B[0;32mIn [2]\u001B[0m, in \u001B[0;36mrun\u001B[0;34m(tm, tp, policy, state_encoder, action_encoder, learn, prev_dense, whole_active)\u001B[0m\n\u001B[1;32m    112\u001B[0m tp\u001B[38;5;241m.\u001B[39mcompute(tp_input, tp_predictive, learn)\n\u001B[1;32m    114\u001B[0m current_union \u001B[38;5;241m=\u001B[39m tp\u001B[38;5;241m.\u001B[39mgetUnionSDR()\u001B[38;5;241m.\u001B[39msparse\u001B[38;5;241m.\u001B[39mcopy()\n\u001B[0;32m--> 116\u001B[0m window_error \u001B[38;5;241m+\u001B[39m\u001B[38;5;241m=\u001B[39m \u001B[43msymmetric_error\u001B[49m\u001B[43m(\u001B[49m\u001B[43mcurrent_union\u001B[49m\u001B[43m,\u001B[49m\u001B[43m \u001B[49m\u001B[43mtp_prev_union\u001B[49m\u001B[43m)\u001B[49m\n\u001B[1;32m    119\u001B[0m my_log \u001B[38;5;241m=\u001B[39m {}\n\u001B[1;32m    120\u001B[0m \u001B[38;5;28;01mif\u001B[39;00m prev_dense \u001B[38;5;129;01mis\u001B[39;00m \u001B[38;5;129;01mnot\u001B[39;00m \u001B[38;5;28;01mNone\u001B[39;00m:\n",
      "Input \u001B[0;32mIn [2]\u001B[0m, in \u001B[0;36msymmetric_error\u001B[0;34m(_output, _target)\u001B[0m\n\u001B[1;32m     80\u001B[0m \u001B[38;5;28;01mdef\u001B[39;00m \u001B[38;5;21msymmetric_error\u001B[39m(_output, _target):\n\u001B[0;32m---> 81\u001B[0m     \u001B[38;5;28;01mreturn\u001B[39;00m \u001B[43msymmetric_diff_sz\u001B[49m\u001B[43m(\u001B[49m\u001B[43m_output\u001B[49m\u001B[43m,\u001B[49m\u001B[43m \u001B[49m\u001B[43m_target\u001B[49m\u001B[43m)\u001B[49m\u001B[43m \u001B[49m\u001B[38;5;241;43m/\u001B[39;49m\u001B[43m \u001B[49m\u001B[43mnp\u001B[49m\u001B[38;5;241;43m.\u001B[39;49m\u001B[43munion1d\u001B[49m\u001B[43m(\u001B[49m\u001B[43m_output\u001B[49m\u001B[43m,\u001B[49m\u001B[43m \u001B[49m\u001B[43m_target\u001B[49m\u001B[43m)\u001B[49m\u001B[38;5;241;43m.\u001B[39;49m\u001B[43msize\u001B[49m\n",
      "\u001B[0;31mZeroDivisionError\u001B[0m: division by zero"
     ]
    }
   ],
   "source": [
    "stp_config = dict(\n",
    "    initial_pooling=1,\n",
    "    pooling_decay=0.05,\n",
    "    lower_sp_conf=config_sp_lower,\n",
    "    upper_sp_conf=config_sp_upper\n",
    ")\n",
    "\n",
    "tm = DelayedFeedbackTM(**config_tm)\n",
    "tp = UnionTemporalPooler(**config_tp)\n",
    "stp = STP(**stp_config)\n",
    "\n",
    "wandb.init(project='my_utp', entity='irodkin', reinit=True, config=stp_config)\n",
    "train_all_seq(tm, stp, data, state_encoder, action_encoder, 20)\n",
    "wandb.finish(quiet=True)"
   ],
   "metadata": {
    "collapsed": false,
    "pycharm": {
     "name": "#%%\n"
    }
   }
  },
  {
   "cell_type": "code",
   "execution_count": 22,
   "outputs": [],
   "source": [],
   "metadata": {
    "collapsed": false,
    "pycharm": {
     "name": "#%%\n"
    }
   }
  },
  {
   "cell_type": "code",
   "execution_count": 42,
   "outputs": [],
   "source": [],
   "metadata": {
    "collapsed": false,
    "pycharm": {
     "name": "#%%\n"
    }
   }
  },
  {
   "cell_type": "code",
   "execution_count": null,
   "outputs": [],
   "source": [],
   "metadata": {
    "collapsed": false,
    "pycharm": {
     "name": "#%%\n"
    }
   }
  }
 ],
 "metadata": {
  "kernelspec": {
   "display_name": "Python 3",
   "language": "python",
   "name": "python3"
  },
  "language_info": {
   "codemirror_mode": {
    "name": "ipython",
    "version": 2
   },
   "file_extension": ".py",
   "mimetype": "text/x-python",
   "name": "python",
   "nbconvert_exporter": "python",
   "pygments_lexer": "ipython2",
   "version": "2.7.6"
  }
 },
 "nbformat": 4,
 "nbformat_minor": 0
}
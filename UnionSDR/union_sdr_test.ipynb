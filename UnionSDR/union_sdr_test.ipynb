{
 "cells": [
  {
   "cell_type": "code",
   "execution_count": 2,
   "outputs": [],
   "source": [
    "from htm.algorithms import TemporalMemory\n",
    "from htm.bindings.sdr import SDR\n",
    "import numpy as np"
   ],
   "metadata": {
    "collapsed": false,
    "pycharm": {
     "name": "#%%\n"
    }
   }
  },
  {
   "cell_type": "code",
   "execution_count": 5,
   "outputs": [],
   "source": [
    "def make_sdr(pos: tuple, _shape: tuple) -> SDR:\n",
    "    result = SDR(_shape)\n",
    "    numpy_res = result.dense\n",
    "    numpy_res = np.zeros(_shape)\n",
    "    numpy_res[pos] = 1\n",
    "    result.dense = numpy_res\n",
    "    return result\n",
    "\n",
    "def make_sdrs(array: np.ndarray, _shape: tuple) -> np.ndarray:\n",
    "    result = np.ndarray((array.size,), dtype=SDR)\n",
    "    iterator = 0\n",
    "    for number in array:\n",
    "        result[iterator] = make_sdr(number, _shape)\n",
    "        iterator += 1\n",
    "    return result\n",
    "\n",
    "def learn_model(tm: TemporalMemory, sdrs: np.ndarray, num_epochs=10) -> list:\n",
    "    errors = []\n",
    "    for epoch in range(num_epochs):\n",
    "        for sdr in sdrs:\n",
    "            tm.compute(sdr, learn=True)\n",
    "            tm.activateDendrites(True)\n",
    "            errors.append(tm.anomaly)\n",
    "    return errors"
   ],
   "metadata": {
    "collapsed": false,
    "pycharm": {
     "name": "#%%\n"
    }
   }
  },
  {
   "cell_type": "code",
   "execution_count": 33,
   "outputs": [
    {
     "data": {
      "text/plain": "array([], dtype=uint32)"
     },
     "execution_count": 33,
     "metadata": {},
     "output_type": "execute_result"
    }
   ],
   "source": [
    "\n",
    "class UnionPooler:\n",
    "\n",
    "    initial_activation = 2\n",
    "\n",
    "    def __init__(self, _shape):\n",
    "        self._unionSDR = SDR(_shape)\n",
    "        self._pooling_activations = np.zeros(_shape, dtype=float)\n",
    "\n",
    "\n",
    "    def add_sdr(self, sdr: SDR):\n",
    "\n",
    "        self._unionSDR.dense[sdr.dense != 0] += self.initial_activation\n",
    "\n",
    "    def get_state(self):\n",
    "        return self._unionSDR.sparse\n",
    "\n",
    "shape = (4, 4)\n",
    "union_pooler = UnionPooler(shape)\n",
    "test_sdr = make_sdr((0,1), shape)\n",
    "union_pooler.add_sdr(test_sdr)\n",
    "union_pooler.get_state()"
   ],
   "metadata": {
    "collapsed": false,
    "pycharm": {
     "name": "#%%\n"
    }
   }
  },
  {
   "cell_type": "code",
   "execution_count": 31,
   "outputs": [],
   "source": [],
   "metadata": {
    "collapsed": false,
    "pycharm": {
     "name": "#%%\n"
    }
   }
  },
  {
   "cell_type": "code",
   "execution_count": 7,
   "outputs": [],
   "source": [],
   "metadata": {
    "collapsed": false,
    "pycharm": {
     "name": "#%%\n"
    }
   }
  },
  {
   "cell_type": "code",
   "execution_count": null,
   "outputs": [],
   "source": [],
   "metadata": {
    "collapsed": false,
    "pycharm": {
     "name": "#%%\n"
    }
   }
  }
 ],
 "metadata": {
  "kernelspec": {
   "display_name": "Python 3",
   "language": "python",
   "name": "python3"
  },
  "language_info": {
   "codemirror_mode": {
    "name": "ipython",
    "version": 2
   },
   "file_extension": ".py",
   "mimetype": "text/x-python",
   "name": "python",
   "nbconvert_exporter": "python",
   "pygments_lexer": "ipython2",
   "version": "2.7.6"
  }
 },
 "nbformat": 4,
 "nbformat_minor": 0
}
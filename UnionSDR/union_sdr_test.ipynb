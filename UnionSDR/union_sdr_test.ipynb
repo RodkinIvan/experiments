{
 "cells": [
  {
   "cell_type": "code",
   "execution_count": 1,
   "outputs": [
    {
     "name": "stderr",
     "output_type": "stream",
     "text": [
      "\u001B[34m\u001B[1mwandb\u001B[0m: Currently logged in as: \u001B[33mirodkin\u001B[0m (use `wandb login --relogin` to force relogin)\n"
     ]
    },
    {
     "data": {
      "text/plain": "True"
     },
     "execution_count": 1,
     "metadata": {},
     "output_type": "execute_result"
    }
   ],
   "source": [
    "from htm.algorithms import TemporalMemory\n",
    "from htm_rl.modules.htm.temporal_memory import DelayedFeedbackTM\n",
    "from htm.bindings.sdr import SDR\n",
    "import numpy as np\n",
    "import matplotlib.pyplot as plt\n",
    "from htm_rl.modules.htm.spatial_pooler import UnionTemporalPooler\n",
    "import seaborn as sns\n",
    "\n",
    "import wandb\n",
    "\n",
    "wandb.login()"
   ],
   "metadata": {
    "collapsed": false,
    "pycharm": {
     "name": "#%%\n"
    }
   }
  },
  {
   "cell_type": "code",
   "execution_count": 2,
   "outputs": [],
   "source": [
    "from configs import *  # I'm so sorry for this...\n",
    "\n",
    "\n",
    "class StupidEncoder:\n",
    "    def __init__(self, _n_actions, output_size):\n",
    "        self.n_actions = _n_actions\n",
    "        self.action_size = int(output_size / _n_actions)\n",
    "        self.output_size = output_size\n",
    "\n",
    "    def encode(self, action: int):\n",
    "        result = np.zeros(self.output_size)\n",
    "        result[self.action_size * action: self.action_size * (action + 1)] = 1\n",
    "        return result\n",
    "\n",
    "\n",
    "def make_sdr(pos: tuple, _shape: tuple) -> SDR:\n",
    "    result = SDR(_shape)\n",
    "    numpy_res = result.dense\n",
    "    numpy_res = np.zeros(_shape)\n",
    "    numpy_res[pos] = 1\n",
    "    result.dense = numpy_res\n",
    "    return result\n",
    "\n",
    "\n",
    "def make_sdrs(array: np.ndarray, _shape: tuple) -> np.ndarray:\n",
    "    result = np.ndarray((array.size,), dtype=SDR)\n",
    "    iterator = 0\n",
    "    for number in array:\n",
    "        result[iterator] = make_sdr(number, _shape)\n",
    "        iterator += 1\n",
    "    return result\n",
    "\n",
    "\n",
    "def learn_model(tm: TemporalMemory, sdrs: np.ndarray, num_epochs=10) -> list:\n",
    "    errors = []\n",
    "    for epoch in range(num_epochs):\n",
    "        for sdr in sdrs:\n",
    "            tm.compute(sdr, learn=True)\n",
    "            tm.activateDendrites(True)\n",
    "            errors.append(tm.anomaly)\n",
    "        tm.compute(SDR(sdrs[0].dense.shape), learn=False)\n",
    "    return errors\n",
    "\n",
    "\n",
    "def generate_data(n, n_actions, n_states, randomness=1.0, seed=0):\n",
    "    raw_data = list()\n",
    "    np.random.seed(seed)\n",
    "    seed_seq = np.random.randint(0, n_actions, n_states)\n",
    "    raw_data.append(seed_seq.copy())\n",
    "    n_replace = int(n_states * randomness)\n",
    "    for i in range(1, n):\n",
    "        new_seq = np.random.randint(0, n_actions, n_states)\n",
    "        if randomness == 1.0:\n",
    "            raw_data.append(new_seq)\n",
    "        else:\n",
    "            indices = np.random.randint(0, n_states, n_replace)\n",
    "            seed_seq[indices] = new_seq[indices]\n",
    "            raw_data.append(seed_seq.copy())\n",
    "    data = [list(zip(range(n_states), x)) for x in raw_data]\n",
    "    return raw_data, data\n",
    "\n",
    "\n",
    "def compute(tm, state, action, learn=True):\n",
    "    context = state_encoder.encode(state)\n",
    "    active_input = action_encoder.encode(action)\n",
    "\n",
    "    tm.set_active_context_cells(context)\n",
    "\n",
    "    tm.activate_basal_dendrites(learn)\n",
    "    tm.predict_cells()\n",
    "\n",
    "    tm.set_active_columns(active_input)\n",
    "    tm.activate_cells(learn)\n",
    "\n",
    "\n",
    "def symmetric_diff_sz(set1: np.ndarray, set2: np.ndarray) -> int:\n",
    "    return np.setdiff1d(set1, set2).size + np.setdiff1d(set2, set1).size\n",
    "\n",
    "\n",
    "def symmetric_error(_output, _target):\n",
    "    return symmetric_diff_sz(_output, _target) / np.union1d(_output, _target).size\n",
    "\n",
    "def representations_intersection_1(dense1, dense2):\n",
    "    return (dense1 * dense2).nonzero()[0].size/dense1.nonzero()[0].size\n",
    "\n",
    "def run(_tm, _tp, _policy, _state_encoder, _action_encoder, learn=True, prev_dense=None):\n",
    "    tp_prev_union = _tp.getUnionSDR().sparse.copy()\n",
    "    tp_input = SDR(_tp.getNumInputs())\n",
    "    tp_predictive = SDR(_tp.getNumInputs())\n",
    "    window_size = 1\n",
    "    window_error = 0\n",
    "    counter = 0\n",
    "    for state, action in _policy:\n",
    "        context = _state_encoder.encode(state)\n",
    "        active_input = _action_encoder.encode(action)\n",
    "\n",
    "        _tm.set_active_context_cells(context)\n",
    "\n",
    "        _tm.activate_basal_dendrites(learn)\n",
    "\n",
    "        _tm.set_active_feedback_cells(_tp.getUnionSDR().sparse)\n",
    "        _tm.activate_apical_dendrites(learn)\n",
    "        _tm.propagate_feedback()\n",
    "\n",
    "        _tm.predict_cells()\n",
    "\n",
    "        _tm.set_active_columns(active_input)\n",
    "        _tm.activate_cells(learn)\n",
    "\n",
    "        tp_input.sparse = _tm.get_active_cells()\n",
    "        tp_predictive.sparse = _tm.get_correctly_predicted_cells()\n",
    "        _tp.compute(tp_input, tp_predictive, learn)\n",
    "\n",
    "        current_union = _tp.getUnionSDR().sparse.copy()\n",
    "\n",
    "        window_error += symmetric_error(current_union, tp_prev_union)\n",
    "        my_log = {}\n",
    "        if prev_dense is not None:\n",
    "            my_log['new_cells_percent'] = 1 - representations_intersection_1(_tp.getUnionSDR().dense, prev_dense)\n",
    "            my_log['num_in_prev'] = prev_dense.nonzero()[0].size\n",
    "            my_log['num_in_curr'] = _tp.getUnionSDR().dense.nonzero()[0].size\n",
    "        if counter % window_size == window_size - 1:\n",
    "            my_log['difference'] = (window_error / window_size)\n",
    "            window_error = 0\n",
    "        wandb.log(my_log)\n",
    "        tp_prev_union = current_union.copy()\n",
    "\n",
    "        counter += 1\n",
    "\n",
    "\n",
    "def run_only_tp(_tp, sequence, _encoder, learn=True):\n",
    "    prev_union = _tp.getUnionSDR().sparse.copy()\n",
    "\n",
    "    for element in sequence:\n",
    "        _input = _encoder.encode(element)\n",
    "        sdr = SDR(_tp.getNumInputs())\n",
    "        sdr.dense = _input\n",
    "        _tp.compute(sdr, sdr, True)\n",
    "        diff = symmetric_error(prev_union, _tp.getUnionSDR().sparse)\n",
    "        wandb.log({'difference': diff})\n",
    "\n",
    "\n",
    "def get_one_hot(num, _classes_num=25):\n",
    "    _data = np.zeros(_classes_num)\n",
    "    _data[num] = 1\n",
    "    return _data\n",
    "\n",
    "\n",
    "row_data, data = generate_data(5, n_actions, n_states)\n"
   ],
   "metadata": {
    "collapsed": false,
    "pycharm": {
     "name": "#%%\n"
    }
   }
  },
  {
   "cell_type": "code",
   "execution_count": null,
   "outputs": [],
   "source": [
    "errors = []\n",
    "wandb.init(project='my_utp', entity='irodkin', reinit=True)\n",
    "tm = DelayedFeedbackTM(**config_tm)\n",
    "tp = UnionTemporalPooler(**config_tp)\n",
    "\n",
    "for i in range(100):\n",
    "    run(tm, tp, data[0], state_encoder, action_encoder, True)\n",
    "wandb.finish()"
   ],
   "metadata": {
    "collapsed": false,
    "pycharm": {
     "name": "#%%\n",
     "is_executing": true
    }
   }
  },
  {
   "cell_type": "code",
   "execution_count": null,
   "outputs": [],
   "source": [
    "tm = DelayedFeedbackTM(**config_tm)\n",
    "tp = UnionTemporalPooler(**config_tp)\n",
    "errors = run(tm, tp, data[0], state_encoder, action_encoder)\n",
    "# print(data)\n",
    "# print(errors)"
   ],
   "metadata": {
    "collapsed": false,
    "pycharm": {
     "name": "#%%\n"
    }
   }
  },
  {
   "cell_type": "code",
   "execution_count": 11,
   "outputs": [
    {
     "data": {
      "text/plain": "Text(0.5, 1.0, 'tp_one_policy_errors')"
     },
     "execution_count": 11,
     "metadata": {},
     "output_type": "execute_result"
    },
    {
     "data": {
      "text/plain": "<Figure size 432x288 with 1 Axes>",
      "image/png": "[encoded data removed]"
     },
     "metadata": {
      "needs_background": "light"
     },
     "output_type": "display_data"
    }
   ],
   "source": [
    "plt.plot(range(len(errors)), errors)\n",
    "plt.title('tp_one_policy_errors')"
   ],
   "metadata": {
    "collapsed": false,
    "pycharm": {
     "name": "#%%\n"
    }
   }
  },
  {
   "cell_type": "code",
   "execution_count": 35,
   "outputs": [],
   "source": [
    "from configs import *\n",
    "\n",
    "\n",
    "class MyUTP:\n",
    "    _initial_pooling = 1\n",
    "    _pooling_decay = 0.1\n",
    "\n",
    "    def __init__(self, **utp_config):\n",
    "        input_shape = utp_config['inputDimensions']\n",
    "        output_shape = utp_config['columnDimensions']\n",
    "        out_size = np.prod(output_shape)\n",
    "        in_size = np.prod(input_shape)\n",
    "        self._union_sdr = SDR(output_shape)\n",
    "        self._pooling_activations = np.zeros(output_shape)\n",
    "        self._shape = output_shape\n",
    "        self._initial_pooling = utp_config['initial_pooling']\n",
    "        self._pooling_decay = utp_config['pooling_decay']\n",
    "        self._permanence_inc = utp_config['permanence_inc']\n",
    "        self._permanence_dec = utp_config['permanence_dec']\n",
    "        self.winners_num = int(np.ceil(utp_config['sparsity'] * out_size))\n",
    "        self.active_weight = utp_config['active_weight']\n",
    "        self.predicted_weight = utp_config['predicted_weight']\n",
    "        self.input_dimensions = input_shape\n",
    "        self.field_size = utp_config['receptive_field_sparsity']*in_size\n",
    "\n",
    "\n",
    "        self.connections = np.random.normal(0, 0.2, (out_size, in_size))\n",
    "\n",
    "        self.receptive_fields = np.zeros((out_size, in_size))\n",
    "\n",
    "    def set_receptive_fields(self):\n",
    "        for cell in self.receptive_fields:\n",
    "            receptive_field = np.random.choice(np.prod(self.input_dimensions), self.field_size, replace=False)\n",
    "            cell[receptive_field] = 1\n",
    "\n",
    "    def pooling_decay_step(self):\n",
    "        self._pooling_activations[self._pooling_activations != 0] -= self._pooling_decay\n",
    "        self._pooling_activations = self._pooling_activations.clip(0, float('inf'))\n",
    "\n",
    "    def get_active_cells(self, data: np.ndarray) -> SDR:\n",
    "        tie_breaker = np.random.normal(0, 0.01, self._shape)\n",
    "        activations = self.connections @ data + tie_breaker\n",
    "\n",
    "        most_active = np.argpartition(activations.flatten(), -self.winners_num)[-self.winners_num:]\n",
    "        result_sdr = SDR(self._shape)\n",
    "        result_sdr.sparse = most_active\n",
    "        return result_sdr\n",
    "\n",
    "    def update_permanences(self, data: np.ndarray):\n",
    "        self.connections[:, np.flatnonzero(data)] -= self._permanence_dec\n",
    "\n",
    "        active_synapses = np.ix_(self._union_sdr.sparse, np.flatnonzero(data))\n",
    "        self.connections[active_synapses] += self._permanence_inc + self._permanence_dec\n",
    "\n",
    "        self.connections = self.connections.clip(0, 1)\n",
    "\n",
    "    def compute(self, active_neurons: SDR, predicted_neurons: SDR, learn: bool = True):\n",
    "        weighted_input = active_neurons.dense * self.active_weight + predicted_neurons.dense * self.predicted_weight\n",
    "        winners = self.get_active_cells(weighted_input)\n",
    "        self.pooling_decay_step()\n",
    "        self._pooling_activations[winners.sparse] += self._initial_pooling\n",
    "        self._union_sdr.dense = self._pooling_activations != 0\n",
    "\n",
    "        if learn:\n",
    "            self.update_permanences(active_neurons.dense)\n",
    "\n",
    "    def count_overlap(self, active_neurons: SDR, predicted_neurons: SDR) -> np.ndarray:\n",
    "        pass\n",
    "\n",
    "    def compute1(self, active_neurons: SDR, predicted_neurons: SDR, learn: bool = True):\n",
    "        overlap = self.count_overlap(active_neurons, predicted_neurons)\n",
    "\n",
    "\n",
    "    def getUnionSDR(self):\n",
    "        return self._union_sdr\n",
    "\n",
    "    def getNumInputs(self):\n",
    "        return self.input_dimensions\n",
    "\n",
    "    def reset(self):\n",
    "        self._pooling_activations = np.zeros(self._pooling_activations.shape)\n",
    "\n",
    "def one_hot(num, _classes_num=25):\n",
    "    _data = np.zeros(_classes_num)\n",
    "    _data[num] = 1\n",
    "    return _data\n",
    "\n",
    "\n",
    "utp_conf = {\n",
    "    'inputDimensions': [input_columns * cells_per_column],\n",
    "    'columnDimensions': [output_columns],\n",
    "    'initial_pooling': 1,\n",
    "    'pooling_decay': 0.4,\n",
    "    'permanence_inc': 0.2,\n",
    "    'permanence_dec': 0.4,\n",
    "    'sparsity': 0.04,\n",
    "    'active_weight': 0.5,\n",
    "    'predicted_weight': 2,\n",
    "    'receptive_field_sparsity' : 0.5,\n",
    "}\n",
    "np.random.seed(42)\n",
    "tp_shape = utp_conf['columnDimensions']\n",
    "in_shape = utp_conf['inputDimensions']\n",
    "prev = np.zeros(utp_conf['columnDimensions'])\n",
    "classes_num = utp_conf['inputDimensions']\n",
    "\n"
   ],
   "metadata": {
    "collapsed": false,
    "pycharm": {
     "name": "#%%\n"
    }
   }
  },
  {
   "cell_type": "code",
   "execution_count": 36,
   "outputs": [
    {
     "data": {
      "text/plain": "<IPython.core.display.HTML object>",
      "text/html": "\n                    Syncing run <strong><a href=\"https://wandb.ai/irodkin/my_utp/runs/aye8f52q\" target=\"_blank\">wobbly-jazz-70</a></strong> to <a href=\"https://wandb.ai/irodkin/my_utp\" target=\"_blank\">Weights & Biases</a> (<a href=\"https://docs.wandb.com/integrations/jupyter.html\" target=\"_blank\">docs</a>).<br/>\n\n                "
     },
     "metadata": {},
     "output_type": "display_data"
    },
    {
     "data": {
      "text/plain": "<IPython.core.display.HTML object>",
      "text/html": "Waiting for W&B process to finish, PID 135427... <strong style=\"color:green\">(success).</strong>"
     },
     "metadata": {},
     "output_type": "display_data"
    },
    {
     "data": {
      "text/plain": "VBox(children=(Label(value=' 0.00MB of 0.00MB uploaded (0.00MB deduped)\\r'), FloatProgress(value=1.0, max=1.0)…",
      "application/vnd.jupyter.widget-view+json": {
       "version_major": 2,
       "version_minor": 0,
       "model_id": "9790da2447dc4bd2bbba8d2fd0bd55f7"
      }
     },
     "metadata": {},
     "output_type": "display_data"
    },
    {
     "data": {
      "text/plain": "<IPython.core.display.HTML object>",
      "text/html": "Synced <strong style=\"color:#cdcd00\">wobbly-jazz-70</strong>: <a href=\"https://wandb.ai/irodkin/my_utp/runs/aye8f52q\" target=\"_blank\">https://wandb.ai/irodkin/my_utp/runs/aye8f52q</a><br/>\n"
     },
     "metadata": {},
     "output_type": "display_data"
    }
   ],
   "source": [
    "wandb.init(project='my_utp', entity='irodkin', reinit=True, config=utp_conf)\n",
    "\n",
    "my_utp = MyUTP(**utp_conf)\n",
    "tm = DelayedFeedbackTM(**config_tm)\n",
    "\n",
    "for i in range(100):\n",
    "    run(tm, my_utp, data[0], state_encoder, action_encoder, True)\n",
    "\n",
    "wandb.finish(quiet=True)"
   ],
   "metadata": {
    "collapsed": false,
    "pycharm": {
     "name": "#%%\n"
    }
   }
  },
  {
   "cell_type": "code",
   "execution_count": 39,
   "outputs": [
    {
     "data": {
      "text/plain": "<AxesSubplot:title={'center':'pooling activations'}>"
     },
     "execution_count": 39,
     "metadata": {},
     "output_type": "execute_result"
    },
    {
     "data": {
      "text/plain": "<Figure size 432x288 with 2 Axes>",
      "image/png": "[encoded data removed]"
     },
     "metadata": {
      "needs_background": "light"
     },
     "output_type": "display_data"
    }
   ],
   "source": [
    "plt.title('pooling activations')\n",
    "sns.heatmap(my_utp._pooling_activations.reshape(-1, 80), vmin=0, vmax=1, cmap='plasma')"
   ],
   "metadata": {
    "collapsed": false,
    "pycharm": {
     "name": "#%%\n"
    }
   }
  },
  {
   "cell_type": "code",
   "execution_count": 40,
   "outputs": [
    {
     "name": "stdout",
     "output_type": "stream",
     "text": [
      "0.059\n"
     ]
    }
   ],
   "source": [
    "print(my_utp.getUnionSDR().dense.nonzero()[0].size / output_columns)"
   ],
   "metadata": {
    "collapsed": false,
    "pycharm": {
     "name": "#%%\n"
    }
   }
  },
  {
   "cell_type": "code",
   "execution_count": 55,
   "outputs": [
    {
     "data": {
      "text/plain": "<IPython.core.display.HTML object>",
      "text/html": "<br/>Waiting for W&B process to finish, PID 144359... <strong style=\"color:green\">(success).</strong>"
     },
     "metadata": {},
     "output_type": "display_data"
    },
    {
     "data": {
      "text/plain": "VBox(children=(Label(value=' 0.00MB of 0.00MB uploaded (0.00MB deduped)\\r'), FloatProgress(value=1.0, max=1.0)…",
      "application/vnd.jupyter.widget-view+json": {
       "version_major": 2,
       "version_minor": 0,
       "model_id": "ab0459411bd6429caecdd38ccd483038"
      }
     },
     "metadata": {},
     "output_type": "display_data"
    },
    {
     "data": {
      "text/plain": "<IPython.core.display.HTML object>",
      "text/html": "<style>\n    table.wandb td:nth-child(1) { padding: 0 10px; text-align: right }\n    .wandb-row { display: flex; flex-direction: row; flex-wrap: wrap; width: 100% }\n    .wandb-col { display: flex; flex-direction: column; flex-basis: 100%; flex: 1; padding: 10px; }\n    </style>\n<div class=\"wandb-row\"><div class=\"wandb-col\">\n<h3>Run history:</h3><br/><table class=\"wandb\"><tr><td>difference</td><td>█▄▃▁▁▃▄▁▄▁▁▃▃▃▁▁▁▃▃▃▂▃▃▃▂</td></tr><tr><td>new_cells_percent</td><td>▁▁▁▁▁▁▁▁▁▁▁▁▁▁▁▁▁▁▁▁▁▁▁▁▁</td></tr></table><br/></div><div class=\"wandb-col\">\n<h3>Run summary:</h3><br/><table class=\"wandb\"><tr><td>difference</td><td>0.1875</td></tr><tr><td>new_cells_percent</td><td>0.0</td></tr></table>\n</div></div>\nSynced 5 W&B file(s), 0 media file(s), 0 artifact file(s) and 0 other file(s)\n<br/>Synced <strong style=\"color:#cdcd00\">revived-dream-77</strong>: <a href=\"https://wandb.ai/irodkin/my_utp/runs/1l1luvyo\" target=\"_blank\">https://wandb.ai/irodkin/my_utp/runs/1l1luvyo</a><br/>\nFind logs at: <code>./wandb/run-20220127_000743-1l1luvyo/logs</code><br/>\n"
     },
     "metadata": {},
     "output_type": "display_data"
    }
   ],
   "source": [
    "wandb.finish()"
   ],
   "metadata": {
    "collapsed": false,
    "pycharm": {
     "name": "#%%\n"
    }
   }
  },
  {
   "cell_type": "code",
   "execution_count": null,
   "outputs": [],
   "source": [
    "wandb.init(project='my_utp', entity='irodkin', reinit=True, config=utp_conf)\n",
    "\n",
    "my_utp = MyUTP(**utp_conf)\n",
    "tm = DelayedFeedbackTM(**config_tm)\n",
    "\n",
    "for i in range(100):\n",
    "    run_only_tp(tp, row_data[0], StupidEncoder(n_actions, utp_conf['inputDimensions'][0]), True)\n",
    "\n",
    "wandb.finish(quiet=True)"
   ],
   "metadata": {
    "collapsed": false,
    "pycharm": {
     "name": "#%%\n",
     "is_executing": true
    }
   }
  },
  {
   "cell_type": "code",
   "execution_count": 85,
   "outputs": [
    {
     "data": {
      "text/plain": "<IPython.core.display.HTML object>",
      "text/html": "\n                    Syncing run <strong><a href=\"https://wandb.ai/irodkin/my_utp/runs/f9mwtyov\" target=\"_blank\">misunderstood-monkey-82</a></strong> to <a href=\"https://wandb.ai/irodkin/my_utp\" target=\"_blank\">Weights & Biases</a> (<a href=\"https://docs.wandb.com/integrations/jupyter.html\" target=\"_blank\">docs</a>).<br/>\n\n                "
     },
     "metadata": {},
     "output_type": "display_data"
    },
    {
     "data": {
      "text/plain": "<IPython.core.display.HTML object>",
      "text/html": "Waiting for W&B process to finish, PID 145964... <strong style=\"color:green\">(success).</strong>"
     },
     "metadata": {},
     "output_type": "display_data"
    },
    {
     "data": {
      "text/plain": "VBox(children=(Label(value=' 0.00MB of 0.00MB uploaded (0.00MB deduped)\\r'), FloatProgress(value=1.0, max=1.0)…",
      "application/vnd.jupyter.widget-view+json": {
       "version_major": 2,
       "version_minor": 0,
       "model_id": "ebf9ccd6eeff4bbf80d616ed3b2aeaed"
      }
     },
     "metadata": {},
     "output_type": "display_data"
    },
    {
     "data": {
      "text/plain": "<IPython.core.display.HTML object>",
      "text/html": "Synced <strong style=\"color:#cdcd00\">misunderstood-monkey-82</strong>: <a href=\"https://wandb.ai/irodkin/my_utp/runs/f9mwtyov\" target=\"_blank\">https://wandb.ai/irodkin/my_utp/runs/f9mwtyov</a><br/>\n"
     },
     "metadata": {},
     "output_type": "display_data"
    }
   ],
   "source": [
    "wandb.init(project='my_utp', entity='irodkin', reinit=True, config=utp_conf)\n",
    "\n",
    "\n",
    "my_utp = MyUTP(**utp_conf)\n",
    "tm = DelayedFeedbackTM(**config_tm)\n",
    "\n",
    "representations = []\n",
    "prev = my_utp.getUnionSDR().dense.copy()\n",
    "for policy in data:\n",
    "    for i in range(20):\n",
    "        run(tm, my_utp, policy, state_encoder, action_encoder, True, prev)\n",
    "        representations.append(my_utp.getUnionSDR())\n",
    "    prev = my_utp.getUnionSDR().dense.copy()\n",
    "    my_utp.reset()\n",
    "\n",
    "wandb.finish(quiet=True)"
   ],
   "metadata": {
    "collapsed": false,
    "pycharm": {
     "name": "#%%\n"
    }
   }
  },
  {
   "cell_type": "code",
   "execution_count": 41,
   "outputs": [
    {
     "name": "stdout",
     "output_type": "stream",
     "text": [
      "1.0\n"
     ]
    },
    {
     "data": {
      "text/plain": "<Figure size 432x288 with 2 Axes>",
      "image/png": "[encoded data removed]"
     },
     "metadata": {
      "needs_background": "light"
     },
     "output_type": "display_data"
    }
   ],
   "source": [
    "def row_similarity(policy_1, policy_2):\n",
    "    counter = 0\n",
    "    for index in range(len(policy_1)):\n",
    "        if policy_1[index] == policy_2[index]:\n",
    "            counter += 1\n",
    "    return counter/len(policy_1)\n",
    "def representation_similarity(representation_1, representation_2):\n",
    "    return (representation_1*representation_2).nonzero()[0].size/(representation_1 | representation_2).nonzero()[0].size\n",
    "similarity_matrix = np.zeros((len(representations), len(representations)))\n",
    "\n",
    "for i, policy1 in enumerate(data):\n",
    "    for j, policy2 in enumerate(data):\n",
    "        similarity_matrix[i][j] = abs(\n",
    "            row_similarity(policy1, policy2)\n",
    "            -\n",
    "            representation_similarity(representations[i].dense, representations[j].dense)\n",
    "        )\n",
    "sns.heatmap(similarity_matrix, vmin=0, vmax=1, cmap='plasma')\n",
    "print(representation_similarity(representations[0].dense, representations[1].dense))\n",
    "# print(representations[0].dense.nonzero()[0])\n",
    "# print(representations[1].dense.nonzero()[0])"
   ],
   "metadata": {
    "collapsed": false,
    "pycharm": {
     "name": "#%%\n"
    }
   }
  },
  {
   "cell_type": "code",
   "execution_count": 82,
   "outputs": [
    {
     "name": "stdout",
     "output_type": "stream",
     "text": [
      "[]\n"
     ]
    }
   ],
   "source": [
    "a = np.zeros(5)\n",
    "a[0] = 1\n",
    "a[2] = 1\n",
    "b = np.ones(5)\n",
    "b[1] = 0\n",
    "print(representations_intersection_1(b, a))"
   ],
   "metadata": {
    "collapsed": false,
    "pycharm": {
     "name": "#%%\n"
    }
   }
  },
  {
   "cell_type": "code",
   "execution_count": null,
   "outputs": [],
   "source": [],
   "metadata": {
    "collapsed": false,
    "pycharm": {
     "name": "#%%\n"
    }
   }
  }
 ],
 "metadata": {
  "kernelspec": {
   "display_name": "Python 3",
   "language": "python",
   "name": "python3"
  },
  "language_info": {
   "codemirror_mode": {
    "name": "ipython",
    "version": 2
   },
   "file_extension": ".py",
   "mimetype": "text/x-python",
   "name": "python",
   "nbconvert_exporter": "python",
   "pygments_lexer": "ipython2",
   "version": "2.7.6"
  }
 },
 "nbformat": 4,
 "nbformat_minor": 0
}
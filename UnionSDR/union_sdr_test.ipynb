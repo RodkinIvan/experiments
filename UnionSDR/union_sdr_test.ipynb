{
 "cells": [
  {
   "cell_type": "code",
   "execution_count": 1,
   "outputs": [
    {
     "name": "stderr",
     "output_type": "stream",
     "text": [
      "\u001B[34m\u001B[1mwandb\u001B[0m: Currently logged in as: \u001B[33mirodkin\u001B[0m (use `wandb login --relogin` to force relogin)\n"
     ]
    },
    {
     "data": {
      "text/plain": "True"
     },
     "execution_count": 1,
     "metadata": {},
     "output_type": "execute_result"
    }
   ],
   "source": [
    "from htm.algorithms import TemporalMemory\n",
    "from htm_rl.modules.htm.temporal_memory import DelayedFeedbackTM\n",
    "from htm.bindings.sdr import SDR\n",
    "import numpy as np\n",
    "import matplotlib.pyplot as plt\n",
    "from htm_rl.modules.htm.spatial_pooler import UnionTemporalPooler\n",
    "import seaborn as sns\n",
    "\n",
    "import wandb\n",
    "wandb.login()"
   ],
   "metadata": {
    "collapsed": false,
    "pycharm": {
     "name": "#%%\n"
    }
   }
  },
  {
   "cell_type": "code",
   "execution_count": 24,
   "outputs": [
    {
     "data": {
      "text/plain": "<IPython.core.display.HTML object>",
      "text/html": "\n                    Syncing run <strong><a href=\"https://wandb.ai/irodkin/my_utp/runs/28v4q8v1\" target=\"_blank\">stoic-gorge-47</a></strong> to <a href=\"https://wandb.ai/irodkin/my_utp\" target=\"_blank\">Weights & Biases</a> (<a href=\"https://docs.wandb.com/integrations/jupyter.html\" target=\"_blank\">docs</a>).<br/>\n\n                "
     },
     "metadata": {},
     "output_type": "display_data"
    },
    {
     "data": {
      "text/plain": "<IPython.core.display.HTML object>",
      "text/html": "<br/>Waiting for W&B process to finish, PID 51092... <strong style=\"color:green\">(success).</strong>"
     },
     "metadata": {},
     "output_type": "display_data"
    },
    {
     "data": {
      "text/plain": "VBox(children=(Label(value=' 0.00MB of 0.00MB uploaded (0.00MB deduped)\\r'), FloatProgress(value=1.0, max=1.0)…",
      "application/vnd.jupyter.widget-view+json": {
       "version_major": 2,
       "version_minor": 0,
       "model_id": "044963f99d484ea2b76922c7e6c01b31"
      }
     },
     "metadata": {},
     "output_type": "display_data"
    },
    {
     "data": {
      "text/plain": "<IPython.core.display.HTML object>",
      "text/html": "<style>\n    table.wandb td:nth-child(1) { padding: 0 10px; text-align: right }\n    .wandb-row { display: flex; flex-direction: row; flex-wrap: wrap; width: 100% }\n    .wandb-col { display: flex; flex-direction: column; flex-basis: 100%; flex: 1; padding: 10px; }\n    </style>\n<div class=\"wandb-row\"><div class=\"wandb-col\">\n<h3>Run history:</h3><br/><table class=\"wandb\"><tr><td>difference</td><td>▄▇▆█▄▅▃▃▄▂▄▂▄▁▄▂▂▃▁▃▂▄▃▃▄▂▄▁▄▂▄▄▂▄▂▅▂▄▁▄</td></tr></table><br/></div><div class=\"wandb-col\">\n<h3>Run summary:</h3><br/><table class=\"wandb\"><tr><td>difference</td><td>0.18182</td></tr></table>\n</div></div>\nSynced 4 W&B file(s), 0 media file(s), 0 artifact file(s) and 0 other file(s)\n<br/>Synced <strong style=\"color:#cdcd00\">stoic-gorge-47</strong>: <a href=\"https://wandb.ai/irodkin/my_utp/runs/28v4q8v1\" target=\"_blank\">https://wandb.ai/irodkin/my_utp/runs/28v4q8v1</a><br/>\nFind logs at: <code>./wandb/run-20220125_012457-28v4q8v1/logs</code><br/>\n"
     },
     "metadata": {},
     "output_type": "display_data"
    }
   ],
   "source": [
    "from configs import *  # I'm so sorry for this...\n",
    "\n",
    "tm = DelayedFeedbackTM(**config_tm)\n",
    "tp = UnionTemporalPooler(**config_tp)\n",
    "\n",
    "\n",
    "def make_sdr(pos: tuple, _shape: tuple) -> SDR:\n",
    "    result = SDR(_shape)\n",
    "    numpy_res = result.dense\n",
    "    numpy_res = np.zeros(_shape)\n",
    "    numpy_res[pos] = 1\n",
    "    result.dense = numpy_res\n",
    "    return result\n",
    "\n",
    "\n",
    "def make_sdrs(array: np.ndarray, _shape: tuple) -> np.ndarray:\n",
    "    result = np.ndarray((array.size,), dtype=SDR)\n",
    "    iterator = 0\n",
    "    for number in array:\n",
    "        result[iterator] = make_sdr(number, _shape)\n",
    "        iterator += 1\n",
    "    return result\n",
    "\n",
    "\n",
    "def learn_model(tm: TemporalMemory, sdrs: np.ndarray, num_epochs=10) -> list:\n",
    "    errors = []\n",
    "    for epoch in range(num_epochs):\n",
    "        for sdr in sdrs:\n",
    "            tm.compute(sdr, learn=True)\n",
    "            tm.activateDendrites(True)\n",
    "            errors.append(tm.anomaly)\n",
    "        tm.compute(SDR(sdrs[0].dense.shape), learn=False)\n",
    "    return errors\n",
    "\n",
    "\n",
    "def generate_data(n, n_actions, n_states, randomness=1.0, seed=0):\n",
    "    raw_data = list()\n",
    "    np.random.seed(seed)\n",
    "    seed_seq = np.random.randint(0, n_actions, n_states)\n",
    "    raw_data.append(seed_seq.copy())\n",
    "    n_replace = int(n_states * randomness)\n",
    "    for i in range(1, n):\n",
    "        new_seq = np.random.randint(0, n_actions, n_states)\n",
    "        if randomness == 1.0:\n",
    "            raw_data.append(new_seq)\n",
    "        else:\n",
    "            indices = np.random.randint(0, n_states, n_replace)\n",
    "            seed_seq[indices] = new_seq[indices]\n",
    "            raw_data.append(seed_seq.copy())\n",
    "    data = [list(zip(range(n_states), x)) for x in raw_data]\n",
    "    return raw_data, data\n",
    "\n",
    "\n",
    "def compute(tm, state, action, learn=True):\n",
    "    context = state_encoder.encode(state)\n",
    "    active_input = action_encoder.encode(action)\n",
    "\n",
    "    tm.set_active_context_cells(context)\n",
    "\n",
    "    tm.activate_basal_dendrites(learn)\n",
    "    tm.predict_cells()\n",
    "\n",
    "    tm.set_active_columns(active_input)\n",
    "    tm.activate_cells(learn)\n",
    "\n",
    "\n",
    "\n",
    "\n",
    "def symmetric_diff_sz(set1: np.ndarray, set2: np.ndarray) -> int:\n",
    "    return np.setdiff1d(set1, set2).size + np.setdiff1d(set2, set1).size\n",
    "\n",
    "def symmetric_error(_output, _target):\n",
    "    return symmetric_diff_sz(_output, _target) / np.union1d(_output, _target).size\n",
    "\n",
    "\n",
    "def run(_tm, _tp, policy, _state_encoder, _action_encoder, learn=True):\n",
    "\n",
    "    tp_prev_union = _tp.getUnionSDR().sparse.copy()\n",
    "    tp_input = SDR(_tp.getNumInputs())\n",
    "    tp_predictive = SDR(_tp.getNumInputs())\n",
    "    window_size = 1\n",
    "    window_error = 0\n",
    "    counter = 0\n",
    "    for state, action in policy:\n",
    "        context = _state_encoder.encode(state)\n",
    "        active_input = _action_encoder.encode(action)\n",
    "\n",
    "        _tm.set_active_context_cells(context)\n",
    "\n",
    "        _tm.activate_basal_dendrites(learn)\n",
    "\n",
    "        _tm.set_active_feedback_cells(_tp.getUnionSDR().sparse)\n",
    "        _tm.activate_apical_dendrites(learn)\n",
    "        _tm.propagate_feedback()\n",
    "\n",
    "        _tm.predict_cells()\n",
    "\n",
    "        _tm.set_active_columns(active_input)\n",
    "        _tm.activate_cells(learn)\n",
    "\n",
    "        tp_input.sparse = _tm.get_active_cells()\n",
    "        tp_predictive.sparse = _tm.get_correctly_predicted_cells()\n",
    "        _tp.compute(tp_input, tp_predictive, learn) ####\n",
    "\n",
    "        current_union = _tp.getUnionSDR().sparse.copy()\n",
    "\n",
    "        window_error += symmetric_error(current_union, tp_prev_union)\n",
    "\n",
    "        if counter % window_size == window_size - 1:\n",
    "            wandb.log({'difference' : (window_error / window_size)})\n",
    "            window_error = 0\n",
    "        tp_prev_union = current_union.copy()\n",
    "\n",
    "        counter += 1\n",
    "\n",
    "\n",
    "\n",
    "row_data, data = generate_data(4, n_actions, n_states)\n",
    "errors = []\n",
    "wandb.init(project='my_utp', entity='irodkin', reinit=True)\n",
    "\n",
    "for i in range(100):\n",
    "    run(tm, tp, data[0], state_encoder, action_encoder, True)\n",
    "wandb.finish()\n",
    "# print(errors)"
   ],
   "metadata": {
    "collapsed": false,
    "pycharm": {
     "name": "#%%\n"
    }
   }
  },
  {
   "cell_type": "code",
   "execution_count": null,
   "outputs": [],
   "source": [
    "\n",
    "# print(f'row: {row_data[:1]}\\n')\n",
    "# print(f'data: {data[:1]}\\n')"
   ],
   "metadata": {
    "collapsed": false,
    "pycharm": {
     "name": "#%%\n"
    }
   }
  },
  {
   "cell_type": "code",
   "execution_count": null,
   "outputs": [],
   "source": [
    "tm = DelayedFeedbackTM(**config_tm)\n",
    "tp = UnionTemporalPooler(**config_tp)\n",
    "errors = run(tm, tp, data[0], state_encoder, action_encoder)\n",
    "# print(data)\n",
    "# print(errors)"
   ],
   "metadata": {
    "collapsed": false,
    "pycharm": {
     "name": "#%%\n"
    }
   }
  },
  {
   "cell_type": "code",
   "execution_count": 11,
   "outputs": [
    {
     "data": {
      "text/plain": "Text(0.5, 1.0, 'tp_one_policy_errors')"
     },
     "execution_count": 11,
     "metadata": {},
     "output_type": "execute_result"
    },
    {
     "data": {
      "text/plain": "<Figure size 432x288 with 1 Axes>",
      "image/png": "[encoded data removed]"
     },
     "metadata": {
      "needs_background": "light"
     },
     "output_type": "display_data"
    }
   ],
   "source": [
    "plt.plot(range(len(errors)), errors)\n",
    "plt.title('tp_one_policy_errors')"
   ],
   "metadata": {
    "collapsed": false,
    "pycharm": {
     "name": "#%%\n"
    }
   }
  },
  {
   "cell_type": "code",
   "execution_count": 25,
   "outputs": [
    {
     "data": {
      "text/plain": "<IPython.core.display.HTML object>",
      "text/html": "\n                    Syncing run <strong><a href=\"https://wandb.ai/irodkin/my_utp/runs/ms1ihj4n\" target=\"_blank\">lyric-galaxy-48</a></strong> to <a href=\"https://wandb.ai/irodkin/my_utp\" target=\"_blank\">Weights & Biases</a> (<a href=\"https://docs.wandb.com/integrations/jupyter.html\" target=\"_blank\">docs</a>).<br/>\n\n                "
     },
     "metadata": {},
     "output_type": "display_data"
    },
    {
     "data": {
      "text/plain": "<IPython.core.display.HTML object>",
      "text/html": "Waiting for W&B process to finish, PID 51506... <strong style=\"color:green\">(success).</strong>"
     },
     "metadata": {},
     "output_type": "display_data"
    },
    {
     "data": {
      "text/plain": "VBox(children=(Label(value=' 0.00MB of 0.00MB uploaded (0.00MB deduped)\\r'), FloatProgress(value=1.0, max=1.0)…",
      "application/vnd.jupyter.widget-view+json": {
       "version_major": 2,
       "version_minor": 0,
       "model_id": "514657fb012b470390f92cd87a5d3f81"
      }
     },
     "metadata": {},
     "output_type": "display_data"
    },
    {
     "data": {
      "text/plain": "<IPython.core.display.HTML object>",
      "text/html": "Synced <strong style=\"color:#cdcd00\">lyric-galaxy-48</strong>: <a href=\"https://wandb.ai/irodkin/my_utp/runs/ms1ihj4n\" target=\"_blank\">https://wandb.ai/irodkin/my_utp/runs/ms1ihj4n</a><br/>\n"
     },
     "metadata": {},
     "output_type": "display_data"
    }
   ],
   "source": [
    "from configs import *\n",
    "class MyUTP:\n",
    "    _initial_pooling = 1\n",
    "    _pooling_decay = 0.1\n",
    "\n",
    "\n",
    "    def __init__(self, **utp_config):\n",
    "        input_shape = utp_config['inputDimensions']\n",
    "        output_shape = utp_config['columnDimensions']\n",
    "        out_size = np.prod(output_shape)\n",
    "        in_size = np.prod(input_shape)\n",
    "        self._union_sdr = SDR(output_shape)\n",
    "        self._pooling_activations = np.zeros(output_shape)\n",
    "        self._shape = output_shape\n",
    "        self._initial_pooling = utp_config['initial_pooling']\n",
    "        self._pooling_decay = utp_config['pooling_decay']\n",
    "        self._permanence_inc = utp_config['permanence_inc']\n",
    "        self._permanence_dec = utp_config['permanence_dec']\n",
    "        self.winners_num = int(np.ceil(utp_config['sparsity']*out_size))\n",
    "        self.active_weight = utp_config['active_weight']\n",
    "        self.predicted_weight = utp_config['predicted_weight']\n",
    "        self.input_dimensions = input_shape\n",
    "\n",
    "        self.connections = np.zeros((out_size, in_size), dtype=float)\n",
    "\n",
    "\n",
    "    def pooling_decay_step(self):\n",
    "        self._pooling_activations[self._pooling_activations != 0] -= self._pooling_decay\n",
    "        self._pooling_activations = self._pooling_activations.clip(0, float('inf'))\n",
    "\n",
    "    def get_active_cells(self, data: np.ndarray) -> SDR:\n",
    "        tie_breaker = np.random.normal(0, 0.01, self._shape)\n",
    "        activations = self.connections @ data + tie_breaker\n",
    "\n",
    "        most_active = np.argpartition(activations.flatten(), -self.winners_num)[-self.winners_num:]\n",
    "        result_sdr = SDR(self._shape)\n",
    "        result_sdr.sparse = most_active\n",
    "        return result_sdr\n",
    "\n",
    "    def update_permanences(self, data: np.ndarray):\n",
    "        self.connections[:, np.flatnonzero(data)] -= self._permanence_dec\n",
    "\n",
    "        active_synapses = np.ix_(self._union_sdr.sparse, np.flatnonzero(data))\n",
    "        self.connections[active_synapses] += self._permanence_inc + self._permanence_dec\n",
    "\n",
    "        self.connections = self.connections.clip(0, 1)\n",
    "\n",
    "    def compute(self, active_neurons: SDR, predicted_neurons: SDR, learn: bool = True):\n",
    "        weighted_input = active_neurons.dense*self.active_weight + predicted_neurons.dense*self.predicted_weight\n",
    "        winners = self.get_active_cells(weighted_input)\n",
    "        self.pooling_decay_step()\n",
    "        self._pooling_activations[winners.sparse] += self._initial_pooling\n",
    "        self._union_sdr.dense = self._pooling_activations != 0\n",
    "\n",
    "        if learn:\n",
    "            self.update_permanences(active_neurons.dense)\n",
    "\n",
    "    def getUnionSDR(self):\n",
    "        return self._union_sdr\n",
    "\n",
    "    def getNumInputs(self):\n",
    "        return self.input_dimensions\n",
    "\n",
    "def get_data(num, _classes_num = 25):\n",
    "    _data = np.zeros(_classes_num)\n",
    "    _data[num] = 1\n",
    "    return _data\n",
    "\n",
    "\n",
    "\n",
    "cells_per_column = 35\n",
    "utp_conf = {\n",
    "    'inputDimensions': [input_columns * cells_per_column],\n",
    "    'columnDimensions': [output_columns],\n",
    "    'initial_pooling': 1,\n",
    "    'pooling_decay': 0.4,\n",
    "    'permanence_inc': 0.2,\n",
    "    'permanence_dec': 0.4,\n",
    "    'sparsity': 0.04,\n",
    "    'active_weight': 0.5,\n",
    "    'predicted_weight': 2,\n",
    "}\n",
    "np.random.seed(42)\n",
    "tp_shape = utp_conf['columnDimensions']\n",
    "in_shape = utp_conf['inputDimensions']\n",
    "my_utp = MyUTP(**utp_conf)\n",
    "prev = np.zeros(utp_conf['columnDimensions'])\n",
    "\n",
    "classes_num = utp_conf['inputDimensions']\n",
    "\n",
    "wandb.init(project='my_utp', entity='irodkin', reinit=True)\n",
    "\n",
    "for i in range(100):\n",
    "    run(tm, my_utp, data[0], state_encoder, action_encoder, True)\n",
    "\n",
    "wandb.finish(quiet=True)"
   ],
   "metadata": {
    "collapsed": false,
    "pycharm": {
     "name": "#%%\n"
    }
   }
  },
  {
   "cell_type": "code",
   "execution_count": 30,
   "outputs": [
    {
     "data": {
      "text/plain": "<AxesSubplot:title={'center':'pooling activations'}>"
     },
     "execution_count": 30,
     "metadata": {},
     "output_type": "execute_result"
    },
    {
     "data": {
      "text/plain": "<Figure size 432x288 with 2 Axes>",
      "image/png": "[encoded data removed]"
     },
     "metadata": {
      "needs_background": "light"
     },
     "output_type": "display_data"
    }
   ],
   "source": [
    "plt.title('pooling activations')\n",
    "sns.heatmap(my_utp._pooling_activations.reshape(-1, 80),vmin=0, vmax=1, cmap='plasma')"
   ],
   "metadata": {
    "collapsed": false,
    "pycharm": {
     "name": "#%%\n"
    }
   }
  },
  {
   "cell_type": "code",
   "execution_count": 32,
   "outputs": [
    {
     "name": "stdout",
     "output_type": "stream",
     "text": [
      "0.04975\n"
     ]
    }
   ],
   "source": [
    "print(my_utp.getUnionSDR().dense.nonzero()[0].size/output_columns)"
   ],
   "metadata": {
    "collapsed": false,
    "pycharm": {
     "name": "#%%\n"
    }
   }
  },
  {
   "cell_type": "code",
   "execution_count": 14,
   "outputs": [
    {
     "data": {
      "text/plain": "<IPython.core.display.HTML object>",
      "text/html": "<br/>Waiting for W&B process to finish, PID 48837... <strong style=\"color:green\">(success).</strong>"
     },
     "metadata": {},
     "output_type": "display_data"
    },
    {
     "data": {
      "text/plain": "VBox(children=(Label(value=' 0.00MB of 0.00MB uploaded (0.00MB deduped)\\r'), FloatProgress(value=1.0, max=1.0)…",
      "application/vnd.jupyter.widget-view+json": {
       "version_major": 2,
       "version_minor": 0,
       "model_id": "9654a3747ed4463486ad339140efe2f4"
      }
     },
     "metadata": {},
     "output_type": "display_data"
    },
    {
     "data": {
      "text/plain": "<IPython.core.display.HTML object>",
      "text/html": "<style>\n    table.wandb td:nth-child(1) { padding: 0 10px; text-align: right }\n    .wandb-row { display: flex; flex-direction: row; flex-wrap: wrap; width: 100% }\n    .wandb-col { display: flex; flex-direction: column; flex-basis: 100%; flex: 1; padding: 10px; }\n    </style>\n<div class=\"wandb-row\"><div class=\"wandb-col\">\n<h3>Run history:</h3><br/><table class=\"wandb\"><tr><td>difference</td><td>▁▁▁▁▁▁▁▁▁▁▁▁▁▁▁▁▁▁▁▁▁▁▁▁▁▁▁▁▁▁▁▁▁▁▁▁▁▁▁▁</td></tr></table><br/></div><div class=\"wandb-col\">\n<h3>Run summary:</h3><br/><table class=\"wandb\"><tr><td>difference</td><td>0.0</td></tr></table>\n</div></div>\nSynced 5 W&B file(s), 0 media file(s), 0 artifact file(s) and 0 other file(s)\n<br/>Synced <strong style=\"color:#cdcd00\">radiant-capybara-29</strong>: <a href=\"https://wandb.ai/irodkin/my_utp/runs/pa1mxaa7\" target=\"_blank\">https://wandb.ai/irodkin/my_utp/runs/pa1mxaa7</a><br/>\nFind logs at: <code>./wandb/run-20220125_010413-pa1mxaa7/logs</code><br/>\n"
     },
     "metadata": {},
     "output_type": "display_data"
    }
   ],
   "source": [
    "wandb.finish()"
   ],
   "metadata": {
    "collapsed": false,
    "pycharm": {
     "name": "#%%\n"
    }
   }
  },
  {
   "cell_type": "code",
   "execution_count": null,
   "outputs": [],
   "source": [],
   "metadata": {
    "collapsed": false,
    "pycharm": {
     "name": "#%%\n"
    }
   }
  }
 ],
 "metadata": {
  "kernelspec": {
   "display_name": "Python 3",
   "language": "python",
   "name": "python3"
  },
  "language_info": {
   "codemirror_mode": {
    "name": "ipython",
    "version": 2
   },
   "file_extension": ".py",
   "mimetype": "text/x-python",
   "name": "python",
   "nbconvert_exporter": "python",
   "pygments_lexer": "ipython2",
   "version": "2.7.6"
  }
 },
 "nbformat": 4,
 "nbformat_minor": 0
}
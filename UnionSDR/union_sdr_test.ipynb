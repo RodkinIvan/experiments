{
 "cells": [
  {
   "cell_type": "code",
   "execution_count": 1,
   "outputs": [],
   "source": [
    "from htm.algorithms import TemporalMemory\n",
    "from htm_rl.modules.htm.temporal_memory import DelayedFeedbackTM\n",
    "from htm_rl.common.sdr_encoders import IntBucketEncoder\n",
    "from htm.bindings.sdr import SDR\n",
    "import numpy as np\n",
    "import matplotlib.pyplot as plt\n",
    "from htm_rl.modules.htm.spatial_pooler import UnionTemporalPooler"
   ],
   "metadata": {
    "collapsed": false,
    "pycharm": {
     "name": "#%%\n"
    }
   }
  },
  {
   "cell_type": "code",
   "execution_count": 15,
   "outputs": [],
   "source": [
    "def make_sdr(pos: tuple, _shape: tuple) -> SDR:\n",
    "    result = SDR(_shape)\n",
    "    numpy_res = result.dense\n",
    "    numpy_res = np.zeros(_shape)\n",
    "    numpy_res[pos] = 1\n",
    "    result.dense = numpy_res\n",
    "    return result\n",
    "\n",
    "def make_sdrs(array: np.ndarray, _shape: tuple) -> np.ndarray:\n",
    "    result = np.ndarray((array.size,), dtype=SDR)\n",
    "    iterator = 0\n",
    "    for number in array:\n",
    "        result[iterator] = make_sdr(number, _shape)\n",
    "        iterator += 1\n",
    "    return result\n",
    "\n",
    "def learn_model(tm: TemporalMemory, sdrs: np.ndarray, num_epochs=10) -> list:\n",
    "    errors = []\n",
    "    for epoch in range(num_epochs):\n",
    "        for sdr in sdrs:\n",
    "            tm.compute(sdr, learn=True)\n",
    "            tm.activateDendrites(True)\n",
    "            errors.append(tm.anomaly)\n",
    "        tm.compute(SDR(sdrs[0].dense.shape), learn=False)\n",
    "    return errors\n",
    "\n",
    "def generate_data(n, n_actions, n_states, randomness=1.0, seed=0):\n",
    "    raw_data = list()\n",
    "    np.random.seed(seed)\n",
    "    seed_seq = np.random.randint(0, n_actions, n_states)\n",
    "    raw_data.append(seed_seq.copy())\n",
    "    n_replace = int(n_states * randomness)\n",
    "    for i in range(1, n):\n",
    "        new_seq = np.random.randint(0, n_actions, n_states)\n",
    "        if randomness == 1.0:\n",
    "            raw_data.append(new_seq)\n",
    "        else:\n",
    "            indices = np.random.randint(0, n_states, n_replace)\n",
    "            seed_seq[indices] = new_seq[indices]\n",
    "            raw_data.append(seed_seq.copy())\n",
    "    data = [list(zip(range(n_states), x)) for x in raw_data]\n",
    "    return raw_data, data\n",
    "def compute(tm, state, action, learn=True):\n",
    "    context = state_encoder.encode(state)\n",
    "    active_input = action_encoder.encode(action)\n",
    "\n",
    "    tm.set_active_context_cells(context)\n",
    "\n",
    "    tm.activate_basal_dendrites(learn)\n",
    "    tm.predict_cells()\n",
    "\n",
    "    tm.set_active_columns(active_input)\n",
    "    tm.activate_cells(learn)\n",
    "def run(tm, policy, state_encoder, action_encoder,  learn=True):\n",
    "    for state, action in policy:\n",
    "        context = state_encoder.encode(state)\n",
    "        active_input = action_encoder.encode(action)\n",
    "\n",
    "        tm.set_active_context_cells(context)\n",
    "\n",
    "        tm.activate_basal_dendrites(learn)\n",
    "        tm.predict_cells()\n",
    "\n",
    "        tm.set_active_columns(active_input)\n",
    "        tm.activate_cells(learn)\n",
    "\n",
    "\n"
   ],
   "metadata": {
    "collapsed": false,
    "pycharm": {
     "name": "#%%\n"
    }
   }
  },
  {
   "cell_type": "code",
   "execution_count": 4,
   "outputs": [
    {
     "name": "stdout",
     "output_type": "stream",
     "text": [
      "row: [array([0, 3, 1, 0, 3, 3, 3, 3, 1, 3])]\n",
      "\n",
      "data: [[(0, 0), (1, 3), (2, 1), (3, 0), (4, 3), (5, 3), (6, 3), (7, 3), (8, 1), (9, 3)]]\n",
      "\n"
     ]
    }
   ],
   "source": [
    "shape = (4,)\n",
    "cells_per_col = 4\n",
    "\n",
    "row_data, data = generate_data(4, shape[0], 10)\n",
    "print(f'row: {row_data[:1]}\\n')\n",
    "print(f'data: {data[:1]}\\n')"
   ],
   "metadata": {
    "collapsed": false,
    "pycharm": {
     "name": "#%%\n"
    }
   }
  },
  {
   "cell_type": "code",
   "execution_count": 5,
   "outputs": [],
   "source": [
    "n_actions = 4\n",
    "action_bucket = 10\n",
    "n_states = 25\n",
    "state_bucket = 3\n",
    "action_encoder = IntBucketEncoder(n_actions, action_bucket)\n",
    "state_encoder = IntBucketEncoder(n_states, state_bucket)\n",
    "\n",
    "input_columns = action_encoder.output_sdr_size\n",
    "cells_per_column = 16\n",
    "output_columns = 4000\n",
    "output_union_sparsity = 0.01\n",
    "noise_tolerance_apical = 0.1\n",
    "learning_margin_apical = 0.2\n",
    "config_tm = dict(columns=input_columns,\n",
    "                 cells_per_column=cells_per_column,\n",
    "                 context_cells=state_encoder.output_sdr_size,\n",
    "                 feedback_cells=output_columns,\n",
    "                 activation_threshold_basal=state_bucket,\n",
    "                 learning_threshold_basal=state_bucket,\n",
    "                 activation_threshold_apical=int(\n",
    "                     output_union_sparsity * output_columns * (1 - noise_tolerance_apical)),\n",
    "                 learning_threshold_apical=int(\n",
    "                     output_union_sparsity * output_columns * (1 - learning_margin_apical)),\n",
    "                 connected_threshold_basal=0.5,\n",
    "                 permanence_increment_basal=0.1,\n",
    "                 permanence_decrement_basal=0.01,\n",
    "                 initial_permanence_basal=0.4,\n",
    "                 predicted_segment_decrement_basal=0.001,\n",
    "                 sample_size_basal=state_bucket,\n",
    "                 max_synapses_per_segment_basal=state_bucket,\n",
    "                 max_segments_per_cell_basal=32,\n",
    "                 connected_threshold_apical=0.5,\n",
    "                 permanence_increment_apical=0.1,\n",
    "                 permanence_decrement_apical=0.01,\n",
    "                 initial_permanence_apical=0.4,\n",
    "                 predicted_segment_decrement_apical=0.001,\n",
    "                 sample_size_apical=int(output_union_sparsity * output_columns),\n",
    "                 max_synapses_per_segment_apical=int(output_union_sparsity * output_columns),\n",
    "                 max_segments_per_cell_apical=32,\n",
    "                 prune_zero_synapses=True,\n",
    "                 timeseries=False,\n",
    "                 anomaly_window=1000,\n",
    "                 confidence_window=1000,\n",
    "                 noise_tolerance=0.0,\n",
    "                 sm_ac=0.99)"
   ],
   "metadata": {
    "collapsed": false,
    "pycharm": {
     "name": "#%%\n"
    }
   }
  },
  {
   "cell_type": "code",
   "execution_count": 16,
   "outputs": [
    {
     "name": "stdout",
     "output_type": "stream",
     "text": [
      "[[(0, 0), (1, 3), (2, 1), (3, 0), (4, 3), (5, 3), (6, 3), (7, 3), (8, 1), (9, 3)], [(0, 1), (1, 2), (2, 0), (3, 3), (4, 2), (5, 0), (6, 0), (7, 0), (8, 2), (9, 1)], [(0, 2), (1, 3), (2, 3), (3, 2), (4, 0), (5, 1), (6, 1), (7, 1), (8, 1), (9, 0)], [(0, 1), (1, 0), (2, 3), (3, 0), (4, 3), (5, 1), (6, 2), (7, 3), (8, 3), (9, 0)]]\n"
     ]
    }
   ],
   "source": [
    "# tm = TemporalMemory(\n",
    "#     columnDimensions=shape,\n",
    "#     cellsPerColumn=cells_per_col,\n",
    "#     minThreshold=1,\n",
    "#     activationThreshold=1,\n",
    "# )\n",
    "tm = DelayedFeedbackTM(**config_tm)\n",
    "\n",
    "errors = run(tm, data[0], state_encoder, action_encoder)\n",
    "print(data)"
   ],
   "metadata": {
    "collapsed": false,
    "pycharm": {
     "name": "#%%\n"
    }
   }
  },
  {
   "cell_type": "code",
   "execution_count": 7,
   "outputs": [
    {
     "ename": "NameError",
     "evalue": "name 'errors' is not defined",
     "output_type": "error",
     "traceback": [
      "\u001B[0;31m---------------------------------------------------------------------------\u001B[0m",
      "\u001B[0;31mNameError\u001B[0m                                 Traceback (most recent call last)",
      "\u001B[0;32m/tmp/ipykernel_89260/4098935326.py\u001B[0m in \u001B[0;36m<module>\u001B[0;34m\u001B[0m\n\u001B[0;32m----> 1\u001B[0;31m \u001B[0mplt\u001B[0m\u001B[0;34m.\u001B[0m\u001B[0mplot\u001B[0m\u001B[0;34m(\u001B[0m\u001B[0mrange\u001B[0m\u001B[0;34m(\u001B[0m\u001B[0mlen\u001B[0m\u001B[0;34m(\u001B[0m\u001B[0merrors\u001B[0m\u001B[0;34m)\u001B[0m\u001B[0;34m)\u001B[0m\u001B[0;34m,\u001B[0m \u001B[0merrors\u001B[0m\u001B[0;34m)\u001B[0m\u001B[0;34m\u001B[0m\u001B[0;34m\u001B[0m\u001B[0m\n\u001B[0m\u001B[1;32m      2\u001B[0m \u001B[0mplt\u001B[0m\u001B[0;34m.\u001B[0m\u001B[0mtitle\u001B[0m\u001B[0;34m(\u001B[0m\u001B[0;34m'tm_train_errors'\u001B[0m\u001B[0;34m)\u001B[0m\u001B[0;34m\u001B[0m\u001B[0;34m\u001B[0m\u001B[0m\n",
      "\u001B[0;31mNameError\u001B[0m: name 'errors' is not defined"
     ]
    }
   ],
   "source": [
    "plt.plot(range(len(errors)), errors)\n",
    "plt.title('tm_train_errors')"
   ],
   "metadata": {
    "collapsed": false,
    "pycharm": {
     "name": "#%%\n"
    }
   }
  },
  {
   "cell_type": "code",
   "execution_count": 33,
   "outputs": [],
   "source": [
    "tp = UnionTemporalPooler(\n",
    "    activeOverlapWeight=1.0,\n",
    "    predictedActiveOverlapWeight=1.0,\n",
    "    seed=42\n",
    ")"
   ],
   "metadata": {
    "collapsed": false,
    "pycharm": {
     "name": "#%%\n"
    }
   }
  },
  {
   "cell_type": "code",
   "execution_count": null,
   "outputs": [],
   "source": [],
   "metadata": {
    "collapsed": false,
    "pycharm": {
     "name": "#%%\n"
    }
   }
  }
 ],
 "metadata": {
  "kernelspec": {
   "display_name": "Python 3",
   "language": "python",
   "name": "python3"
  },
  "language_info": {
   "codemirror_mode": {
    "name": "ipython",
    "version": 2
   },
   "file_extension": ".py",
   "mimetype": "text/x-python",
   "name": "python",
   "nbconvert_exporter": "python",
   "pygments_lexer": "ipython2",
   "version": "2.7.6"
  }
 },
 "nbformat": 4,
 "nbformat_minor": 0
}